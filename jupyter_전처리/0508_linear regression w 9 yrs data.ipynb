{
 "cells": [
  {
   "cell_type": "markdown",
   "metadata": {},
   "source": [
    "# 회귀분석 on 평점 & 매출액\n",
    "### 네이버 api+영진위"
   ]
  },
  {
   "cell_type": "code",
   "execution_count": 1,
   "metadata": {},
   "outputs": [],
   "source": [
    "import numpy as np\n",
    "import pandas as pd\n",
    "import json\n",
    "import time"
   ]
  },
  {
   "cell_type": "code",
   "execution_count": 215,
   "metadata": {},
   "outputs": [],
   "source": [
    "df = pd.read_csv('C:/Python/movie-data-analysis/data/movie.csv', encoding='ms949', index_col=[0,1])"
   ]
  },
  {
   "cell_type": "code",
   "execution_count": 216,
   "metadata": {},
   "outputs": [],
   "source": [
    "# # 최근 3년간 데이터\n",
    "df = df.query('year>=2014')"
   ]
  },
  {
   "cell_type": "code",
   "execution_count": 217,
   "metadata": {},
   "outputs": [],
   "source": [
    "df.reset_index(inplace=True)"
   ]
  },
  {
   "cell_type": "code",
   "execution_count": 196,
   "metadata": {
    "collapsed": true
   },
   "outputs": [
    {
     "data": {
      "text/plain": [
       "['명량',\n",
       " '겨울왕국',\n",
       " '인터스텔라',\n",
       " '해적: 바다로 간 산적',\n",
       " '수상한 그녀',\n",
       " '변호인',\n",
       " '국제시장',\n",
       " '트랜스포머: 사라진 시대',\n",
       " '군도: 민란의 시대',\n",
       " '엣지 오브 투모로우',\n",
       " '엑스맨: 데이즈 오브 퓨처 패스트',\n",
       " '어메이징 스파이더맨 2',\n",
       " '타짜-신의 손',\n",
       " '혹성탈출: 반격의 서막',\n",
       " '캡틴 아메리카: 윈터 솔져',\n",
       " '역린',\n",
       " '님아, 그 강을 건너지 마오',\n",
       " '신의 한 수',\n",
       " '끝까지 간다',\n",
       " '비긴 어게인',\n",
       " '드래곤 길들이기 2',\n",
       " '표적',\n",
       " '메이즈 러너',\n",
       " '호빗: 다섯 군대 전투',\n",
       " '나의 사랑 나의 신부',\n",
       " '논스톱',\n",
       " '인투 더 스톰',\n",
       " '노아',\n",
       " '남자가 사랑할 때',\n",
       " '루시',\n",
       " '용의자',\n",
       " '기술자들',\n",
       " '나를 찾아줘',\n",
       " '제보자',\n",
       " '피끓는 청춘',\n",
       " '두근두근 내 인생',\n",
       " '우아한 거짓말',\n",
       " '300: 제국의 부활',\n",
       " '엑소더스: 신들과 왕들',\n",
       " '해무(海霧)',\n",
       " '인간중독',\n",
       " '말레피센트',\n",
       " '폼페이: 최후의 날',\n",
       " '퓨리',\n",
       " '드라큘라: 전설의 시작',\n",
       " '가디언즈 오브 갤럭시',\n",
       " '찌라시: 위험한 소문',\n",
       " '빅매치',\n",
       " '슬로우 비디오',\n",
       " '방황하는 칼날',\n",
       " '로보캅',\n",
       " '우리는 형제입니다',\n",
       " '애나벨',\n",
       " '헝거게임: 모킹제이',\n",
       " '월터의 상상은 현실이 된다',\n",
       " '카트',\n",
       " '관능의 법칙',\n",
       " '그랜드 부다페스트 호텔',\n",
       " '리오 2',\n",
       " '안녕, 헤이즐',\n",
       " '고질라',\n",
       " '트랜센던스',\n",
       " '상의원',\n",
       " '플랜맨',\n",
       " '우는 남자',\n",
       " '타잔 3D',\n",
       " '패션왕',\n",
       " '황제를 위하여',\n",
       " '더 울프 오브 월스트리트',\n",
       " '스텝 업: 올 인',\n",
       " '어바웃 타임',\n",
       " '몬스터',\n",
       " '눈의 여왕 2: 트롤의 마법거울',\n",
       " '노예 12년',\n",
       " '또 하나의 약속',\n",
       " '엔더스 게임',\n",
       " '소녀괴담',\n",
       " '조선미녀삼총사',\n",
       " '넛잡: 땅콩 도둑들',\n",
       " '마담 뺑덕',\n",
       " '썬더와 마법저택',\n",
       " '신이 보낸 사람',\n",
       " '다이버전트',\n",
       " '주온 : 끝의 시작',\n",
       " '좋은 친구들',\n",
       " '닌자터틀',\n",
       " '명탐정 코난 : 이차원의 저격수',\n",
       " '나의 독재자',\n",
       " '천재 강아지 미스터 피바디',\n",
       " '그녀',\n",
       " '하이힐',\n",
       " '선 오브 갓',\n",
       " '잭 라이언 : 코드네임 쉐도우',\n",
       " '극장판 포켓몬스터 베스트위시: 신의 속도 게노세크트, 뮤츠의 각성',\n",
       " '숲속으로',\n",
       " '레드카펫',\n",
       " '미녀와 야수',\n",
       " '비행기 2: 소방구조대',\n",
       " '프랑켄슈타인: 불멸의 영웅',\n",
       " '러브, 로지',\n",
       " '베테랑',\n",
       " '암살',\n",
       " '어벤져스: 에이지 오브 울트론',\n",
       " '국제시장',\n",
       " '내부자들',\n",
       " '사도',\n",
       " '킹스맨 : 시크릿 에이전트',\n",
       " '미션 임파서블: 로그네이션',\n",
       " '연평해전',\n",
       " '쥬라기 월드',\n",
       " '검은 사제들',\n",
       " '히말라야',\n",
       " '인사이드 아웃',\n",
       " '마션',\n",
       " '조선명탐정 : 사라진 놉의 딸',\n",
       " '매드 맥스: 분노의 도로',\n",
       " '인턴',\n",
       " '분노의 질주: 더 세븐',\n",
       " '터미네이터 제니시스',\n",
       " '스물',\n",
       " '극비수사',\n",
       " '앤트맨',\n",
       " '스타워즈: 깨어난 포스',\n",
       " '빅 히어로',\n",
       " '메이즈 러너: 스코치 트라이얼',\n",
       " '탐정 : 더 비기닝',\n",
       " '미니언즈',\n",
       " '스파이',\n",
       " '악의 연대기',\n",
       " '강남 1970',\n",
       " '뷰티 인사이드',\n",
       " '오늘의 연애',\n",
       " '테이큰 3',\n",
       " '007 스펙터',\n",
       " '이미테이션 게임',\n",
       " '샌 안드레아스',\n",
       " '쎄시봉',\n",
       " '더 폰',\n",
       " '위플래쉬',\n",
       " '대호',\n",
       " '마다가스카의 펭귄',\n",
       " '차이나타운',\n",
       " '장수상회',\n",
       " '성난 변호사',\n",
       " '간신',\n",
       " '박물관이 살아있다 : 비밀의 무덤',\n",
       " '그놈이다',\n",
       " '미쓰 와이프',\n",
       " '몬스터 호텔 2',\n",
       " '허삼관',\n",
       " '님아, 그 강을 건너지 마오',\n",
       " '살인의뢰',\n",
       " '손님',\n",
       " '인시디어스 3',\n",
       " '하트 오브 더 씨',\n",
       " '헝거게임: 더 파이널',\n",
       " '기술자들',\n",
       " '신데렐라',\n",
       " '픽셀',\n",
       " '열정같은소리하고있네',\n",
       " '특종: 량첸살인기',\n",
       " '서부전선',\n",
       " '채피',\n",
       " '극장판 요괴워치: 탄생의 비밀이다냥!',\n",
       " '헬머니',\n",
       " '도라에몽 : 스탠 바이 미',\n",
       " '위험한 상견례 2',\n",
       " '명탐정 코난 : 화염의 해바라기',\n",
       " '순수의 시대',\n",
       " '오피스',\n",
       " '협녀, 칼의 기억',\n",
       " '어린왕자',\n",
       " '무뢰한',\n",
       " '판타스틱 4',\n",
       " '뽀로로 극장판 컴퓨터 왕국 대모험',\n",
       " '내 심장을 쏴라',\n",
       " '소수의견',\n",
       " '그레이의 50가지 그림자',\n",
       " '홈',\n",
       " '경성학교: 사라진 소녀들',\n",
       " '치외법권',\n",
       " '아메리칸 스나이퍼',\n",
       " '에베레스트',\n",
       " '호빗: 다섯 군대 전투',\n",
       " '스폰지밥 3D',\n",
       " '극적인 하룻밤',\n",
       " '뮨: 달의 요정',\n",
       " '도리화가',\n",
       " '이터널 선샤인',\n",
       " '주피터 어센딩',\n",
       " '패딩턴',\n",
       " '오즈의 마법사: 돌아온 도로시',\n",
       " '런 올 나이트',\n",
       " '다이노 타임',\n",
       " '인서전트',\n",
       " '백 투 더 비기닝',\n",
       " '투모로우랜드',\n",
       " '스파이 브릿지',\n",
       " '개를 훔치는 완벽한 방법',\n",
       " '함정',\n",
       " '부산행',\n",
       " '검사외전',\n",
       " '캡틴 아메리카: 시빌 워',\n",
       " '밀정',\n",
       " '터널',\n",
       " '인천상륙작전',\n",
       " '럭키',\n",
       " '곡성',\n",
       " '덕혜옹주',\n",
       " '닥터 스트레인지',\n",
       " '마스터',\n",
       " '주토피아',\n",
       " '신비한 동물사전',\n",
       " '판도라',\n",
       " '아가씨',\n",
       " '쿵푸팬더3',\n",
       " '귀향',\n",
       " '데드풀',\n",
       " '나우 유 씨 미 2',\n",
       " '형',\n",
       " '엑스맨: 아포칼립스',\n",
       " '미스 페레그린과 이상한 아이들의 집',\n",
       " '히말라야',\n",
       " '제이슨 본',\n",
       " '도리를 찾아서',\n",
       " '아수라',\n",
       " '정글북',\n",
       " '마이펫의 이중생활',\n",
       " '라라랜드',\n",
       " '배트맨 대 슈퍼맨: 저스티스의 시작',\n",
       " '굿바이 싱글',\n",
       " '봉이 김선달',\n",
       " '레버넌트: 죽음에서 돌아온 자',\n",
       " '컨저링 2',\n",
       " '내부자들: 디 오리지널',\n",
       " '수어사이드 스쿼드',\n",
       " '인디펜던스 데이 : 리써전스',\n",
       " '탐정 홍길동: 사라진 마을',\n",
       " '벤허',\n",
       " '굿 다이노',\n",
       " '셜록: 유령신부',\n",
       " '특별수사: 사형수의 편지',\n",
       " '시간이탈자',\n",
       " '동주',\n",
       " '워크래프트: 전쟁의 서막',\n",
       " '스타트렉 비욘드',\n",
       " '미씽: 사라진 여자',\n",
       " '당신, 거기 있어줄래요',\n",
       " '라이트 아웃',\n",
       " '오빠생각',\n",
       " '날, 보러와요',\n",
       " '씽',\n",
       " '맨 인 더 다크',\n",
       " '고산자, 대동여지도',\n",
       " '미 비포 유',\n",
       " '매그니피센트 7',\n",
       " '갓 오브 이집트',\n",
       " '레전드 오브 타잔',\n",
       " '좋아해줘',\n",
       " '브리짓 존스의 베이비',\n",
       " '스플릿',\n",
       " '런던 해즈 폴른',\n",
       " '국가대표 2',\n",
       " '인페르노',\n",
       " '앵그리버드 더 무비',\n",
       " '그날의 분위기',\n",
       " '사냥',\n",
       " '널 기다리며',\n",
       " '설리: 허드슨강의 기적',\n",
       " '잭 리처: 네버 고 백',\n",
       " '로그 원: 스타워즈 스토리',\n",
       " '싱 스트리트',\n",
       " '아이스 에이지: 지구 대충돌',\n",
       " '몬스터 호텔 2',\n",
       " '메카닉: 리크루트',\n",
       " '고스트버스터즈',\n",
       " '거울나라의 앨리스',\n",
       " '가려진 시간',\n",
       " '명탐정 코난: 순흑의 악몽',\n",
       " '해어화',\n",
       " '계춘할망',\n",
       " '로봇, 소리',\n",
       " '스타워즈: 깨어난 포스',\n",
       " '빅쇼트',\n",
       " '헌츠맨: 윈터스 워',\n",
       " '나를 잊지 말아요',\n",
       " '나의 소녀시대',\n",
       " '조선마술사',\n",
       " '언더 워터',\n",
       " '클로버필드 10번지',\n",
       " '위자: 저주의 시작',\n",
       " '극장판 요괴워치: 염라대왕과 5개의 이야기다냥!',\n",
       " '아기배달부 스토크',\n",
       " '캐롤',\n",
       " '위대한 소원',\n",
       " '스포트라이트',\n",
       " '구스범스',\n",
       " '포인트 브레이크',\n",
       " '앨빈과 슈퍼밴드: 악동 어드벤처',\n",
       " '혼숨',\n",
       " '택시운전사',\n",
       " '신과함께-죄와 벌',\n",
       " '공조',\n",
       " '스파이더맨: 홈 커밍',\n",
       " '범죄도시',\n",
       " '군함도',\n",
       " '청년경찰',\n",
       " '더 킹',\n",
       " '미녀와 야수',\n",
       " '킹스맨: 골든 서클',\n",
       " '토르: 라그나로크',\n",
       " '꾼',\n",
       " '강철비',\n",
       " '남한산성',\n",
       " '미이라',\n",
       " '분노의 질주: 더 익스트림',\n",
       " '너의 이름은.',\n",
       " '슈퍼배드 3',\n",
       " '아이 캔 스피크',\n",
       " '캐리비안의 해적: 죽은 자는 말이 없다',\n",
       " '프리즌',\n",
       " '덩케르크',\n",
       " '가디언즈 오브 갤럭시 VOL. 2',\n",
       " '살인자의 기억법',\n",
       " '트랜스포머: 최후의 기사',\n",
       " '보안관',\n",
       " '조작된 도시',\n",
       " '보스 베이비',\n",
       " '재심',\n",
       " '박열',\n",
       " '모아나',\n",
       " '마스터',\n",
       " '로건',\n",
       " '원더 우먼',\n",
       " '겟 아웃',\n",
       " '혹성탈출: 종의 전쟁',\n",
       " '1987',\n",
       " '애나벨 : 인형의 주인',\n",
       " '노무현입니다',\n",
       " '저스티스 리그',\n",
       " '킬러의 보디가드',\n",
       " '콩: 스컬 아일랜드',\n",
       " '23 아이덴티티',\n",
       " '임금님의 사건수첩',\n",
       " '부라더',\n",
       " '기억의 밤',\n",
       " '해피 데스데이',\n",
       " '브이아이피',\n",
       " '특별시민',\n",
       " '에이리언: 커버넌트',\n",
       " '장산범',\n",
       " '악녀',\n",
       " '해빙',\n",
       " '라라랜드',\n",
       " '하루',\n",
       " '지오스톰',\n",
       " '스타워즈: 라스트 제다이',\n",
       " '불한당: 나쁜 놈들의 세상',\n",
       " '그것',\n",
       " '오리엔트 특급 살인',\n",
       " '대립군',\n",
       " '베이비 드라이버',\n",
       " '위대한 쇼맨',\n",
       " '뽀로로 극장판 공룡섬 대모험',\n",
       " '레지던트 이블: 파멸의 날',\n",
       " '공각기동대 : 고스트 인 더 쉘',\n",
       " '트롤',\n",
       " '패신저스',\n",
       " '씽',\n",
       " '아빠는 딸',\n",
       " '컨택트',\n",
       " '47 미터',\n",
       " '메리와 마녀의 꽃',\n",
       " '얼라이드',\n",
       " '발레리안: 천 개 행성의 도시',\n",
       " '그레이트 월',\n",
       " '침묵',\n",
       " '카3: 새로운 도전',\n",
       " '트리플 엑스 리턴즈',\n",
       " '리얼',\n",
       " '너의 췌장을 먹고 싶어',\n",
       " '라이프',\n",
       " '명탐정 코난:진홍의 연가',\n",
       " '히든 피겨스',\n",
       " '반드시 잡는다',\n",
       " '원라인',\n",
       " '터닝메카드W: 블랙미러의 부활',\n",
       " '스머프: 비밀의 숲',\n",
       " '로그 원: 스타워즈 스토리',\n",
       " '킹 아서: 제왕의 검',\n",
       " '극장판 포켓몬스터 너로 정했다!',\n",
       " '넛잡 2',\n",
       " '아메리칸 메이드',\n",
       " '러빙 빈센트',\n",
       " '보통사람',\n",
       " '대장 김창수',\n",
       " '눈의 여왕 3: 눈과 불의 마법대결',\n",
       " '어쌔신 크리드',\n",
       " '플립',\n",
       " '석조저택 살인사건',\n",
       " '신과함께-인과 연',\n",
       " '어벤져스: 인피니티 워',\n",
       " '보헤미안 랩소디',\n",
       " '미션 임파서블: 폴아웃',\n",
       " '신과함께-죄와 벌',\n",
       " '쥬라기 월드: 폴른 킹덤',\n",
       " '앤트맨과 와스프',\n",
       " '안시성',\n",
       " '블랙 팬서',\n",
       " '완벽한 타인',\n",
       " '1987',\n",
       " '독전',\n",
       " '공작',\n",
       " '베놈',\n",
       " '암수살인',\n",
       " '데드풀 2',\n",
       " '국가부도의 날',\n",
       " '코코',\n",
       " '아쿠아맨',\n",
       " '그것만이 내 세상',\n",
       " '마녀',\n",
       " '탐정: 리턴즈',\n",
       " '인크레더블 2',\n",
       " '서치',\n",
       " '너의 결혼식',\n",
       " '곤지암',\n",
       " '지금 만나러 갑니다',\n",
       " '목격자',\n",
       " '조선명탐정: 흡혈괴마의 비밀',\n",
       " '신비한 동물들과 그린델왈드의 범죄',\n",
       " '메이즈 러너: 데스 큐어',\n",
       " '맘마미아!2',\n",
       " '레디 플레이어 원',\n",
       " '명당',\n",
       " '협상',\n",
       " '마약왕',\n",
       " '쥬만지: 새로운 세계',\n",
       " '창궐',\n",
       " '성난황소',\n",
       " '도어락',\n",
       " '리틀 포레스트',\n",
       " '골든슬럼버',\n",
       " '램페이지',\n",
       " '궁합',\n",
       " '오션스8',\n",
       " '사라진 밤',\n",
       " '스윙키즈',\n",
       " '바람 바람 바람',\n",
       " 'PMC: 더 벙커',\n",
       " '범블비',\n",
       " '챔피언',\n",
       " '퍼시픽 림: 업라이징',\n",
       " '몬스터 호텔 3',\n",
       " '더 넌',\n",
       " '스카이스크래퍼',\n",
       " '염력',\n",
       " '월요일이 사라졌다',\n",
       " '인랑',\n",
       " '극장판 헬로카봇 : 백악기 시대',\n",
       " '레슬러',\n",
       " '상류사회',\n",
       " '물괴',\n",
       " '미쓰백',\n",
       " '신비아파트: 금빛 도깨비와 비밀의 동굴',\n",
       " '퍼스트맨',\n",
       " '스파이더맨: 뉴 유니버스',\n",
       " '위대한 쇼맨',\n",
       " '인시디어스4: 라스트 키',\n",
       " '그날, 바다',\n",
       " '툼레이더',\n",
       " '페르디난드',\n",
       " '버닝',\n",
       " '7년의 밤',\n",
       " '메가로돈',\n",
       " '콰이어트 플레이스',\n",
       " '호두까기 인형과 4개의 왕국',\n",
       " '셰이프 오브 워터: 사랑의 모양',\n",
       " '곰돌이 푸 다시 만나 행복해',\n",
       " '변산',\n",
       " '그린치',\n",
       " '스타 이즈 본',\n",
       " '동네사람들',\n",
       " '원더풀 고스트',\n",
       " '강철비',\n",
       " '흥부: 글로 세상을 바꾼 자',\n",
       " '명탐정 코난 : 제로의 집행인',\n",
       " '피터 래빗',\n",
       " '점박이 한반도의 공룡2 : 새로운 낙원',\n",
       " '패딩턴 2',\n",
       " '허스토리',\n",
       " '미드나잇 선',\n",
       " '덕구',\n",
       " '번 더 스테이지: 더 무비',\n",
       " '트루스 오어 데어',\n",
       " '커뮤터',\n",
       " '후드',\n",
       " '극장판 짱구는 못말려: 아뵤! 쿵후 보이즈 ~라면 대란~',\n",
       " '해리포터와 마법사의 돌',\n",
       " '모털 엔진',\n",
       " '바울']"
      ]
     },
     "execution_count": 196,
     "metadata": {},
     "output_type": "execute_result"
    }
   ],
   "source": [
    "# 영화 이름만 리스트에 담음\n",
    "movie_title = df['영화명'].values.tolist()\n",
    "movie_title"
   ]
  },
  {
   "cell_type": "code",
   "execution_count": 8,
   "metadata": {},
   "outputs": [],
   "source": [
    "import os\n",
    "import sys\n",
    "import urllib.request\n",
    "\n",
    "client_id = \"PAsKLiqEIeAcb0BGXcAv\"\n",
    "client_secret = \"toPoLTL6en\"\n",
    "movie = []"
   ]
  },
  {
   "cell_type": "code",
   "execution_count": 9,
   "metadata": {},
   "outputs": [],
   "source": [
    "# for i in range(900):\n",
    "#     encText = urllib.parse.quote(movie_title[i])\n",
    "\n",
    "#     url = \"https://openapi.naver.com/v1/search/movie?query=\" + encText # json 결과\n",
    "#     request = urllib.request.Request(url)\n",
    "#     request.add_header(\"X-Naver-Client-Id\",client_id)\n",
    "#     request.add_header(\"X-Naver-Client-Secret\",client_secret)\n",
    "#     response = urllib.request.urlopen(request)\n",
    "#     rescode = response.getcode()\n",
    "    \n",
    "#     if(rescode==200):\n",
    "#         response_body = response.read()\n",
    "#         movie.append(response_body.decode('utf-8'))\n",
    "#         time.sleep(1)\n",
    "#     else:\n",
    "#         print(\"Error Code:\" + rescode)"
   ]
  },
  {
   "cell_type": "code",
   "execution_count": 74,
   "metadata": {
    "scrolled": true
   },
   "outputs": [
    {
     "data": {
      "text/plain": [
       "900"
      ]
     },
     "execution_count": 74,
     "metadata": {},
     "output_type": "execute_result"
    }
   ],
   "source": [
    "len(movie)"
   ]
  },
  {
   "cell_type": "markdown",
   "metadata": {},
   "source": [
    "#### <font color=blue> 396번째 movie(헨젤과 그레텔: 마녀 사냥꾼 3D)에 문제 있어서 걔는 빼고 </font>"
   ]
  },
  {
   "cell_type": "code",
   "execution_count": 75,
   "metadata": {
    "collapsed": true
   },
   "outputs": [
    {
     "data": {
      "text/plain": [
       "{'lastBuildDate': 'Wed, 08 May 2019 11:03:15 +0900',\n",
       " 'total': 9,\n",
       " 'start': 1,\n",
       " 'display': 9,\n",
       " 'items': [{'title': '<b>롤러코스터</b>',\n",
       "   'link': 'https://movie.naver.com/movie/bi/mi/basic.nhn?code=100801',\n",
       "   'image': 'https://ssl.pstatic.net/imgmovie/mdi/mit110/1008/100801_P13_134332.jpg',\n",
       "   'subtitle': 'Fasten Your Seatbelt',\n",
       "   'pubDate': '2013',\n",
       "   'director': '하정우|',\n",
       "   'actor': '정경호|한성천|',\n",
       "   'userRating': '6.35'},\n",
       "  {'title': '<b>롤러코스터</b> 3',\n",
       "   'link': 'https://movie.naver.com/movie/bi/mi/basic.nhn?code=101250',\n",
       "   'image': 'https://ssl.pstatic.net/imgmovie/mdi/mit110/1012/101250_P01_181907.jpg',\n",
       "   'subtitle': '',\n",
       "   'pubDate': '2013',\n",
       "   'director': '',\n",
       "   'actor': '유상무|김지민|최종훈|안영미|강유미|양세찬|이용진|김성원|김영희|변서은|성현주|윤진영|',\n",
       "   'userRating': '6.75'},\n",
       "  {'title': '스윗<b>롤러코스터</b> : 케익위의 요정들',\n",
       "   'link': 'https://movie.naver.com/movie/bi/mi/basic.nhn?code=117177',\n",
       "   'image': 'https://ssl.pstatic.net/imgmovie/mdi/mit110/1171/117177_P01_174548.jpg',\n",
       "   'subtitle': 'Sweet Rollercoaster : The Fairies of Cake',\n",
       "   'pubDate': '2013',\n",
       "   'director': '',\n",
       "   'actor': '',\n",
       "   'userRating': '0.00'},\n",
       "  {'title': '<b>롤러코스터</b>',\n",
       "   'link': 'https://movie.naver.com/movie/bi/mi/basic.nhn?code=134014',\n",
       "   'image': 'https://ssl.pstatic.net/imgmovie/mdi/mit110/1340/134014_P01_155936.png',\n",
       "   'subtitle': 'Rollercoaster',\n",
       "   'pubDate': '2013',\n",
       "   'director': '마렉 말리코브스키|',\n",
       "   'actor': '',\n",
       "   'userRating': '0.00'},\n",
       "  {'title': '<b>롤러코스터</b> 2',\n",
       "   'link': 'https://movie.naver.com/movie/bi/mi/basic.nhn?code=102113',\n",
       "   'image': 'https://ssl.pstatic.net/imgmovie/mdi/mit110/1021/102113_P01_120857.jpg',\n",
       "   'subtitle': '',\n",
       "   'pubDate': '2012',\n",
       "   'director': '',\n",
       "   'actor': '이용주|박성호|백봉기|김호창|김재우|정진욱|최종훈|정경호|장시우|이일민|유상무|장도연|',\n",
       "   'userRating': '7.80'},\n",
       "  {'title': '<b>롤러코스터</b>',\n",
       "   'link': 'https://movie.naver.com/movie/bi/mi/basic.nhn?code=92168',\n",
       "   'image': 'https://ssl.pstatic.net/imgmovie/mdi/mit110/0921/92168_P01_201642.jpg',\n",
       "   'subtitle': '',\n",
       "   'pubDate': '2012',\n",
       "   'director': '반주원|',\n",
       "   'actor': '',\n",
       "   'userRating': '9.50'},\n",
       "  {'title': '신나는 <b>롤러코스터</b> 타기',\n",
       "   'link': 'https://movie.naver.com/movie/bi/mi/basic.nhn?code=90690',\n",
       "   'image': '',\n",
       "   'subtitle': '',\n",
       "   'pubDate': '2011',\n",
       "   'director': '김영운|',\n",
       "   'actor': '',\n",
       "   'userRating': '0.00'},\n",
       "  {'title': '바클레이카드 - <b>롤러코스터</b>',\n",
       "   'link': 'https://movie.naver.com/movie/bi/mi/basic.nhn?code=86597',\n",
       "   'image': 'https://ssl.pstatic.net/imgmovie/mdi/mit110/0865/86597_P01_161952.jpg',\n",
       "   'subtitle': 'Barclaycard - Rollercoaster',\n",
       "   'pubDate': '2010',\n",
       "   'director': '니콜라 퓰시|',\n",
       "   'actor': '',\n",
       "   'userRating': '0.00'},\n",
       "  {'title': '<b>롤러 코스터</b>',\n",
       "   'link': 'https://movie.naver.com/movie/bi/mi/basic.nhn?code=54791',\n",
       "   'image': 'https://ssl.pstatic.net/imgmovie/mdi/mit110/0547/54791_P01_183853.jpg',\n",
       "   'subtitle': 'Hollenritt',\n",
       "   'pubDate': '2008',\n",
       "   'director': '마틴 버스커|',\n",
       "   'actor': '아론 알타라스|루카스 엘머|',\n",
       "   'userRating': '0.00'}]}"
      ]
     },
     "execution_count": 75,
     "metadata": {},
     "output_type": "execute_result"
    }
   ],
   "source": [
    "json.loads(movie[395])"
   ]
  },
  {
   "cell_type": "code",
   "execution_count": 73,
   "metadata": {},
   "outputs": [
    {
     "data": {
      "text/plain": [
       "{'lastBuildDate': 'Wed, 08 May 2019 11:03:17 +0900',\n",
       " 'total': 0,\n",
       " 'start': 1,\n",
       " 'display': 0,\n",
       " 'items': []}"
      ]
     },
     "execution_count": 73,
     "metadata": {},
     "output_type": "execute_result"
    }
   ],
   "source": [
    "json.loads(movie[396])"
   ]
  },
  {
   "cell_type": "code",
   "execution_count": 76,
   "metadata": {},
   "outputs": [
    {
     "data": {
      "text/plain": [
       "{'lastBuildDate': 'Wed, 08 May 2019 11:03:18 +0900',\n",
       " 'total': 1,\n",
       " 'start': 1,\n",
       " 'display': 1,\n",
       " 'items': [{'title': '<b>파이스토리 : 악당상어 소탕작전</b>',\n",
       "   'link': 'https://movie.naver.com/movie/bi/mi/basic.nhn?code=100938',\n",
       "   'image': 'https://ssl.pstatic.net/imgmovie/mdi/mit110/1009/100938_P15_103229.jpg',\n",
       "   'subtitle': 'The Reef 2: High Tide',\n",
       "   'pubDate': '2012',\n",
       "   'director': '마크 A.Z. 디페|박태동|',\n",
       "   'actor': '드레이크 벨|앤디 딕|',\n",
       "   'userRating': '8.66'}]}"
      ]
     },
     "execution_count": 76,
     "metadata": {},
     "output_type": "execute_result"
    }
   ],
   "source": [
    "json.loads(movie[397])"
   ]
  },
  {
   "cell_type": "code",
   "execution_count": 218,
   "metadata": {},
   "outputs": [],
   "source": [
    "# rating 이라는 빈 리스트에 userRating만 담는다\n",
    "rating = []\n",
    "for i in range(500):\n",
    "    if i != 396:\n",
    "        rating.append(json.loads(movie[i])['items'][0]['userRating'])\n",
    "#rating"
   ]
  },
  {
   "cell_type": "code",
   "execution_count": 219,
   "metadata": {},
   "outputs": [
    {
     "data": {
      "text/plain": [
       "499"
      ]
     },
     "execution_count": 219,
     "metadata": {},
     "output_type": "execute_result"
    }
   ],
   "source": [
    "len(rating)"
   ]
  },
  {
   "cell_type": "code",
   "execution_count": 220,
   "metadata": {},
   "outputs": [],
   "source": [
    "df.drop([396], inplace=True)"
   ]
  },
  {
   "cell_type": "code",
   "execution_count": 222,
   "metadata": {},
   "outputs": [],
   "source": [
    "# 평점 컬럼에 추가\n",
    "df['평점'] = rating\n",
    "#df"
   ]
  },
  {
   "cell_type": "code",
   "execution_count": 223,
   "metadata": {},
   "outputs": [
    {
     "data": {
      "text/plain": [
       "74"
      ]
     },
     "execution_count": 223,
     "metadata": {},
     "output_type": "execute_result"
    }
   ],
   "source": [
    "# 111개의 평점은 문제가 있음\n",
    "df[df['평점']=='0.00']['영화명'].count()"
   ]
  },
  {
   "cell_type": "code",
   "execution_count": 224,
   "metadata": {},
   "outputs": [
    {
     "data": {
      "text/plain": [
       "Int64Index([  1,   8,   9,  10,  17,  19,  20,  21,  38,  46,  48,  69,  72,\n",
       "             76,  78,  89,  94, 111, 119, 123, 130, 132, 147, 159, 165, 166,\n",
       "            169, 173, 175, 178, 179, 184, 192, 197, 200, 203, 214, 221, 224,\n",
       "            227, 228, 276, 278, 285, 293, 302, 304, 309, 311, 314, 315, 316,\n",
       "            322, 323, 331, 336, 341, 344, 348, 369, 370, 374, 380, 387, 427,\n",
       "            428, 429, 443, 455, 458, 463, 466, 490, 495],\n",
       "           dtype='int64')"
      ]
     },
     "execution_count": 224,
     "metadata": {},
     "output_type": "execute_result"
    }
   ],
   "source": [
    "df[df['평점']=='0.00'].index"
   ]
  },
  {
   "cell_type": "code",
   "execution_count": 225,
   "metadata": {},
   "outputs": [
    {
     "data": {
      "text/plain": [
       "8"
      ]
     },
     "execution_count": 225,
     "metadata": {},
     "output_type": "execute_result"
    }
   ],
   "source": [
    "# 과감히 날려버리기\n",
    "df.drop(df.index[df[df['평점']=='0.00'].index], inplace=True)\n",
    "df[df['평점']=='0.00']['영화명'].count()"
   ]
  },
  {
   "cell_type": "code",
   "execution_count": 226,
   "metadata": {},
   "outputs": [
    {
     "data": {
      "text/plain": [
       "Int64Index([427, 443, 455, 458, 463, 466, 490, 495], dtype='int64')"
      ]
     },
     "execution_count": 226,
     "metadata": {},
     "output_type": "execute_result"
    }
   ],
   "source": [
    "df[df['평점']=='0.00'].index"
   ]
  },
  {
   "cell_type": "code",
   "execution_count": 227,
   "metadata": {},
   "outputs": [],
   "source": [
    "# df.drop([427], inplace=True)\n",
    "df.drop([427, 443, 455, 458, 463, 466, 490, 495], inplace=True)"
   ]
  },
  {
   "cell_type": "code",
   "execution_count": 228,
   "metadata": {},
   "outputs": [
    {
     "data": {
      "text/plain": [
       "Int64Index([], dtype='int64')"
      ]
     },
     "execution_count": 228,
     "metadata": {},
     "output_type": "execute_result"
    }
   ],
   "source": [
    "df[df['평점']=='0.00'].index"
   ]
  },
  {
   "cell_type": "code",
   "execution_count": 229,
   "metadata": {},
   "outputs": [],
   "source": [
    "from sklearn.linear_model import LinearRegression"
   ]
  },
  {
   "cell_type": "code",
   "execution_count": 230,
   "metadata": {},
   "outputs": [],
   "source": [
    "model = LinearRegression()"
   ]
  },
  {
   "cell_type": "code",
   "execution_count": 231,
   "metadata": {},
   "outputs": [],
   "source": [
    "x = np.array(df['평점'].values.astype(float).tolist())"
   ]
  },
  {
   "cell_type": "code",
   "execution_count": 232,
   "metadata": {},
   "outputs": [
    {
     "data": {
      "text/plain": [
       "(417,)"
      ]
     },
     "execution_count": 232,
     "metadata": {},
     "output_type": "execute_result"
    }
   ],
   "source": [
    "x.shape"
   ]
  },
  {
   "cell_type": "code",
   "execution_count": 233,
   "metadata": {},
   "outputs": [
    {
     "data": {
      "text/plain": [
       "(417, 1)"
      ]
     },
     "execution_count": 233,
     "metadata": {},
     "output_type": "execute_result"
    }
   ],
   "source": [
    "x = x.reshape(-1,1)\n",
    "x.shape"
   ]
  },
  {
   "cell_type": "code",
   "execution_count": 234,
   "metadata": {},
   "outputs": [
    {
     "data": {
      "text/plain": [
       "Index(['year', 'rank', 'index', '영화명', '개봉일', '매출액', '누적매출액', '관객수', '누적관객수',\n",
       "       '스크린수', '상영횟수', '대표국적', '제작사', '배급사', '등급', '장르', '감독', '배우', '평점'],\n",
       "      dtype='object')"
      ]
     },
     "execution_count": 234,
     "metadata": {},
     "output_type": "execute_result"
    }
   ],
   "source": [
    "df.columns"
   ]
  },
  {
   "cell_type": "code",
   "execution_count": 235,
   "metadata": {},
   "outputs": [],
   "source": [
    "import math\n",
    "\n",
    "y = df['매출액'].apply(lambda x: math.log(x))\n",
    "#y"
   ]
  },
  {
   "cell_type": "code",
   "execution_count": 236,
   "metadata": {},
   "outputs": [
    {
     "data": {
      "text/plain": [
       "LinearRegression(copy_X=True, fit_intercept=True, n_jobs=None,\n",
       "         normalize=False)"
      ]
     },
     "execution_count": 236,
     "metadata": {},
     "output_type": "execute_result"
    }
   ],
   "source": [
    "model.fit(x,y)"
   ]
  },
  {
   "cell_type": "code",
   "execution_count": 237,
   "metadata": {},
   "outputs": [
    {
     "name": "stdout",
     "output_type": "stream",
     "text": [
      "coefficient of determination: 0.013200071141140302\n"
     ]
    }
   ],
   "source": [
    "r_sq = model.score(x, y)\n",
    "print('coefficient of determination:', r_sq)"
   ]
  },
  {
   "cell_type": "code",
   "execution_count": 240,
   "metadata": {
    "scrolled": true
   },
   "outputs": [
    {
     "data": {
      "image/png": "[encoded data removed]",
      "text/plain": [
       "<Figure size 432x288 with 1 Axes>"
      ]
     },
     "metadata": {},
     "output_type": "display_data"
    }
   ],
   "source": [
    "import matplotlib.pyplot as plt\n",
    "plt.scatter(x,y,alpha=0.5)\n",
    "plt.title('score & sales')\n",
    "\n",
    "plt.xticks(())\n",
    "plt.yticks(())\n",
    "plt.xlabel('score')\n",
    "plt.ylabel('sales')\n",
    "\n",
    "plt.show()"
   ]
  },
  {
   "cell_type": "code",
   "execution_count": null,
   "metadata": {},
   "outputs": [],
   "source": []
  }
 ],
 "metadata": {
  "kernelspec": {
   "display_name": "Python 3",
   "language": "python",
   "name": "python3"
  },
  "language_info": {
   "codemirror_mode": {
    "name": "ipython",
    "version": 3
   },
   "file_extension": ".py",
   "mimetype": "text/x-python",
   "name": "python",
   "nbconvert_exporter": "python",
   "pygments_lexer": "ipython3",
   "version": "3.7.1"
  }
 },
 "nbformat": 4,
 "nbformat_minor": 2
}
