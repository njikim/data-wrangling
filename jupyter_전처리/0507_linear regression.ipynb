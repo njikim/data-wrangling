{
 "cells": [
  {
   "cell_type": "markdown",
   "metadata": {},
   "source": [
    "# 회귀분석 on 평점 & 매출액\n",
    "### 네이버 api+영진위"
   ]
  },
  {
   "cell_type": "code",
   "execution_count": 1,
   "metadata": {},
   "outputs": [],
   "source": [
    "import numpy as np\n",
    "import pandas as pd\n",
    "import json\n",
    "import time"
   ]
  },
  {
   "cell_type": "code",
   "execution_count": 31,
   "metadata": {},
   "outputs": [],
   "source": [
    "import warnings\n",
    "warnings.filterwarnings('ignore')"
   ]
  },
  {
   "cell_type": "code",
   "execution_count": 32,
   "metadata": {
    "collapsed": true
   },
   "outputs": [
    {
     "data": {
      "text/html": [
       "<div>\n",
       "<style scoped>\n",
       "    .dataframe tbody tr th:only-of-type {\n",
       "        vertical-align: middle;\n",
       "    }\n",
       "\n",
       "    .dataframe tbody tr th {\n",
       "        vertical-align: top;\n",
       "    }\n",
       "\n",
       "    .dataframe thead th {\n",
       "        text-align: right;\n",
       "    }\n",
       "</style>\n",
       "<table border=\"1\" class=\"dataframe\">\n",
       "  <thead>\n",
       "    <tr style=\"text-align: right;\">\n",
       "      <th></th>\n",
       "      <th></th>\n",
       "      <th>index</th>\n",
       "      <th>영화명</th>\n",
       "      <th>개봉일</th>\n",
       "      <th>매출액</th>\n",
       "      <th>누적매출액</th>\n",
       "      <th>관객수</th>\n",
       "      <th>누적관객수</th>\n",
       "      <th>스크린수</th>\n",
       "      <th>상영횟수</th>\n",
       "      <th>대표국적</th>\n",
       "      <th>제작사</th>\n",
       "      <th>배급사</th>\n",
       "      <th>등급</th>\n",
       "      <th>장르</th>\n",
       "      <th>감독</th>\n",
       "      <th>배우</th>\n",
       "    </tr>\n",
       "    <tr>\n",
       "      <th>year</th>\n",
       "      <th>rank</th>\n",
       "      <th></th>\n",
       "      <th></th>\n",
       "      <th></th>\n",
       "      <th></th>\n",
       "      <th></th>\n",
       "      <th></th>\n",
       "      <th></th>\n",
       "      <th></th>\n",
       "      <th></th>\n",
       "      <th></th>\n",
       "      <th></th>\n",
       "      <th></th>\n",
       "      <th></th>\n",
       "      <th></th>\n",
       "      <th></th>\n",
       "      <th></th>\n",
       "    </tr>\n",
       "  </thead>\n",
       "  <tbody>\n",
       "    <tr>\n",
       "      <th rowspan=\"5\" valign=\"top\">2010</th>\n",
       "      <th>1</th>\n",
       "      <td>0</td>\n",
       "      <td>아바타</td>\n",
       "      <td>2009-12-17</td>\n",
       "      <td>81455728000</td>\n",
       "      <td>124896892500</td>\n",
       "      <td>8151952</td>\n",
       "      <td>13302619</td>\n",
       "      <td>714</td>\n",
       "      <td>111860</td>\n",
       "      <td>미국</td>\n",
       "      <td>이십세기폭스필름코퍼레이션</td>\n",
       "      <td>주식회사 해리슨앤컴퍼니,이십세기폭스코리아(주)</td>\n",
       "      <td>12세이상관람가</td>\n",
       "      <td>SF,액션,어드벤처</td>\n",
       "      <td>제임스 카메론</td>\n",
       "      <td>샘 워싱턴,조 샐다나,시고니 위버</td>\n",
       "    </tr>\n",
       "    <tr>\n",
       "      <th>2</th>\n",
       "      <td>1</td>\n",
       "      <td>아저씨</td>\n",
       "      <td>2010-08-04</td>\n",
       "      <td>47101332000</td>\n",
       "      <td>47101332000</td>\n",
       "      <td>6178248</td>\n",
       "      <td>6178248</td>\n",
       "      <td>501</td>\n",
       "      <td>109853</td>\n",
       "      <td>한국</td>\n",
       "      <td>오퍼스픽쳐스(유)</td>\n",
       "      <td>씨제이엔터테인먼트</td>\n",
       "      <td>청소년관람불가</td>\n",
       "      <td>액션,드라마</td>\n",
       "      <td>이정범</td>\n",
       "      <td>원빈,김새론,김희원,김성오,김태훈,김호연,김성훈,김효민,김효서,신동민,홍석준,조영아...</td>\n",
       "    </tr>\n",
       "    <tr>\n",
       "      <th>3</th>\n",
       "      <td>2</td>\n",
       "      <td>인셉션</td>\n",
       "      <td>2010-07-21</td>\n",
       "      <td>43394990000</td>\n",
       "      <td>43394990000</td>\n",
       "      <td>5827444</td>\n",
       "      <td>5827444</td>\n",
       "      <td>531</td>\n",
       "      <td>81891</td>\n",
       "      <td>미국</td>\n",
       "      <td>워너 브러더스 픽쳐스,레젼데리 픽쳐스</td>\n",
       "      <td>워너브러더스 코리아(주)</td>\n",
       "      <td>12세이상관람가</td>\n",
       "      <td>드라마,미스터리</td>\n",
       "      <td>크리스토퍼 놀란</td>\n",
       "      <td>레오나르도 디카프리오,엘렌 페이지,마리온 꼬띨라르</td>\n",
       "    </tr>\n",
       "    <tr>\n",
       "      <th>4</th>\n",
       "      <td>3</td>\n",
       "      <td>의형제</td>\n",
       "      <td>2010-02-04</td>\n",
       "      <td>40153729000</td>\n",
       "      <td>40153729000</td>\n",
       "      <td>5416812</td>\n",
       "      <td>5416812</td>\n",
       "      <td>569</td>\n",
       "      <td>118243</td>\n",
       "      <td>한국</td>\n",
       "      <td>(주)쇼박스,(주)다세포클럽,루비콘픽쳐스㈜</td>\n",
       "      <td>(주)쇼박스</td>\n",
       "      <td>15세이상관람가</td>\n",
       "      <td>드라마,액션</td>\n",
       "      <td>장훈</td>\n",
       "      <td>송강호,강동원,전국환,박혁권,윤희석,최정우,정인기,설진욱,강명희,홍서백,박용진,김의...</td>\n",
       "    </tr>\n",
       "    <tr>\n",
       "      <th>5</th>\n",
       "      <td>4</td>\n",
       "      <td>아이언맨 2</td>\n",
       "      <td>2010-04-29</td>\n",
       "      <td>32635195500</td>\n",
       "      <td>32635195500</td>\n",
       "      <td>4425003</td>\n",
       "      <td>4425003</td>\n",
       "      <td>921</td>\n",
       "      <td>87665</td>\n",
       "      <td>미국</td>\n",
       "      <td>파라마운트 픽쳐스,마블 엔터프라이즈</td>\n",
       "      <td>씨제이엔터테인먼트</td>\n",
       "      <td>12세이상관람가</td>\n",
       "      <td>SF,액션,어드벤처</td>\n",
       "      <td>존 파브로</td>\n",
       "      <td>로버트 다우니 주니어,기네스 팰트로우,돈 치들,스칼렛 요한슨,미키 루크</td>\n",
       "    </tr>\n",
       "  </tbody>\n",
       "</table>\n",
       "</div>"
      ],
      "text/plain": [
       "           index     영화명         개봉일          매출액         누적매출액      관객수  \\\n",
       "year rank                                                                  \n",
       "2010 1         0     아바타  2009-12-17  81455728000  124896892500  8151952   \n",
       "     2         1     아저씨  2010-08-04  47101332000   47101332000  6178248   \n",
       "     3         2     인셉션  2010-07-21  43394990000   43394990000  5827444   \n",
       "     4         3     의형제  2010-02-04  40153729000   40153729000  5416812   \n",
       "     5         4  아이언맨 2  2010-04-29  32635195500   32635195500  4425003   \n",
       "\n",
       "              누적관객수  스크린수    상영횟수 대표국적                      제작사  \\\n",
       "year rank                                                         \n",
       "2010 1     13302619   714  111860   미국            이십세기폭스필름코퍼레이션   \n",
       "     2      6178248   501  109853   한국                오퍼스픽쳐스(유)   \n",
       "     3      5827444   531   81891   미국     워너 브러더스 픽쳐스,레젼데리 픽쳐스   \n",
       "     4      5416812   569  118243   한국  (주)쇼박스,(주)다세포클럽,루비콘픽쳐스㈜   \n",
       "     5      4425003   921   87665   미국      파라마운트 픽쳐스,마블 엔터프라이즈   \n",
       "\n",
       "                                 배급사        등급          장르        감독  \\\n",
       "year rank                                                              \n",
       "2010 1     주식회사 해리슨앤컴퍼니,이십세기폭스코리아(주)  12세이상관람가  SF,액션,어드벤처   제임스 카메론   \n",
       "     2                     씨제이엔터테인먼트   청소년관람불가      액션,드라마       이정범   \n",
       "     3                 워너브러더스 코리아(주)  12세이상관람가    드라마,미스터리  크리스토퍼 놀란   \n",
       "     4                        (주)쇼박스  15세이상관람가      드라마,액션        장훈   \n",
       "     5                     씨제이엔터테인먼트  12세이상관람가  SF,액션,어드벤처     존 파브로   \n",
       "\n",
       "                                                          배우  \n",
       "year rank                                                     \n",
       "2010 1                                    샘 워싱턴,조 샐다나,시고니 위버  \n",
       "     2     원빈,김새론,김희원,김성오,김태훈,김호연,김성훈,김효민,김효서,신동민,홍석준,조영아...  \n",
       "     3                           레오나르도 디카프리오,엘렌 페이지,마리온 꼬띨라르  \n",
       "     4     송강호,강동원,전국환,박혁권,윤희석,최정우,정인기,설진욱,강명희,홍서백,박용진,김의...  \n",
       "     5               로버트 다우니 주니어,기네스 팰트로우,돈 치들,스칼렛 요한슨,미키 루크  "
      ]
     },
     "execution_count": 32,
     "metadata": {},
     "output_type": "execute_result"
    }
   ],
   "source": [
    "df = pd.read_csv('movie.csv', encoding='ms949', index_col=[0,1])\n",
    "df.head()"
   ]
  },
  {
   "cell_type": "code",
   "execution_count": 33,
   "metadata": {},
   "outputs": [],
   "source": [
    "# 최근 3년간 데이터\n",
    "df = df.query('year>=2016')"
   ]
  },
  {
   "cell_type": "code",
   "execution_count": 34,
   "metadata": {},
   "outputs": [],
   "source": [
    "df.reset_index(inplace=True)"
   ]
  },
  {
   "cell_type": "code",
   "execution_count": 35,
   "metadata": {
    "scrolled": false
   },
   "outputs": [
    {
     "data": {
      "text/plain": [
       "['부산행', '검사외전', '캡틴 아메리카: 시빌 워', '밀정', '터널']"
      ]
     },
     "execution_count": 35,
     "metadata": {},
     "output_type": "execute_result"
    }
   ],
   "source": [
    "# 영화 이름만 리스트에 담음\n",
    "movie_title = df['영화명'].values.tolist()\n",
    "movie_title[:5]"
   ]
  },
  {
   "cell_type": "markdown",
   "metadata": {},
   "source": [
    "### use naver api to get 평점"
   ]
  },
  {
   "cell_type": "code",
   "execution_count": 10,
   "metadata": {},
   "outputs": [],
   "source": [
    "import os\n",
    "import sys\n",
    "import urllib.request\n",
    "\n",
    "client_id = \"PAsKLiqEIeAcb0BGXcAv\"\n",
    "client_secret = \"toPoLTL6en\"\n",
    "movie = []"
   ]
  },
  {
   "cell_type": "code",
   "execution_count": 11,
   "metadata": {},
   "outputs": [],
   "source": [
    "for i in range(300):\n",
    "    encText = urllib.parse.quote(movie_title[i])\n",
    "\n",
    "    url = \"https://openapi.naver.com/v1/search/movie?query=\" + encText # json 결과\n",
    "    request = urllib.request.Request(url)\n",
    "    request.add_header(\"X-Naver-Client-Id\",client_id)\n",
    "    request.add_header(\"X-Naver-Client-Secret\",client_secret)\n",
    "    response = urllib.request.urlopen(request)\n",
    "    rescode = response.getcode()\n",
    "    \n",
    "    if(rescode==200):\n",
    "        response_body = response.read()\n",
    "        movie.append(response_body.decode('utf-8'))\n",
    "        time.sleep(1)\n",
    "    else:\n",
    "        print(\"Error Code:\" + rescode)"
   ]
  },
  {
   "cell_type": "code",
   "execution_count": 24,
   "metadata": {},
   "outputs": [
    {
     "data": {
      "text/plain": [
       "300"
      ]
     },
     "execution_count": 24,
     "metadata": {},
     "output_type": "execute_result"
    }
   ],
   "source": [
    "len(movie)"
   ]
  },
  {
   "cell_type": "code",
   "execution_count": 25,
   "metadata": {},
   "outputs": [
    {
     "data": {
      "text/plain": [
       "'7.99'"
      ]
     },
     "execution_count": 25,
     "metadata": {},
     "output_type": "execute_result"
    }
   ],
   "source": [
    "json.loads(movie[0])['items'][0]['userRating']"
   ]
  },
  {
   "cell_type": "code",
   "execution_count": 37,
   "metadata": {},
   "outputs": [],
   "source": [
    "# rating 이라는 빈 리스트에 userRating만 담는다\n",
    "rating = []\n",
    "for i in range(len(movie)):\n",
    "    rating.append(json.loads(movie[i])['items'][0]['userRating'])"
   ]
  },
  {
   "cell_type": "code",
   "execution_count": 38,
   "metadata": {},
   "outputs": [
    {
     "data": {
      "text/plain": [
       "300"
      ]
     },
     "execution_count": 38,
     "metadata": {},
     "output_type": "execute_result"
    }
   ],
   "source": [
    "len(rating)"
   ]
  },
  {
   "cell_type": "code",
   "execution_count": 40,
   "metadata": {
    "scrolled": true
   },
   "outputs": [],
   "source": [
    "# 평점 컬럼에 추가\n",
    "df['평점'] = rating"
   ]
  },
  {
   "cell_type": "code",
   "execution_count": 41,
   "metadata": {},
   "outputs": [
    {
     "data": {
      "text/plain": [
       "28"
      ]
     },
     "execution_count": 41,
     "metadata": {},
     "output_type": "execute_result"
    }
   ],
   "source": [
    "# 28개의 평점은 문제가 있음\n",
    "df[df['평점']=='0.00']['영화명'].count()"
   ]
  },
  {
   "cell_type": "code",
   "execution_count": 42,
   "metadata": {},
   "outputs": [
    {
     "data": {
      "text/plain": [
       "Int64Index([  6,  10,  13,  19,  22,  60,  63,  66,  85,  93,  95, 104, 125,\n",
       "            130, 131, 134, 136, 167, 170, 176, 179, 181, 198, 210, 217, 223,\n",
       "            271, 295],\n",
       "           dtype='int64')"
      ]
     },
     "execution_count": 42,
     "metadata": {},
     "output_type": "execute_result"
    }
   ],
   "source": [
    "df[df['평점']=='0.00'].index"
   ]
  },
  {
   "cell_type": "code",
   "execution_count": 43,
   "metadata": {},
   "outputs": [
    {
     "data": {
      "text/plain": [
       "0"
      ]
     },
     "execution_count": 43,
     "metadata": {},
     "output_type": "execute_result"
    }
   ],
   "source": [
    "# 과감히 날려버리기\n",
    "df.drop(df.index[df[df['평점']=='0.00'].index], inplace=True)\n",
    "df[df['평점']=='0.00']['영화명'].count()"
   ]
  },
  {
   "cell_type": "code",
   "execution_count": 44,
   "metadata": {
    "scrolled": true
   },
   "outputs": [
    {
     "data": {
      "text/plain": [
       "year     272\n",
       "rank     272\n",
       "index    272\n",
       "영화명      272\n",
       "개봉일      272\n",
       "매출액      272\n",
       "누적매출액    272\n",
       "관객수      272\n",
       "누적관객수    272\n",
       "스크린수     272\n",
       "상영횟수     272\n",
       "대표국적     272\n",
       "제작사      121\n",
       "배급사      272\n",
       "등급       272\n",
       "장르       272\n",
       "감독       272\n",
       "배우       267\n",
       "평점       272\n",
       "dtype: int64"
      ]
     },
     "execution_count": 44,
     "metadata": {},
     "output_type": "execute_result"
    }
   ],
   "source": [
    "df.count()"
   ]
  },
  {
   "cell_type": "code",
   "execution_count": 47,
   "metadata": {},
   "outputs": [
    {
     "data": {
      "text/plain": [
       "numpy.float64"
      ]
     },
     "execution_count": 47,
     "metadata": {},
     "output_type": "execute_result"
    }
   ],
   "source": [
    "# 평점 object 타입을 float 타입으로 바꾼다.\n",
    "df[\"평점\"] = df[\"평점\"].replace(\"'\",\"\")\n",
    "df[\"평점\"] = df[\"평점\"].astype(float)\n",
    "type(df['평점'][0])"
   ]
  },
  {
   "cell_type": "code",
   "execution_count": 48,
   "metadata": {},
   "outputs": [],
   "source": [
    "# 평점 추가한 데이터프레임을 csv로 저장\n",
    "df.to_csv('movie_rating.csv', encoding='ms949')"
   ]
  },
  {
   "cell_type": "code",
   "execution_count": 49,
   "metadata": {},
   "outputs": [
    {
     "data": {
      "text/html": [
       "<div>\n",
       "<style scoped>\n",
       "    .dataframe tbody tr th:only-of-type {\n",
       "        vertical-align: middle;\n",
       "    }\n",
       "\n",
       "    .dataframe tbody tr th {\n",
       "        vertical-align: top;\n",
       "    }\n",
       "\n",
       "    .dataframe thead th {\n",
       "        text-align: right;\n",
       "    }\n",
       "</style>\n",
       "<table border=\"1\" class=\"dataframe\">\n",
       "  <thead>\n",
       "    <tr style=\"text-align: right;\">\n",
       "      <th></th>\n",
       "      <th>Unnamed: 0</th>\n",
       "      <th>year</th>\n",
       "      <th>rank</th>\n",
       "      <th>index</th>\n",
       "      <th>영화명</th>\n",
       "      <th>개봉일</th>\n",
       "      <th>매출액</th>\n",
       "      <th>누적매출액</th>\n",
       "      <th>관객수</th>\n",
       "      <th>누적관객수</th>\n",
       "      <th>스크린수</th>\n",
       "      <th>상영횟수</th>\n",
       "      <th>대표국적</th>\n",
       "      <th>제작사</th>\n",
       "      <th>배급사</th>\n",
       "      <th>등급</th>\n",
       "      <th>장르</th>\n",
       "      <th>감독</th>\n",
       "      <th>배우</th>\n",
       "      <th>평점</th>\n",
       "    </tr>\n",
       "  </thead>\n",
       "  <tbody>\n",
       "    <tr>\n",
       "      <th>0</th>\n",
       "      <td>0</td>\n",
       "      <td>2016</td>\n",
       "      <td>1</td>\n",
       "      <td>600</td>\n",
       "      <td>부산행</td>\n",
       "      <td>2016-07-20</td>\n",
       "      <td>93178283048</td>\n",
       "      <td>93178283048</td>\n",
       "      <td>11565479</td>\n",
       "      <td>11565479</td>\n",
       "      <td>1788</td>\n",
       "      <td>151315</td>\n",
       "      <td>한국</td>\n",
       "      <td>(주)영화사레드피터</td>\n",
       "      <td>(주)넥스트엔터테인먼트월드(NEW)</td>\n",
       "      <td>15세이상관람가</td>\n",
       "      <td>액션,스릴러</td>\n",
       "      <td>연상호</td>\n",
       "      <td>공유,김정희,정유미,김율호,마동석,최우식,안소희,김의성,김수안,박민우,박민혁,임종훈...</td>\n",
       "      <td>7.99</td>\n",
       "    </tr>\n",
       "    <tr>\n",
       "      <th>1</th>\n",
       "      <td>1</td>\n",
       "      <td>2016</td>\n",
       "      <td>2</td>\n",
       "      <td>601</td>\n",
       "      <td>검사외전</td>\n",
       "      <td>2016-02-03</td>\n",
       "      <td>77320403264</td>\n",
       "      <td>77320403264</td>\n",
       "      <td>9707581</td>\n",
       "      <td>9707581</td>\n",
       "      <td>1812</td>\n",
       "      <td>153532</td>\n",
       "      <td>한국</td>\n",
       "      <td>(주)영화사 월광,(주)사나이픽처스</td>\n",
       "      <td>(주)쇼박스</td>\n",
       "      <td>15세이상관람가</td>\n",
       "      <td>범죄,코미디</td>\n",
       "      <td>이일형</td>\n",
       "      <td>황정민,강동원,이성민,박성웅,김응수,신소율,주진모,김원해,김홍파,김병옥,박종환,전배...</td>\n",
       "      <td>7.94</td>\n",
       "    </tr>\n",
       "    <tr>\n",
       "      <th>2</th>\n",
       "      <td>2</td>\n",
       "      <td>2016</td>\n",
       "      <td>3</td>\n",
       "      <td>602</td>\n",
       "      <td>캡틴 아메리카: 시빌 워</td>\n",
       "      <td>2016-04-27</td>\n",
       "      <td>72672111827</td>\n",
       "      <td>72672111827</td>\n",
       "      <td>8677249</td>\n",
       "      <td>8677249</td>\n",
       "      <td>1991</td>\n",
       "      <td>161696</td>\n",
       "      <td>미국</td>\n",
       "      <td>NaN</td>\n",
       "      <td>월트디즈니컴퍼니코리아(주)</td>\n",
       "      <td>12세이상관람가</td>\n",
       "      <td>액션,SF,스릴러</td>\n",
       "      <td>안소니 루소,조 루소</td>\n",
       "      <td>크리스 에반스,로버트 다우니 주니어,스칼렛 요한슨,세바스찬 스탠,안소니 마키,돈 치...</td>\n",
       "      <td>8.67</td>\n",
       "    </tr>\n",
       "    <tr>\n",
       "      <th>3</th>\n",
       "      <td>3</td>\n",
       "      <td>2016</td>\n",
       "      <td>4</td>\n",
       "      <td>603</td>\n",
       "      <td>밀정</td>\n",
       "      <td>2016-09-07</td>\n",
       "      <td>61269783831</td>\n",
       "      <td>61269783831</td>\n",
       "      <td>7500420</td>\n",
       "      <td>7500420</td>\n",
       "      <td>1444</td>\n",
       "      <td>138161</td>\n",
       "      <td>한국</td>\n",
       "      <td>(주)다크서클픽쳐스,워너브러더스 코리아(주),(주)영화사하얼빈</td>\n",
       "      <td>워너브러더스 코리아(주)</td>\n",
       "      <td>15세이상관람가</td>\n",
       "      <td>액션</td>\n",
       "      <td>김지운</td>\n",
       "      <td>송강호,공유,한지민,츠루미 신고,엄태구,신성록,서영주,박민우,이진한,이진한,임서영,...</td>\n",
       "      <td>8.42</td>\n",
       "    </tr>\n",
       "    <tr>\n",
       "      <th>4</th>\n",
       "      <td>4</td>\n",
       "      <td>2016</td>\n",
       "      <td>5</td>\n",
       "      <td>604</td>\n",
       "      <td>터널</td>\n",
       "      <td>2016-08-10</td>\n",
       "      <td>57529484417</td>\n",
       "      <td>57529484417</td>\n",
       "      <td>7120508</td>\n",
       "      <td>7120508</td>\n",
       "      <td>1105</td>\n",
       "      <td>113201</td>\n",
       "      <td>한국</td>\n",
       "      <td>(주)어나더썬데이,(주)비에이엔터테인먼트</td>\n",
       "      <td>(주)쇼박스</td>\n",
       "      <td>12세이상관람가</td>\n",
       "      <td>드라마</td>\n",
       "      <td>김성훈</td>\n",
       "      <td>하정우,배두나,오달수,김종수,임한빈,정민희,송민석,윤성민,이동진,이상희,최춘범,권승...</td>\n",
       "      <td>9.17</td>\n",
       "    </tr>\n",
       "  </tbody>\n",
       "</table>\n",
       "</div>"
      ],
      "text/plain": [
       "   Unnamed: 0  year  rank  index            영화명         개봉일          매출액  \\\n",
       "0           0  2016     1    600            부산행  2016-07-20  93178283048   \n",
       "1           1  2016     2    601           검사외전  2016-02-03  77320403264   \n",
       "2           2  2016     3    602  캡틴 아메리카: 시빌 워  2016-04-27  72672111827   \n",
       "3           3  2016     4    603             밀정  2016-09-07  61269783831   \n",
       "4           4  2016     5    604             터널  2016-08-10  57529484417   \n",
       "\n",
       "         누적매출액       관객수     누적관객수  스크린수    상영횟수 대표국적  \\\n",
       "0  93178283048  11565479  11565479  1788  151315   한국   \n",
       "1  77320403264   9707581   9707581  1812  153532   한국   \n",
       "2  72672111827   8677249   8677249  1991  161696   미국   \n",
       "3  61269783831   7500420   7500420  1444  138161   한국   \n",
       "4  57529484417   7120508   7120508  1105  113201   한국   \n",
       "\n",
       "                                  제작사                  배급사        등급  \\\n",
       "0                          (주)영화사레드피터  (주)넥스트엔터테인먼트월드(NEW)  15세이상관람가   \n",
       "1                 (주)영화사 월광,(주)사나이픽처스               (주)쇼박스  15세이상관람가   \n",
       "2                                 NaN       월트디즈니컴퍼니코리아(주)  12세이상관람가   \n",
       "3  (주)다크서클픽쳐스,워너브러더스 코리아(주),(주)영화사하얼빈        워너브러더스 코리아(주)  15세이상관람가   \n",
       "4              (주)어나더썬데이,(주)비에이엔터테인먼트               (주)쇼박스  12세이상관람가   \n",
       "\n",
       "          장르           감독                                                 배우  \\\n",
       "0     액션,스릴러          연상호  공유,김정희,정유미,김율호,마동석,최우식,안소희,김의성,김수안,박민우,박민혁,임종훈...   \n",
       "1     범죄,코미디          이일형  황정민,강동원,이성민,박성웅,김응수,신소율,주진모,김원해,김홍파,김병옥,박종환,전배...   \n",
       "2  액션,SF,스릴러  안소니 루소,조 루소  크리스 에반스,로버트 다우니 주니어,스칼렛 요한슨,세바스찬 스탠,안소니 마키,돈 치...   \n",
       "3         액션          김지운  송강호,공유,한지민,츠루미 신고,엄태구,신성록,서영주,박민우,이진한,이진한,임서영,...   \n",
       "4        드라마          김성훈  하정우,배두나,오달수,김종수,임한빈,정민희,송민석,윤성민,이동진,이상희,최춘범,권승...   \n",
       "\n",
       "     평점  \n",
       "0  7.99  \n",
       "1  7.94  \n",
       "2  8.67  \n",
       "3  8.42  \n",
       "4  9.17  "
      ]
     },
     "execution_count": 49,
     "metadata": {},
     "output_type": "execute_result"
    }
   ],
   "source": [
    "df2 = pd.read_csv('movie_rating.csv', encoding='ms949')\n",
    "df2.head()"
   ]
  },
  {
   "cell_type": "markdown",
   "metadata": {},
   "source": [
    "#  회귀식 -> 매출액 = b0 + b1*평점\n"
   ]
  },
  {
   "cell_type": "code",
   "execution_count": 50,
   "metadata": {
    "scrolled": false
   },
   "outputs": [
    {
     "data": {
      "text/html": [
       "<table class=\"simpletable\">\n",
       "<caption>OLS Regression Results</caption>\n",
       "<tr>\n",
       "  <th>Dep. Variable:</th>           <td>매출액</td>       <th>  R-squared:         </th> <td>   0.019</td> \n",
       "</tr>\n",
       "<tr>\n",
       "  <th>Model:</th>                   <td>OLS</td>       <th>  Adj. R-squared:    </th> <td>   0.015</td> \n",
       "</tr>\n",
       "<tr>\n",
       "  <th>Method:</th>             <td>Least Squares</td>  <th>  F-statistic:       </th> <td>   5.241</td> \n",
       "</tr>\n",
       "<tr>\n",
       "  <th>Date:</th>             <td>Thu, 09 May 2019</td> <th>  Prob (F-statistic):</th>  <td>0.0228</td>  \n",
       "</tr>\n",
       "<tr>\n",
       "  <th>Time:</th>                 <td>16:20:45</td>     <th>  Log-Likelihood:    </th> <td> -6811.5</td> \n",
       "</tr>\n",
       "<tr>\n",
       "  <th>No. Observations:</th>      <td>   272</td>      <th>  AIC:               </th> <td>1.363e+04</td>\n",
       "</tr>\n",
       "<tr>\n",
       "  <th>Df Residuals:</th>          <td>   270</td>      <th>  BIC:               </th> <td>1.363e+04</td>\n",
       "</tr>\n",
       "<tr>\n",
       "  <th>Df Model:</th>              <td>     1</td>      <th>                     </th>     <td> </td>    \n",
       "</tr>\n",
       "<tr>\n",
       "  <th>Covariance Type:</th>      <td>nonrobust</td>    <th>                     </th>     <td> </td>    \n",
       "</tr>\n",
       "</table>\n",
       "<table class=\"simpletable\">\n",
       "<tr>\n",
       "      <td></td>         <th>coef</th>     <th>std err</th>      <th>t</th>      <th>P>|t|</th>  <th>[0.025</th>    <th>0.975]</th>  \n",
       "</tr>\n",
       "<tr>\n",
       "  <th>Intercept</th> <td> 8.775e+08</td> <td> 6.86e+09</td> <td>    0.128</td> <td> 0.898</td> <td>-1.26e+10</td> <td> 1.44e+10</td>\n",
       "</tr>\n",
       "<tr>\n",
       "  <th>평점</th>        <td> 1.975e+09</td> <td> 8.63e+08</td> <td>    2.289</td> <td> 0.023</td> <td> 2.77e+08</td> <td> 3.67e+09</td>\n",
       "</tr>\n",
       "</table>\n",
       "<table class=\"simpletable\">\n",
       "<tr>\n",
       "  <th>Omnibus:</th>       <td>134.400</td> <th>  Durbin-Watson:     </th> <td>   0.271</td> \n",
       "</tr>\n",
       "<tr>\n",
       "  <th>Prob(Omnibus):</th> <td> 0.000</td>  <th>  Jarque-Bera (JB):  </th> <td> 533.014</td> \n",
       "</tr>\n",
       "<tr>\n",
       "  <th>Skew:</th>          <td> 2.149</td>  <th>  Prob(JB):          </th> <td>1.81e-116</td>\n",
       "</tr>\n",
       "<tr>\n",
       "  <th>Kurtosis:</th>      <td> 8.344</td>  <th>  Cond. No.          </th> <td>    50.1</td> \n",
       "</tr>\n",
       "</table><br/><br/>Warnings:<br/>[1] Standard Errors assume that the covariance matrix of the errors is correctly specified."
      ],
      "text/plain": [
       "<class 'statsmodels.iolib.summary.Summary'>\n",
       "\"\"\"\n",
       "                            OLS Regression Results                            \n",
       "==============================================================================\n",
       "Dep. Variable:                    매출액   R-squared:                       0.019\n",
       "Model:                            OLS   Adj. R-squared:                  0.015\n",
       "Method:                 Least Squares   F-statistic:                     5.241\n",
       "Date:                Thu, 09 May 2019   Prob (F-statistic):             0.0228\n",
       "Time:                        16:20:45   Log-Likelihood:                -6811.5\n",
       "No. Observations:                 272   AIC:                         1.363e+04\n",
       "Df Residuals:                     270   BIC:                         1.363e+04\n",
       "Df Model:                           1                                         \n",
       "Covariance Type:            nonrobust                                         \n",
       "==============================================================================\n",
       "                 coef    std err          t      P>|t|      [0.025      0.975]\n",
       "------------------------------------------------------------------------------\n",
       "Intercept   8.775e+08   6.86e+09      0.128      0.898   -1.26e+10    1.44e+10\n",
       "평점          1.975e+09   8.63e+08      2.289      0.023    2.77e+08    3.67e+09\n",
       "==============================================================================\n",
       "Omnibus:                      134.400   Durbin-Watson:                   0.271\n",
       "Prob(Omnibus):                  0.000   Jarque-Bera (JB):              533.014\n",
       "Skew:                           2.149   Prob(JB):                    1.81e-116\n",
       "Kurtosis:                       8.344   Cond. No.                         50.1\n",
       "==============================================================================\n",
       "\n",
       "Warnings:\n",
       "[1] Standard Errors assume that the covariance matrix of the errors is correctly specified.\n",
       "\"\"\""
      ]
     },
     "execution_count": 50,
     "metadata": {},
     "output_type": "execute_result"
    }
   ],
   "source": [
    "import statsmodels.api as sm\n",
    "import statsmodels.formula.api as smf\n",
    "\n",
    "reg = smf.ols(formula = '매출액 ~ 평점',data = df2).fit()\n",
    "reg.summary()"
   ]
  },
  {
   "cell_type": "code",
   "execution_count": 51,
   "metadata": {},
   "outputs": [],
   "source": [
    "%matplotlib inline"
   ]
  },
  {
   "cell_type": "code",
   "execution_count": 52,
   "metadata": {},
   "outputs": [],
   "source": [
    "import seaborn as sns\n",
    "import matplotlib.pyplot as plt\n",
    "\n",
    "\n",
    "from matplotlib import font_manager, rc\n",
    "font_name = font_manager.FontProperties(fname=\"C:/Windows/Fonts/malgun.ttf\").get_name() #컴퓨터내에 설치되 있는 맑은고딕 폰트를 가져오겠다.\n",
    "rc('font',family=font_name)"
   ]
  },
  {
   "cell_type": "code",
   "execution_count": 53,
   "metadata": {
    "scrolled": false
   },
   "outputs": [
    {
     "data": {
      "text/plain": [
       "Text(0.5, 1.0, '최근 3년간 평점과 매출액')"
      ]
     },
     "execution_count": 53,
     "metadata": {},
     "output_type": "execute_result"
    },
    {
     "data": {
      "image/png": "[encoded data removed]",
      "text/plain": [
       "<Figure size 432x288 with 1 Axes>"
      ]
     },
     "metadata": {
      "needs_background": "light"
     },
     "output_type": "display_data"
    }
   ],
   "source": [
    "ax = sns.regplot('평점', '매출액', df, color='red')\n",
    "ax.set_title(\"최근 3년간 평점과 매출액\")"
   ]
  },
  {
   "cell_type": "markdown",
   "metadata": {},
   "source": [
    "# 결과해석: 상관성 0"
   ]
  },
  {
   "cell_type": "code",
   "execution_count": null,
   "metadata": {},
   "outputs": [],
   "source": []
  }
 ],
 "metadata": {
  "kernelspec": {
   "display_name": "Python 3",
   "language": "python",
   "name": "python3"
  },
  "language_info": {
   "codemirror_mode": {
    "name": "ipython",
    "version": 3
   },
   "file_extension": ".py",
   "mimetype": "text/x-python",
   "name": "python",
   "nbconvert_exporter": "python",
   "pygments_lexer": "ipython3",
   "version": "3.7.1"
  }
 },
 "nbformat": 4,
 "nbformat_minor": 2
}
