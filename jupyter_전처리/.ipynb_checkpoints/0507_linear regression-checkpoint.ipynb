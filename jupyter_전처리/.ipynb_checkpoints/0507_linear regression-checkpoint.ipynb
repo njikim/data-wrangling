{
 "cells": [
  {
   "cell_type": "code",
   "execution_count": 1,
   "metadata": {},
   "outputs": [],
   "source": [
    "import numpy as np\n",
    "import pandas as pd\n",
    "import json\n",
    "import time"
   ]
  },
  {
   "cell_type": "code",
   "execution_count": 2,
   "metadata": {},
   "outputs": [],
   "source": [
    "df = pd.read_csv('C:/Python/movie-data-analysis/data/movie.csv', encoding='ms949', index_col=[0,1])"
   ]
  },
  {
   "cell_type": "code",
   "execution_count": 3,
   "metadata": {},
   "outputs": [],
   "source": [
    "# 최근 3년간 데이터\n",
    "df = df.query('year>=2016')"
   ]
  },
  {
   "cell_type": "code",
   "execution_count": 4,
   "metadata": {},
   "outputs": [],
   "source": [
    "# df"
   ]
  },
  {
   "cell_type": "code",
   "execution_count": null,
   "metadata": {},
   "outputs": [],
   "source": [
    "# df_2018 = df.query('year==2018')\n",
    "# movie_title = df_2018['영화명'].values.tolist()\n",
    "# len(movie_title)"
   ]
  },
  {
   "cell_type": "code",
   "execution_count": 5,
   "metadata": {},
   "outputs": [],
   "source": [
    "movie_title = df['영화명'].values.tolist()"
   ]
  },
  {
   "cell_type": "code",
   "execution_count": 6,
   "metadata": {},
   "outputs": [],
   "source": [
    "import os\n",
    "import sys\n",
    "import urllib.request\n",
    "\n",
    "client_id = \"PAsKLiqEIeAcb0BGXcAv\"\n",
    "client_secret = \"toPoLTL6en\"\n",
    "movie = []"
   ]
  },
  {
   "cell_type": "code",
   "execution_count": 7,
   "metadata": {},
   "outputs": [],
   "source": [
    "for i in range(300):\n",
    "    encText = urllib.parse.quote(movie_title[i])\n",
    "\n",
    "    url = \"https://openapi.naver.com/v1/search/movie?query=\" + encText # json 결과\n",
    "    request = urllib.request.Request(url)\n",
    "    request.add_header(\"X-Naver-Client-Id\",client_id)\n",
    "    request.add_header(\"X-Naver-Client-Secret\",client_secret)\n",
    "    response = urllib.request.urlopen(request)\n",
    "    rescode = response.getcode()\n",
    "    \n",
    "    if(rescode==200):\n",
    "        response_body = response.read()\n",
    "        movie.append(response_body.decode('utf-8'))\n",
    "        time.sleep(1)\n",
    "    else:\n",
    "        print(\"Error Code:\" + rescode)"
   ]
  },
  {
   "cell_type": "code",
   "execution_count": null,
   "metadata": {},
   "outputs": [],
   "source": []
  },
  {
   "cell_type": "code",
   "execution_count": null,
   "metadata": {},
   "outputs": [],
   "source": []
  },
  {
   "cell_type": "code",
   "execution_count": null,
   "metadata": {},
   "outputs": [],
   "source": []
  },
  {
   "cell_type": "code",
   "execution_count": null,
   "metadata": {},
   "outputs": [],
   "source": []
  },
  {
   "cell_type": "code",
   "execution_count": null,
   "metadata": {},
   "outputs": [],
   "source": []
  },
  {
   "cell_type": "code",
   "execution_count": null,
   "metadata": {},
   "outputs": [],
   "source": [
    "len(movie)"
   ]
  },
  {
   "cell_type": "code",
   "execution_count": null,
   "metadata": {},
   "outputs": [],
   "source": [
    "for i in range(10,20):\n",
    "    encText = urllib.parse.quote(movie_title[i])\n",
    "\n",
    "    url = \"https://openapi.naver.com/v1/search/movie?query=\" + encText # json 결과\n",
    "    request = urllib.request.Request(url)\n",
    "    request.add_header(\"X-Naver-Client-Id\",client_id)\n",
    "    request.add_header(\"X-Naver-Client-Secret\",client_secret)\n",
    "    response = urllib.request.urlopen(request)\n",
    "    rescode = response.getcode()\n",
    "    \n",
    "    if(rescode==200):\n",
    "        response_body = response.read()\n",
    "        #print(response_body.decode('utf-8'))\n",
    "        movie.append(response_body.decode('utf-8'))\n",
    "    else:\n",
    "        print(\"Error Code:\" + rescode)"
   ]
  },
  {
   "cell_type": "code",
   "execution_count": null,
   "metadata": {},
   "outputs": [],
   "source": [
    "len(movie)"
   ]
  },
  {
   "cell_type": "code",
   "execution_count": null,
   "metadata": {},
   "outputs": [],
   "source": [
    "for i in range(20,30):\n",
    "    encText = urllib.parse.quote(movie_title[i])\n",
    "\n",
    "    url = \"https://openapi.naver.com/v1/search/movie?query=\" + encText # json 결과\n",
    "    request = urllib.request.Request(url)\n",
    "    request.add_header(\"X-Naver-Client-Id\",client_id)\n",
    "    request.add_header(\"X-Naver-Client-Secret\",client_secret)\n",
    "    response = urllib.request.urlopen(request)\n",
    "    rescode = response.getcode()\n",
    "    \n",
    "    if(rescode==200):\n",
    "        response_body = response.read()\n",
    "        #print(response_body.decode('utf-8'))\n",
    "        movie.append(response_body.decode('utf-8'))\n",
    "    else:\n",
    "        print(\"Error Code:\" + rescode)"
   ]
  },
  {
   "cell_type": "code",
   "execution_count": null,
   "metadata": {},
   "outputs": [],
   "source": [
    "for i in range(30,40):\n",
    "    encText = urllib.parse.quote(movie_title[i])\n",
    "\n",
    "    url = \"https://openapi.naver.com/v1/search/movie?query=\" + encText # json 결과\n",
    "    request = urllib.request.Request(url)\n",
    "    request.add_header(\"X-Naver-Client-Id\",client_id)\n",
    "    request.add_header(\"X-Naver-Client-Secret\",client_secret)\n",
    "    response = urllib.request.urlopen(request)\n",
    "    rescode = response.getcode()\n",
    "    \n",
    "    if(rescode==200):\n",
    "        response_body = response.read()\n",
    "        #print(response_body.decode('utf-8'))\n",
    "        movie.append(response_body.decode('utf-8'))\n",
    "    else:\n",
    "        print(\"Error Code:\" + rescode)"
   ]
  },
  {
   "cell_type": "code",
   "execution_count": null,
   "metadata": {},
   "outputs": [],
   "source": [
    "for i in range(40,50):\n",
    "    encText = urllib.parse.quote(movie_title[i])\n",
    "\n",
    "    url = \"https://openapi.naver.com/v1/search/movie?query=\" + encText # json 결과\n",
    "    request = urllib.request.Request(url)\n",
    "    request.add_header(\"X-Naver-Client-Id\",client_id)\n",
    "    request.add_header(\"X-Naver-Client-Secret\",client_secret)\n",
    "    response = urllib.request.urlopen(request)\n",
    "    rescode = response.getcode()\n",
    "    \n",
    "    if(rescode==200):\n",
    "        response_body = response.read()\n",
    "        #print(response_body.decode('utf-8'))\n",
    "        movie.append(response_body.decode('utf-8'))\n",
    "    else:\n",
    "        print(\"Error Code:\" + rescode)"
   ]
  },
  {
   "cell_type": "code",
   "execution_count": null,
   "metadata": {},
   "outputs": [],
   "source": [
    "for i in range(50,60):\n",
    "    encText = urllib.parse.quote(movie_title[i])\n",
    "\n",
    "    url = \"https://openapi.naver.com/v1/search/movie?query=\" + encText # json 결과\n",
    "    request = urllib.request.Request(url)\n",
    "    request.add_header(\"X-Naver-Client-Id\",client_id)\n",
    "    request.add_header(\"X-Naver-Client-Secret\",client_secret)\n",
    "    response = urllib.request.urlopen(request)\n",
    "    rescode = response.getcode()\n",
    "    \n",
    "    if(rescode==200):\n",
    "        response_body = response.read()\n",
    "        #print(response_body.decode('utf-8'))\n",
    "        movie.append(response_body.decode('utf-8'))\n",
    "    else:\n",
    "        print(\"Error Code:\" + rescode)"
   ]
  },
  {
   "cell_type": "code",
   "execution_count": null,
   "metadata": {},
   "outputs": [],
   "source": [
    "for i in range(60,70):\n",
    "    encText = urllib.parse.quote(movie_title[i])\n",
    "\n",
    "    url = \"https://openapi.naver.com/v1/search/movie?query=\" + encText # json 결과\n",
    "    request = urllib.request.Request(url)\n",
    "    request.add_header(\"X-Naver-Client-Id\",client_id)\n",
    "    request.add_header(\"X-Naver-Client-Secret\",client_secret)\n",
    "    response = urllib.request.urlopen(request)\n",
    "    rescode = response.getcode()\n",
    "    \n",
    "    if(rescode==200):\n",
    "        response_body = response.read()\n",
    "        #print(response_body.decode('utf-8'))\n",
    "        movie.append(response_body.decode('utf-8'))\n",
    "    else:\n",
    "        print(\"Error Code:\" + rescode)"
   ]
  },
  {
   "cell_type": "code",
   "execution_count": null,
   "metadata": {},
   "outputs": [],
   "source": [
    "for i in range(70,80):\n",
    "    encText = urllib.parse.quote(movie_title[i])\n",
    "\n",
    "    url = \"https://openapi.naver.com/v1/search/movie?query=\" + encText # json 결과\n",
    "    request = urllib.request.Request(url)\n",
    "    request.add_header(\"X-Naver-Client-Id\",client_id)\n",
    "    request.add_header(\"X-Naver-Client-Secret\",client_secret)\n",
    "    response = urllib.request.urlopen(request)\n",
    "    rescode = response.getcode()\n",
    "    \n",
    "    if(rescode==200):\n",
    "        response_body = response.read()\n",
    "        #print(response_body.decode('utf-8'))\n",
    "        movie.append(response_body.decode('utf-8'))\n",
    "    else:\n",
    "        print(\"Error Code:\" + rescode)"
   ]
  },
  {
   "cell_type": "code",
   "execution_count": null,
   "metadata": {},
   "outputs": [],
   "source": [
    "for i in range(80,90):\n",
    "    encText = urllib.parse.quote(movie_title[i])\n",
    "\n",
    "    url = \"https://openapi.naver.com/v1/search/movie?query=\" + encText # json 결과\n",
    "    request = urllib.request.Request(url)\n",
    "    request.add_header(\"X-Naver-Client-Id\",client_id)\n",
    "    request.add_header(\"X-Naver-Client-Secret\",client_secret)\n",
    "    response = urllib.request.urlopen(request)\n",
    "    rescode = response.getcode()\n",
    "    \n",
    "    if(rescode==200):\n",
    "        response_body = response.read()\n",
    "        #print(response_body.decode('utf-8'))\n",
    "        movie.append(response_body.decode('utf-8'))\n",
    "    else:\n",
    "        print(\"Error Code:\" + rescode)"
   ]
  },
  {
   "cell_type": "code",
   "execution_count": null,
   "metadata": {},
   "outputs": [],
   "source": [
    "for i in range(90,100):\n",
    "    encText = urllib.parse.quote(movie_title[i])\n",
    "\n",
    "    url = \"https://openapi.naver.com/v1/search/movie?query=\" + encText # json 결과\n",
    "    request = urllib.request.Request(url)\n",
    "    request.add_header(\"X-Naver-Client-Id\",client_id)\n",
    "    request.add_header(\"X-Naver-Client-Secret\",client_secret)\n",
    "    response = urllib.request.urlopen(request)\n",
    "    rescode = response.getcode()\n",
    "    \n",
    "    if(rescode==200):\n",
    "        response_body = response.read()\n",
    "        #print(response_body.decode('utf-8'))\n",
    "        movie.append(response_body.decode('utf-8'))\n",
    "    else:\n",
    "        print(\"Error Code:\" + rescode)"
   ]
  },
  {
   "cell_type": "code",
   "execution_count": null,
   "metadata": {},
   "outputs": [],
   "source": [
    "df_json = pd.DataFrame()"
   ]
  },
  {
   "cell_type": "code",
   "execution_count": null,
   "metadata": {},
   "outputs": [],
   "source": [
    "rating = []\n",
    "for i in range(len(movie)):\n",
    "    rating.append(json.loads(movie[i])['items'][0]['userRating'])\n",
    "    #rating.append(json[i]['items'][0]['userRating'])\n",
    "#rating"
   ]
  },
  {
   "cell_type": "code",
   "execution_count": null,
   "metadata": {},
   "outputs": [],
   "source": [
    "rating"
   ]
  },
  {
   "cell_type": "code",
   "execution_count": null,
   "metadata": {},
   "outputs": [],
   "source": [
    "df_2018['평점'] = rating\n",
    "df_2018"
   ]
  },
  {
   "cell_type": "code",
   "execution_count": null,
   "metadata": {},
   "outputs": [],
   "source": [
    "df_2018[df_2018['평점']=='0.00']"
   ]
  },
  {
   "cell_type": "code",
   "execution_count": null,
   "metadata": {},
   "outputs": [],
   "source": [
    "from sklearn.linear_model import LinearRegression"
   ]
  },
  {
   "cell_type": "code",
   "execution_count": null,
   "metadata": {},
   "outputs": [],
   "source": [
    "model = LinearRegression()\n",
    "model.fit(df_2018['평점'],df_2018['매출액'])"
   ]
  },
  {
   "cell_type": "code",
   "execution_count": null,
   "metadata": {},
   "outputs": [],
   "source": [
    "df_2018['평점'].reshape((-1,1))"
   ]
  },
  {
   "cell_type": "code",
   "execution_count": 8,
   "metadata": {},
   "outputs": [
    {
     "data": {
      "text/plain": [
       "year  rank\n",
       "2016  1       93178283048\n",
       "      2       77320403264\n",
       "      3       72672111827\n",
       "      4       61269783831\n",
       "      5       57529484417\n",
       "      6       55101410303\n",
       "      7       56444461256\n",
       "      8       55863520382\n",
       "      9       44393828109\n",
       "      10      47481830396\n",
       "      11      39784641065\n",
       "      12      37096057742\n",
       "      13      39300515858\n",
       "      14      33955398164\n",
       "      15      35211229991\n",
       "      16      31340798156\n",
       "      17      27249738990\n",
       "      18      27595618651\n",
       "      19      25116690113\n",
       "      20      23113768293\n",
       "      21      24467887950\n",
       "      22      21841214586\n",
       "      23      20705587567\n",
       "      24      21253434663\n",
       "      25      20703899933\n",
       "      26      20576226662\n",
       "      27      21517647134\n",
       "      28      19406436655\n",
       "      29      19996139232\n",
       "      30      18906246428\n",
       "                 ...     \n",
       "2018  71       3854216500\n",
       "      72       4716771098\n",
       "      73       3969337524\n",
       "      74       4516122497\n",
       "      75       4580889849\n",
       "      76       4120048900\n",
       "      77       4218077050\n",
       "      78       4093369860\n",
       "      79       4016562273\n",
       "      80       3675441950\n",
       "      81       4197504400\n",
       "      82       3818515112\n",
       "      83       3720931600\n",
       "      84       3494678900\n",
       "      85       3381050200\n",
       "      86       3014920361\n",
       "      87       3006258100\n",
       "      88       2941541400\n",
       "      89       2555480200\n",
       "      90       2521025949\n",
       "      91       2679300500\n",
       "      92       2389041700\n",
       "      93       2671391900\n",
       "      94       2647330400\n",
       "      95       2286690955\n",
       "      96       2203434149\n",
       "      97       2148708050\n",
       "      98       2349913000\n",
       "      99       2324362119\n",
       "      100      2100137400\n",
       "Name: 매출액, Length: 300, dtype: int64"
      ]
     },
     "execution_count": 8,
     "metadata": {},
     "output_type": "execute_result"
    }
   ],
   "source": [
    "df['매출액']"
   ]
  },
  {
   "cell_type": "code",
   "execution_count": null,
   "metadata": {},
   "outputs": [],
   "source": [
    "rating"
   ]
  },
  {
   "cell_type": "code",
   "execution_count": null,
   "metadata": {},
   "outputs": [],
   "source": []
  }
 ],
 "metadata": {
  "kernelspec": {
   "display_name": "Python 3",
   "language": "python",
   "name": "python3"
  },
  "language_info": {
   "codemirror_mode": {
    "name": "ipython",
    "version": 3
   },
   "file_extension": ".py",
   "mimetype": "text/x-python",
   "name": "python",
   "nbconvert_exporter": "python",
   "pygments_lexer": "ipython3",
   "version": "3.7.1"
  }
 },
 "nbformat": 4,
 "nbformat_minor": 2
}
