{
 "cells": [
  {
   "cell_type": "code",
   "execution_count": 67,
   "metadata": {},
   "outputs": [],
   "source": [
    "import pandas as pd\n",
    "import numpy as np"
   ]
  },
  {
   "cell_type": "markdown",
   "metadata": {},
   "source": [
    "# 2018 box office data 불러오기"
   ]
  },
  {
   "cell_type": "code",
   "execution_count": 68,
   "metadata": {
    "scrolled": false
   },
   "outputs": [
    {
     "data": {
      "text/html": [
       "<div>\n",
       "<style scoped>\n",
       "    .dataframe tbody tr th:only-of-type {\n",
       "        vertical-align: middle;\n",
       "    }\n",
       "\n",
       "    .dataframe tbody tr th {\n",
       "        vertical-align: top;\n",
       "    }\n",
       "\n",
       "    .dataframe thead th {\n",
       "        text-align: right;\n",
       "    }\n",
       "</style>\n",
       "<table border=\"1\" class=\"dataframe\">\n",
       "  <thead>\n",
       "    <tr style=\"text-align: right;\">\n",
       "      <th></th>\n",
       "      <th>순위</th>\n",
       "      <th>영화명</th>\n",
       "      <th>개봉일</th>\n",
       "      <th>매출액</th>\n",
       "      <th>매출액 점유율</th>\n",
       "      <th>관객수</th>\n",
       "      <th>스크린수</th>\n",
       "      <th>상영횟수</th>\n",
       "      <th>대표국적</th>\n",
       "      <th>국적</th>\n",
       "      <th>배급사</th>\n",
       "    </tr>\n",
       "  </thead>\n",
       "  <tbody>\n",
       "    <tr>\n",
       "      <th>0</th>\n",
       "      <td>1</td>\n",
       "      <td>신과함께-인과 연</td>\n",
       "      <td>2018-08-01</td>\n",
       "      <td>102666146909</td>\n",
       "      <td>0.057</td>\n",
       "      <td>12274996</td>\n",
       "      <td>2235</td>\n",
       "      <td>179981</td>\n",
       "      <td>한국</td>\n",
       "      <td>한국</td>\n",
       "      <td>롯데컬처웍스(주)롯데엔터테인먼트</td>\n",
       "    </tr>\n",
       "    <tr>\n",
       "      <th>1</th>\n",
       "      <td>2</td>\n",
       "      <td>어벤져스: 인피니티 워</td>\n",
       "      <td>2018-04-25</td>\n",
       "      <td>99926399769</td>\n",
       "      <td>0.055</td>\n",
       "      <td>11212710</td>\n",
       "      <td>2553</td>\n",
       "      <td>240501</td>\n",
       "      <td>미국</td>\n",
       "      <td>미국</td>\n",
       "      <td>월트디즈니컴퍼니코리아 유한책임회사</td>\n",
       "    </tr>\n",
       "    <tr>\n",
       "      <th>2</th>\n",
       "      <td>3</td>\n",
       "      <td>보헤미안 랩소디</td>\n",
       "      <td>2018-10-31</td>\n",
       "      <td>80010440345</td>\n",
       "      <td>0.044</td>\n",
       "      <td>9224582</td>\n",
       "      <td>1179</td>\n",
       "      <td>204537</td>\n",
       "      <td>미국</td>\n",
       "      <td>미국</td>\n",
       "      <td>이십세기폭스코리아(주)</td>\n",
       "    </tr>\n",
       "    <tr>\n",
       "      <th>3</th>\n",
       "      <td>4</td>\n",
       "      <td>미션 임파서블: 폴아웃</td>\n",
       "      <td>2018-07-25</td>\n",
       "      <td>55888375112</td>\n",
       "      <td>0.031</td>\n",
       "      <td>6584915</td>\n",
       "      <td>1957</td>\n",
       "      <td>101374</td>\n",
       "      <td>미국</td>\n",
       "      <td>미국</td>\n",
       "      <td>롯데컬처웍스(주)롯데엔터테인먼트</td>\n",
       "    </tr>\n",
       "    <tr>\n",
       "      <th>4</th>\n",
       "      <td>5</td>\n",
       "      <td>신과함께-죄와 벌</td>\n",
       "      <td>2017-12-20</td>\n",
       "      <td>47355583705</td>\n",
       "      <td>0.026</td>\n",
       "      <td>5872007</td>\n",
       "      <td>1644</td>\n",
       "      <td>121961</td>\n",
       "      <td>한국</td>\n",
       "      <td>한국</td>\n",
       "      <td>롯데쇼핑㈜롯데엔터테인먼트</td>\n",
       "    </tr>\n",
       "  </tbody>\n",
       "</table>\n",
       "</div>"
      ],
      "text/plain": [
       "  순위           영화명        개봉일           매출액  매출액 점유율       관객수  스크린수    상영횟수  \\\n",
       "0  1     신과함께-인과 연 2018-08-01  102666146909    0.057  12274996  2235  179981   \n",
       "1  2  어벤져스: 인피니티 워 2018-04-25   99926399769    0.055  11212710  2553  240501   \n",
       "2  3      보헤미안 랩소디 2018-10-31   80010440345    0.044   9224582  1179  204537   \n",
       "3  4  미션 임파서블: 폴아웃 2018-07-25   55888375112    0.031   6584915  1957  101374   \n",
       "4  5     신과함께-죄와 벌 2017-12-20   47355583705    0.026   5872007  1644  121961   \n",
       "\n",
       "  대표국적  국적                 배급사  \n",
       "0   한국  한국   롯데컬처웍스(주)롯데엔터테인먼트  \n",
       "1   미국  미국  월트디즈니컴퍼니코리아 유한책임회사  \n",
       "2   미국  미국        이십세기폭스코리아(주)  \n",
       "3   미국  미국   롯데컬처웍스(주)롯데엔터테인먼트  \n",
       "4   한국  한국       롯데쇼핑㈜롯데엔터테인먼트  "
      ]
     },
     "execution_count": 68,
     "metadata": {},
     "output_type": "execute_result"
    }
   ],
   "source": [
    "box_2018 = pd.read_excel('C:/Python/movie-data-analysis/data/2018_box.xlsx', skiprows=[0,1,2,3])\n",
    "box_2018.head()"
   ]
  },
  {
   "cell_type": "code",
   "execution_count": 69,
   "metadata": {
    "scrolled": true
   },
   "outputs": [
    {
     "data": {
      "text/plain": [
       "순위            0\n",
       "영화명           1\n",
       "개봉일        1862\n",
       "매출액           0\n",
       "매출액 점유율       1\n",
       "관객수           0\n",
       "스크린수          0\n",
       "상영횟수          0\n",
       "대표국적         78\n",
       "국적           80\n",
       "배급사        2186\n",
       "dtype: int64"
      ]
     },
     "execution_count": 69,
     "metadata": {},
     "output_type": "execute_result"
    }
   ],
   "source": [
    "# null값 체크\n",
    "box_2018.isna().sum()"
   ]
  },
  {
   "cell_type": "markdown",
   "metadata": {},
   "source": [
    "# 개봉일 +- 3주 영화 검색량 불러오기"
   ]
  },
  {
   "cell_type": "code",
   "execution_count": 70,
   "metadata": {},
   "outputs": [
    {
     "data": {
      "text/plain": [
       "Timestamp('2018-04-25 00:00:00')"
      ]
     },
     "execution_count": 70,
     "metadata": {},
     "output_type": "execute_result"
    }
   ],
   "source": [
    "box_2018['개봉일'][1]"
   ]
  },
  {
   "cell_type": "code",
   "execution_count": 71,
   "metadata": {
    "scrolled": true
   },
   "outputs": [],
   "source": [
    "title_date = box_2018.iloc[:,1:3]\n",
    "title_date = title_date.dropna()"
   ]
  },
  {
   "cell_type": "code",
   "execution_count": 72,
   "metadata": {},
   "outputs": [
    {
     "name": "stdout",
     "output_type": "stream",
     "text": [
      "2019-05-01 10:14:04.401847\n"
     ]
    }
   ],
   "source": [
    "from datetime import datetime  \n",
    "from datetime import timedelta \n",
    "print (datetime.now() - timedelta(days=+1)) "
   ]
  },
  {
   "cell_type": "code",
   "execution_count": 73,
   "metadata": {
    "scrolled": false
   },
   "outputs": [
    {
     "data": {
      "text/html": [
       "<div>\n",
       "<style scoped>\n",
       "    .dataframe tbody tr th:only-of-type {\n",
       "        vertical-align: middle;\n",
       "    }\n",
       "\n",
       "    .dataframe tbody tr th {\n",
       "        vertical-align: top;\n",
       "    }\n",
       "\n",
       "    .dataframe thead th {\n",
       "        text-align: right;\n",
       "    }\n",
       "</style>\n",
       "<table border=\"1\" class=\"dataframe\">\n",
       "  <thead>\n",
       "    <tr style=\"text-align: right;\">\n",
       "      <th></th>\n",
       "      <th>영화명</th>\n",
       "      <th>개봉일</th>\n",
       "      <th>개봉전</th>\n",
       "      <th>개봉후</th>\n",
       "    </tr>\n",
       "  </thead>\n",
       "  <tbody>\n",
       "    <tr>\n",
       "      <th>0</th>\n",
       "      <td>신과함께-인과 연</td>\n",
       "      <td>2018-08-01</td>\n",
       "      <td>2018-07-11</td>\n",
       "      <td>2018-08-22</td>\n",
       "    </tr>\n",
       "    <tr>\n",
       "      <th>1</th>\n",
       "      <td>어벤져스: 인피니티 워</td>\n",
       "      <td>2018-04-25</td>\n",
       "      <td>2018-04-04</td>\n",
       "      <td>2018-05-16</td>\n",
       "    </tr>\n",
       "    <tr>\n",
       "      <th>2</th>\n",
       "      <td>보헤미안 랩소디</td>\n",
       "      <td>2018-10-31</td>\n",
       "      <td>2018-10-10</td>\n",
       "      <td>2018-11-21</td>\n",
       "    </tr>\n",
       "    <tr>\n",
       "      <th>3</th>\n",
       "      <td>미션 임파서블: 폴아웃</td>\n",
       "      <td>2018-07-25</td>\n",
       "      <td>2018-07-04</td>\n",
       "      <td>2018-08-15</td>\n",
       "    </tr>\n",
       "    <tr>\n",
       "      <th>4</th>\n",
       "      <td>신과함께-죄와 벌</td>\n",
       "      <td>2017-12-20</td>\n",
       "      <td>2017-11-29</td>\n",
       "      <td>2018-01-10</td>\n",
       "    </tr>\n",
       "  </tbody>\n",
       "</table>\n",
       "</div>"
      ],
      "text/plain": [
       "            영화명        개봉일        개봉전        개봉후\n",
       "0     신과함께-인과 연 2018-08-01 2018-07-11 2018-08-22\n",
       "1  어벤져스: 인피니티 워 2018-04-25 2018-04-04 2018-05-16\n",
       "2      보헤미안 랩소디 2018-10-31 2018-10-10 2018-11-21\n",
       "3  미션 임파서블: 폴아웃 2018-07-25 2018-07-04 2018-08-15\n",
       "4     신과함께-죄와 벌 2017-12-20 2017-11-29 2018-01-10"
      ]
     },
     "execution_count": 73,
     "metadata": {},
     "output_type": "execute_result"
    }
   ],
   "source": [
    "title_date['개봉전'] = title_date['개봉일'] - timedelta(days=+21)\n",
    "title_date['개봉후'] = title_date['개봉일'] + timedelta(days=+21)\n",
    "title_date.head()"
   ]
  },
  {
   "cell_type": "code",
   "execution_count": 8,
   "metadata": {},
   "outputs": [
    {
     "data": {
      "text/plain": [
       "'2018-08-01'"
      ]
     },
     "execution_count": 8,
     "metadata": {},
     "output_type": "execute_result"
    }
   ],
   "source": [
    "title_date['개봉일'][0].strftime('%Y-%m-%d')"
   ]
  },
  {
   "cell_type": "code",
   "execution_count": 9,
   "metadata": {},
   "outputs": [
    {
     "data": {
      "text/plain": [
       "'신과함께-인과 연'"
      ]
     },
     "execution_count": 9,
     "metadata": {},
     "output_type": "execute_result"
    }
   ],
   "source": [
    "title_date['영화명'][0]"
   ]
  },
  {
   "cell_type": "code",
   "execution_count": 80,
   "metadata": {},
   "outputs": [
    {
     "name": "stdout",
     "output_type": "stream",
     "text": [
      "{\"startDate\":\"2018-07-11\",\"endDate\":\"2018-08-22\",\"timeUnit\":\"date\",\"results\":[{\"title\":\"신과함께-인과 연\",\"keywords\":[\"신과함께\",\"인과연\"],\"data\":[{\"period\":\"2018-07-11\",\"ratio\":9.71661},{\"period\":\"2018-07-12\",\"ratio\":13.04808},{\"period\":\"2018-07-13\",\"ratio\":10.34863},{\"period\":\"2018-07-14\",\"ratio\":11.33188},{\"period\":\"2018-07-15\",\"ratio\":10.02388},{\"period\":\"2018-07-16\",\"ratio\":8.00891},{\"period\":\"2018-07-17\",\"ratio\":9.34239},{\"period\":\"2018-07-18\",\"ratio\":10.85624},{\"period\":\"2018-07-19\",\"ratio\":14.24117},{\"period\":\"2018-07-20\",\"ratio\":12.85672},{\"period\":\"2018-07-21\",\"ratio\":15.3828},{\"period\":\"2018-07-22\",\"ratio\":15.77001},{\"period\":\"2018-07-23\",\"ratio\":14.71081},{\"period\":\"2018-07-24\",\"ratio\":18.73176},{\"period\":\"2018-07-25\",\"ratio\":21.4407},{\"period\":\"2018-07-26\",\"ratio\":18.89613},{\"period\":\"2018-07-27\",\"ratio\":19.79895},{\"period\":\"2018-07-28\",\"ratio\":32.41386},{\"period\":\"2018-07-29\",\"ratio\":41.7013},{\"period\":\"2018-07-30\",\"ratio\":36.06758},{\"period\":\"2018-07-31\",\"ratio\":37.55645},{\"period\":\"2018-08-01\",\"ratio\":100},{\"period\":\"2018-08-02\",\"ratio\":84.57172},{\"period\":\"2018-08-03\",\"ratio\":67.12348},{\"period\":\"2018-08-04\",\"ratio\":75.88832},{\"period\":\"2018-08-05\",\"ratio\":79.88878},{\"period\":\"2018-08-06\",\"ratio\":63.56369},{\"period\":\"2018-08-07\",\"ratio\":46.38075},{\"period\":\"2018-08-08\",\"ratio\":42.60212},{\"period\":\"2018-08-09\",\"ratio\":37.21521},{\"period\":\"2018-08-10\",\"ratio\":33.35864},{\"period\":\"2018-08-11\",\"ratio\":37.13877},{\"period\":\"2018-08-12\",\"ratio\":40.35233},{\"period\":\"2018-08-13\",\"ratio\":30.77311},{\"period\":\"2018-08-14\",\"ratio\":78.64622},{\"period\":\"2018-08-15\",\"ratio\":42.48571},{\"period\":\"2018-08-16\",\"ratio\":32.42285},{\"period\":\"2018-08-17\",\"ratio\":21.92383},{\"period\":\"2018-08-18\",\"ratio\":37.33262},{\"period\":\"2018-08-19\",\"ratio\":31.81631},{\"period\":\"2018-08-20\",\"ratio\":23.85487},{\"period\":\"2018-08-21\",\"ratio\":12.78178},{\"period\":\"2018-08-22\",\"ratio\":12.44104}]}]}\n"
     ]
    }
   ],
   "source": [
    "#-*- coding: utf-8 -*-\n",
    "import json\n",
    "\n",
    "import os\n",
    "import sys\n",
    "import urllib.request\n",
    "\n",
    "client_id = \"PAsKLiqEIeAcb0BGXcAv\"\n",
    "client_secret = \"toPoLTL6en\"\n",
    "url = \"https://openapi.naver.com/v1/datalab/search\";\n",
    "\n",
    "body_raw = {\n",
    "    \"startDate\": title_date['개봉전'][0].strftime('%Y-%m-%d'),\n",
    "    \"endDate\":title_date['개봉후'][0].strftime('%Y-%m-%d'),\n",
    "    \"timeUnit\":\"date\",\n",
    "    \"keywordGroups\":[\n",
    "        {\"groupName\":title_date['영화명'][0], \"keywords\": [\"신과함께\",\"인과연\"]},\n",
    "        #{\"groupName\":title_date['영화명'][0], \"keywords\": [\"어벤져스\"]}\n",
    "    ],\n",
    "}\n",
    "body = json.dumps(body_raw)\n",
    "\n",
    "request = urllib.request.Request(url)\n",
    "request.add_header(\"X-Naver-Client-Id\",client_id)\n",
    "request.add_header(\"X-Naver-Client-Secret\",client_secret)\n",
    "request.add_header(\"Content-Type\",\"application/json\")\n",
    "response = urllib.request.urlopen(request, data=body.encode(\"utf-8\"))\n",
    "rescode = response.getcode()\n",
    "search = []\n",
    "if(rescode==200):\n",
    "    response_body = response.read()\n",
    "    print(response_body.decode('utf-8'))\n",
    "    search.append(response_body.decode('utf-8'))\n",
    "else:\n",
    "    print(\"Error Code:\" + rescode)"
   ]
  },
  {
   "cell_type": "code",
   "execution_count": 83,
   "metadata": {},
   "outputs": [
    {
     "data": {
      "text/plain": [
       "[{'period': '2018-07-11', 'ratio': 9.71661},\n",
       " {'period': '2018-07-12', 'ratio': 13.04808},\n",
       " {'period': '2018-07-13', 'ratio': 10.34863},\n",
       " {'period': '2018-07-14', 'ratio': 11.33188},\n",
       " {'period': '2018-07-15', 'ratio': 10.02388},\n",
       " {'period': '2018-07-16', 'ratio': 8.00891},\n",
       " {'period': '2018-07-17', 'ratio': 9.34239},\n",
       " {'period': '2018-07-18', 'ratio': 10.85624},\n",
       " {'period': '2018-07-19', 'ratio': 14.24117},\n",
       " {'period': '2018-07-20', 'ratio': 12.85672},\n",
       " {'period': '2018-07-21', 'ratio': 15.3828},\n",
       " {'period': '2018-07-22', 'ratio': 15.77001},\n",
       " {'period': '2018-07-23', 'ratio': 14.71081},\n",
       " {'period': '2018-07-24', 'ratio': 18.73176},\n",
       " {'period': '2018-07-25', 'ratio': 21.4407},\n",
       " {'period': '2018-07-26', 'ratio': 18.89613},\n",
       " {'period': '2018-07-27', 'ratio': 19.79895},\n",
       " {'period': '2018-07-28', 'ratio': 32.41386},\n",
       " {'period': '2018-07-29', 'ratio': 41.7013},\n",
       " {'period': '2018-07-30', 'ratio': 36.06758},\n",
       " {'period': '2018-07-31', 'ratio': 37.55645},\n",
       " {'period': '2018-08-01', 'ratio': 100},\n",
       " {'period': '2018-08-02', 'ratio': 84.57172},\n",
       " {'period': '2018-08-03', 'ratio': 67.12348},\n",
       " {'period': '2018-08-04', 'ratio': 75.88832},\n",
       " {'period': '2018-08-05', 'ratio': 79.88878},\n",
       " {'period': '2018-08-06', 'ratio': 63.56369},\n",
       " {'period': '2018-08-07', 'ratio': 46.38075},\n",
       " {'period': '2018-08-08', 'ratio': 42.60212},\n",
       " {'period': '2018-08-09', 'ratio': 37.21521},\n",
       " {'period': '2018-08-10', 'ratio': 33.35864},\n",
       " {'period': '2018-08-11', 'ratio': 37.13877},\n",
       " {'period': '2018-08-12', 'ratio': 40.35233},\n",
       " {'period': '2018-08-13', 'ratio': 30.77311},\n",
       " {'period': '2018-08-14', 'ratio': 78.64622},\n",
       " {'period': '2018-08-15', 'ratio': 42.48571},\n",
       " {'period': '2018-08-16', 'ratio': 32.42285},\n",
       " {'period': '2018-08-17', 'ratio': 21.92383},\n",
       " {'period': '2018-08-18', 'ratio': 37.33262},\n",
       " {'period': '2018-08-19', 'ratio': 31.81631},\n",
       " {'period': '2018-08-20', 'ratio': 23.85487},\n",
       " {'period': '2018-08-21', 'ratio': 12.78178},\n",
       " {'period': '2018-08-22', 'ratio': 12.44104}]"
      ]
     },
     "execution_count": 83,
     "metadata": {},
     "output_type": "execute_result"
    }
   ],
   "source": [
    "df = json.loads(search[0])\n",
    "df1 = df['results'][0]['data']\n",
    "df1"
   ]
  },
  {
   "cell_type": "code",
   "execution_count": 84,
   "metadata": {},
   "outputs": [],
   "source": [
    "df = json.loads(search[0])\n",
    "df1 = df['results'][0]['data']\n",
    "\n",
    "x,y = [],[]\n",
    "for line in df1:\n",
    "    x.append(datetime.strptime(line['period'], '%Y-%m-%d'))\n",
    "    y.append(line['ratio'])           "
   ]
  },
  {
   "cell_type": "markdown",
   "metadata": {},
   "source": [
    "# 검색량 시각화"
   ]
  },
  {
   "cell_type": "code",
   "execution_count": 85,
   "metadata": {},
   "outputs": [
    {
     "data": {
      "image/png": "[encoded data removed]",
      "text/plain": [
       "<Figure size 432x288 with 1 Axes>"
      ]
     },
     "metadata": {
      "needs_background": "light"
     },
     "output_type": "display_data"
    }
   ],
   "source": [
    "import matplotlib.pyplot as plt\n",
    "plt.plot(x, y, linestyle='-', marker='*', label='value', markevery=[22])\n",
    "#plt.plot(x1,y1, linestyle='-', marker='*', markevery=[22], color='red')\n",
    "plt.xlabel('time')\n",
    "plt.ylabel('ratio')\n",
    "plt.legend(loc=2)\n",
    "plt.show()"
   ]
  },
  {
   "cell_type": "markdown",
   "metadata": {},
   "source": [
    "# 영화검색 api & 신과함께 정보 df로 만들기 전처리"
   ]
  },
  {
   "cell_type": "code",
   "execution_count": 54,
   "metadata": {},
   "outputs": [
    {
     "name": "stdout",
     "output_type": "stream",
     "text": [
      "{\n",
      "\"lastBuildDate\": \"Wed, 01 May 2019 17:27:03 +0900\",\n",
      "\"total\": 1,\n",
      "\"start\": 1,\n",
      "\"display\": 1,\n",
      "\"items\": [\n",
      "{\n",
      "\"title\": \"<b>신과함께-인과 연</b>\",\n",
      "\"link\": \"https://movie.naver.com/movie/bi/mi/basic.nhn?code=167697\",\n",
      "\"image\": \"https://ssl.pstatic.net/imgmovie/mdi/mit110/1676/167697_P01_113354.jpg\",\n",
      "\"subtitle\": \"Along with the Gods: The Last 49 Days\",\n",
      "\"pubDate\": \"2017\",\n",
      "\"director\": \"김용화|\",\n",
      "\"actor\": \"하정우|주지훈|김향기|마동석|김동욱|\",\n",
      "\"userRating\": \"7.71\"\n",
      "\n",
      "}\n",
      "]\n",
      "}\n",
      "\n"
     ]
    }
   ],
   "source": [
    "import os\n",
    "import sys\n",
    "import urllib.request\n",
    "\n",
    "client_id = \"PAsKLiqEIeAcb0BGXcAv\"\n",
    "client_secret = \"toPoLTL6en\"\n",
    "encText = urllib.parse.quote(\"신과함께-인과연\")\n",
    "\n",
    "url = \"https://openapi.naver.com/v1/search/movie?query=\" + encText # json 결과\n",
    "request = urllib.request.Request(url)\n",
    "request.add_header(\"X-Naver-Client-Id\",client_id)\n",
    "request.add_header(\"X-Naver-Client-Secret\",client_secret)\n",
    "response = urllib.request.urlopen(request)\n",
    "rescode = response.getcode()\n",
    "movie = []\n",
    "if(rescode==200):\n",
    "    response_body = response.read()\n",
    "    print(response_body.decode('utf-8'))\n",
    "    movie.append(response_body.decode('utf-8'))\n",
    "else:\n",
    "    print(\"Error Code:\" + rescode)"
   ]
  },
  {
   "cell_type": "code",
   "execution_count": 55,
   "metadata": {},
   "outputs": [
    {
     "data": {
      "text/plain": [
       "['{\\n\"lastBuildDate\": \"Wed, 01 May 2019 17:27:03 +0900\",\\n\"total\": 1,\\n\"start\": 1,\\n\"display\": 1,\\n\"items\": [\\n{\\n\"title\": \"<b>신과함께-인과 연</b>\",\\n\"link\": \"https://movie.naver.com/movie/bi/mi/basic.nhn?code=167697\",\\n\"image\": \"https://ssl.pstatic.net/imgmovie/mdi/mit110/1676/167697_P01_113354.jpg\",\\n\"subtitle\": \"Along with the Gods: The Last 49 Days\",\\n\"pubDate\": \"2017\",\\n\"director\": \"김용화|\",\\n\"actor\": \"하정우|주지훈|김향기|마동석|김동욱|\",\\n\"userRating\": \"7.71\"\\n\\n}\\n]\\n}\\n']"
      ]
     },
     "execution_count": 55,
     "metadata": {},
     "output_type": "execute_result"
    }
   ],
   "source": [
    "movie"
   ]
  },
  {
   "cell_type": "code",
   "execution_count": 56,
   "metadata": {},
   "outputs": [
    {
     "data": {
      "text/plain": [
       "{'title': '<b>신과함께-인과 연</b>',\n",
       " 'link': 'https://movie.naver.com/movie/bi/mi/basic.nhn?code=167697',\n",
       " 'image': 'https://ssl.pstatic.net/imgmovie/mdi/mit110/1676/167697_P01_113354.jpg',\n",
       " 'subtitle': 'Along with the Gods: The Last 49 Days',\n",
       " 'pubDate': '2017',\n",
       " 'director': '김용화|',\n",
       " 'actor': '하정우|주지훈|김향기|마동석|김동욱|',\n",
       " 'userRating': '7.71'}"
      ]
     },
     "execution_count": 56,
     "metadata": {},
     "output_type": "execute_result"
    }
   ],
   "source": [
    "df = json.loads(movie[0])\n",
    "df['items'][0]"
   ]
  },
  {
   "cell_type": "code",
   "execution_count": 57,
   "metadata": {},
   "outputs": [
    {
     "name": "stdout",
     "output_type": "stream",
     "text": [
      "<b>신과함께-인과 연</b>\n",
      "https://movie.naver.com/movie/bi/mi/basic.nhn?code=167697\n",
      "https://ssl.pstatic.net/imgmovie/mdi/mit110/1676/167697_P01_113354.jpg\n",
      "Along with the Gods: The Last 49 Days\n",
      "2017\n",
      "김용화|\n",
      "하정우|주지훈|김향기|마동석|김동욱|\n",
      "7.71\n"
     ]
    }
   ],
   "source": [
    "print(df['items'][0]['title'])\n",
    "print(df['items'][0]['link'])\n",
    "print(df['items'][0]['image'])\n",
    "print(df['items'][0]['subtitle'])\n",
    "print(df['items'][0]['pubDate'])\n",
    "print(df['items'][0]['director'])\n",
    "print(df['items'][0]['actor'])\n",
    "print(df['items'][0]['userRating'])"
   ]
  },
  {
   "cell_type": "code",
   "execution_count": 58,
   "metadata": {},
   "outputs": [
    {
     "data": {
      "text/html": [
       "<div>\n",
       "<style scoped>\n",
       "    .dataframe tbody tr th:only-of-type {\n",
       "        vertical-align: middle;\n",
       "    }\n",
       "\n",
       "    .dataframe tbody tr th {\n",
       "        vertical-align: top;\n",
       "    }\n",
       "\n",
       "    .dataframe thead th {\n",
       "        text-align: right;\n",
       "    }\n",
       "</style>\n",
       "<table border=\"1\" class=\"dataframe\">\n",
       "  <thead>\n",
       "    <tr style=\"text-align: right;\">\n",
       "      <th></th>\n",
       "      <th>0</th>\n",
       "    </tr>\n",
       "  </thead>\n",
       "  <tbody>\n",
       "    <tr>\n",
       "      <th>title</th>\n",
       "      <td>신과함께-인과 연</td>\n",
       "    </tr>\n",
       "    <tr>\n",
       "      <th>link</th>\n",
       "      <td>https://movie.naver.com/movie/bi/mi/basic.nhn?...</td>\n",
       "    </tr>\n",
       "    <tr>\n",
       "      <th>image</th>\n",
       "      <td>https://ssl.pstatic.net/imgmovie/mdi/mit110/16...</td>\n",
       "    </tr>\n",
       "    <tr>\n",
       "      <th>subtitle</th>\n",
       "      <td>Along with the Gods: The Last 49 Days</td>\n",
       "    </tr>\n",
       "    <tr>\n",
       "      <th>pubDate</th>\n",
       "      <td>2017</td>\n",
       "    </tr>\n",
       "    <tr>\n",
       "      <th>director</th>\n",
       "      <td>김용화</td>\n",
       "    </tr>\n",
       "    <tr>\n",
       "      <th>actor</th>\n",
       "      <td>None</td>\n",
       "    </tr>\n",
       "    <tr>\n",
       "      <th>userRating</th>\n",
       "      <td>7.71</td>\n",
       "    </tr>\n",
       "  </tbody>\n",
       "</table>\n",
       "</div>"
      ],
      "text/plain": [
       "                                                            0\n",
       "title                                               신과함께-인과 연\n",
       "link        https://movie.naver.com/movie/bi/mi/basic.nhn?...\n",
       "image       https://ssl.pstatic.net/imgmovie/mdi/mit110/16...\n",
       "subtitle                Along with the Gods: The Last 49 Days\n",
       "pubDate                                                  2017\n",
       "director                                                  김용화\n",
       "actor                                                    None\n",
       "userRating                                               7.71"
      ]
     },
     "execution_count": 58,
     "metadata": {},
     "output_type": "execute_result"
    }
   ],
   "source": [
    "movie = pd.Series(df['items'][0])\n",
    "\n",
    "movie['title']= df['items'][0]['title'].split('<b>')[1].split('</b>')[0]\n",
    "movie['director'] = df['items'][0]['director'].split('|')[0]\n",
    "movie['actor'] = df['items'][0]['actor'].split('|').remove('')\n",
    "\n",
    "movie.to_frame()"
   ]
  }
 ],
 "metadata": {
  "kernelspec": {
   "display_name": "Python 3",
   "language": "python",
   "name": "python3"
  },
  "language_info": {
   "codemirror_mode": {
    "name": "ipython",
    "version": 3
   },
   "file_extension": ".py",
   "mimetype": "text/x-python",
   "name": "python",
   "nbconvert_exporter": "python",
   "pygments_lexer": "ipython3",
   "version": "3.7.1"
  }
 },
 "nbformat": 4,
 "nbformat_minor": 2
}
