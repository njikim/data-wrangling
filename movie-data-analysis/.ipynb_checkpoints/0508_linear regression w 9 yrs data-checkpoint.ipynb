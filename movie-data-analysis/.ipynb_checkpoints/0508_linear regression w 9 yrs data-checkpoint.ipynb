{
 "cells": [
  {
   "cell_type": "markdown",
   "metadata": {},
   "source": [
    "# 회귀분석 on 평점 & 매출액\n",
    "### 네이버 api+영진위"
   ]
  },
  {
   "cell_type": "code",
   "execution_count": 52,
   "metadata": {},
   "outputs": [],
   "source": [
    "import numpy as np\n",
    "import pandas as pd\n",
    "import json\n",
    "import time"
   ]
  },
  {
   "cell_type": "code",
   "execution_count": 53,
   "metadata": {},
   "outputs": [],
   "source": [
    "df = pd.read_csv('movie.csv', encoding='ms949', index_col=[0,1])"
   ]
  },
  {
   "cell_type": "code",
   "execution_count": 54,
   "metadata": {},
   "outputs": [],
   "source": [
    "df.reset_index(inplace=True)"
   ]
  },
  {
   "cell_type": "code",
   "execution_count": 55,
   "metadata": {},
   "outputs": [
    {
     "data": {
      "text/plain": [
       "['아바타', '아저씨', '인셉션', '의형제', '아이언맨 2']"
      ]
     },
     "execution_count": 55,
     "metadata": {},
     "output_type": "execute_result"
    }
   ],
   "source": [
    "# 영화 이름만 리스트에 담음\n",
    "movie_title = df['영화명'].values.tolist()\n",
    "movie_title[:5]"
   ]
  },
  {
   "cell_type": "markdown",
   "metadata": {},
   "source": [
    "### use naver api to get 평점"
   ]
  },
  {
   "cell_type": "code",
   "execution_count": 5,
   "metadata": {},
   "outputs": [],
   "source": [
    "# import os\n",
    "# import sys\n",
    "# import urllib.request\n",
    "\n",
    "# client_id = \"PAsKLiqEIeAcb0BGXcAv\"\n",
    "# client_secret = \"toPoLTL6en\"\n",
    "# movie = []"
   ]
  },
  {
   "cell_type": "code",
   "execution_count": 6,
   "metadata": {},
   "outputs": [],
   "source": [
    "# for i in range(900):\n",
    "#     encText = urllib.parse.quote(movie_title[i])\n",
    "\n",
    "#     url = \"https://openapi.naver.com/v1/search/movie?query=\" + encText # json 결과\n",
    "#     request = urllib.request.Request(url)\n",
    "#     request.add_header(\"X-Naver-Client-Id\",client_id)\n",
    "#     request.add_header(\"X-Naver-Client-Secret\",client_secret)\n",
    "#     response = urllib.request.urlopen(request)\n",
    "#     rescode = response.getcode()\n",
    "    \n",
    "#     if(rescode==200):\n",
    "#         response_body = response.read()\n",
    "#         movie.append(response_body.decode('utf-8'))\n",
    "#         time.sleep(1)\n",
    "#     else:\n",
    "#         print(\"Error Code:\" + rescode)"
   ]
  },
  {
   "cell_type": "code",
   "execution_count": 18,
   "metadata": {
    "scrolled": true
   },
   "outputs": [
    {
     "data": {
      "text/plain": [
       "900"
      ]
     },
     "execution_count": 18,
     "metadata": {},
     "output_type": "execute_result"
    }
   ],
   "source": [
    "len(movie)"
   ]
  },
  {
   "cell_type": "markdown",
   "metadata": {},
   "source": [
    "### <font color=blue> 396번째 movie(헨젤과 그레텔: 마녀 사냥꾼 3D)에 문제 있어서 걔는 빼고 </font>"
   ]
  },
  {
   "cell_type": "code",
   "execution_count": 19,
   "metadata": {},
   "outputs": [
    {
     "data": {
      "text/plain": [
       "{'lastBuildDate': 'Thu, 09 May 2019 16:23:14 +0900',\n",
       " 'total': 9,\n",
       " 'start': 1,\n",
       " 'display': 9,\n",
       " 'items': [{'title': '<b>롤러코스터</b>',\n",
       "   'link': 'https://movie.naver.com/movie/bi/mi/basic.nhn?code=100801',\n",
       "   'image': 'https://ssl.pstatic.net/imgmovie/mdi/mit110/1008/100801_P13_134332.jpg',\n",
       "   'subtitle': 'Fasten Your Seatbelt',\n",
       "   'pubDate': '2013',\n",
       "   'director': '하정우|',\n",
       "   'actor': '정경호|한성천|',\n",
       "   'userRating': '6.35'},\n",
       "  {'title': '<b>롤러코스터</b> 3',\n",
       "   'link': 'https://movie.naver.com/movie/bi/mi/basic.nhn?code=101250',\n",
       "   'image': 'https://ssl.pstatic.net/imgmovie/mdi/mit110/1012/101250_P01_181907.jpg',\n",
       "   'subtitle': '',\n",
       "   'pubDate': '2013',\n",
       "   'director': '',\n",
       "   'actor': '유상무|김지민|최종훈|안영미|강유미|양세찬|이용진|김성원|김영희|변서은|성현주|윤진영|',\n",
       "   'userRating': '6.75'},\n",
       "  {'title': '스윗<b>롤러코스터</b> : 케익위의 요정들',\n",
       "   'link': 'https://movie.naver.com/movie/bi/mi/basic.nhn?code=117177',\n",
       "   'image': 'https://ssl.pstatic.net/imgmovie/mdi/mit110/1171/117177_P01_174548.jpg',\n",
       "   'subtitle': 'Sweet Rollercoaster : The Fairies of Cake',\n",
       "   'pubDate': '2013',\n",
       "   'director': '',\n",
       "   'actor': '',\n",
       "   'userRating': '0.00'},\n",
       "  {'title': '<b>롤러코스터</b>',\n",
       "   'link': 'https://movie.naver.com/movie/bi/mi/basic.nhn?code=134014',\n",
       "   'image': 'https://ssl.pstatic.net/imgmovie/mdi/mit110/1340/134014_P01_155936.png',\n",
       "   'subtitle': 'Rollercoaster',\n",
       "   'pubDate': '2013',\n",
       "   'director': '마렉 말리코브스키|',\n",
       "   'actor': '',\n",
       "   'userRating': '0.00'},\n",
       "  {'title': '<b>롤러코스터</b> 2',\n",
       "   'link': 'https://movie.naver.com/movie/bi/mi/basic.nhn?code=102113',\n",
       "   'image': 'https://ssl.pstatic.net/imgmovie/mdi/mit110/1021/102113_P01_120857.jpg',\n",
       "   'subtitle': '',\n",
       "   'pubDate': '2012',\n",
       "   'director': '',\n",
       "   'actor': '이용주|박성호|백봉기|김호창|김재우|정진욱|최종훈|정경호|장시우|이일민|유상무|장도연|',\n",
       "   'userRating': '7.80'},\n",
       "  {'title': '<b>롤러코스터</b>',\n",
       "   'link': 'https://movie.naver.com/movie/bi/mi/basic.nhn?code=92168',\n",
       "   'image': 'https://ssl.pstatic.net/imgmovie/mdi/mit110/0921/92168_P01_201642.jpg',\n",
       "   'subtitle': '',\n",
       "   'pubDate': '2012',\n",
       "   'director': '반주원|',\n",
       "   'actor': '',\n",
       "   'userRating': '9.50'},\n",
       "  {'title': '신나는 <b>롤러코스터</b> 타기',\n",
       "   'link': 'https://movie.naver.com/movie/bi/mi/basic.nhn?code=90690',\n",
       "   'image': '',\n",
       "   'subtitle': '',\n",
       "   'pubDate': '2011',\n",
       "   'director': '김영운|',\n",
       "   'actor': '',\n",
       "   'userRating': '0.00'},\n",
       "  {'title': '바클레이카드 - <b>롤러코스터</b>',\n",
       "   'link': 'https://movie.naver.com/movie/bi/mi/basic.nhn?code=86597',\n",
       "   'image': 'https://ssl.pstatic.net/imgmovie/mdi/mit110/0865/86597_P01_161952.jpg',\n",
       "   'subtitle': 'Barclaycard - Rollercoaster',\n",
       "   'pubDate': '2010',\n",
       "   'director': '니콜라 퓰시|',\n",
       "   'actor': '',\n",
       "   'userRating': '0.00'},\n",
       "  {'title': '<b>롤러 코스터</b>',\n",
       "   'link': 'https://movie.naver.com/movie/bi/mi/basic.nhn?code=54791',\n",
       "   'image': 'https://ssl.pstatic.net/imgmovie/mdi/mit110/0547/54791_P01_183853.jpg',\n",
       "   'subtitle': 'Hollenritt',\n",
       "   'pubDate': '2008',\n",
       "   'director': '마틴 버스커|',\n",
       "   'actor': '아론 알타라스|루카스 엘머|',\n",
       "   'userRating': '0.00'}]}"
      ]
     },
     "execution_count": 19,
     "metadata": {},
     "output_type": "execute_result"
    }
   ],
   "source": [
    "json.loads(movie[395])"
   ]
  },
  {
   "cell_type": "markdown",
   "metadata": {},
   "source": [
    "### 에러나는 곳 발견"
   ]
  },
  {
   "cell_type": "code",
   "execution_count": 20,
   "metadata": {},
   "outputs": [
    {
     "data": {
      "text/plain": [
       "{'lastBuildDate': 'Thu, 09 May 2019 16:23:15 +0900',\n",
       " 'total': 0,\n",
       " 'start': 1,\n",
       " 'display': 0,\n",
       " 'items': []}"
      ]
     },
     "execution_count": 20,
     "metadata": {},
     "output_type": "execute_result"
    }
   ],
   "source": [
    "json.loads(movie[396])"
   ]
  },
  {
   "cell_type": "code",
   "execution_count": 21,
   "metadata": {},
   "outputs": [
    {
     "data": {
      "text/plain": [
       "{'lastBuildDate': 'Thu, 09 May 2019 16:23:16 +0900',\n",
       " 'total': 1,\n",
       " 'start': 1,\n",
       " 'display': 1,\n",
       " 'items': [{'title': '<b>파이스토리 : 악당상어 소탕작전</b>',\n",
       "   'link': 'https://movie.naver.com/movie/bi/mi/basic.nhn?code=100938',\n",
       "   'image': 'https://ssl.pstatic.net/imgmovie/mdi/mit110/1009/100938_P15_103229.jpg',\n",
       "   'subtitle': 'The Reef 2: High Tide',\n",
       "   'pubDate': '2012',\n",
       "   'director': '마크 A.Z. 디페|박태동|',\n",
       "   'actor': '드레이크 벨|앤디 딕|',\n",
       "   'userRating': '8.66'}]}"
      ]
     },
     "execution_count": 21,
     "metadata": {},
     "output_type": "execute_result"
    }
   ],
   "source": [
    "json.loads(movie[397])"
   ]
  },
  {
   "cell_type": "code",
   "execution_count": 56,
   "metadata": {},
   "outputs": [],
   "source": [
    "# rating 이라는 빈 리스트에 userRating만 담는다\n",
    "rating = []\n",
    "for i in range(900):\n",
    "    if i != 396:\n",
    "        rating.append(json.loads(movie[i])['items'][0]['userRating'])\n",
    "#rating"
   ]
  },
  {
   "cell_type": "code",
   "execution_count": 57,
   "metadata": {},
   "outputs": [
    {
     "data": {
      "text/plain": [
       "899"
      ]
     },
     "execution_count": 57,
     "metadata": {},
     "output_type": "execute_result"
    }
   ],
   "source": [
    "len(rating)"
   ]
  },
  {
   "cell_type": "code",
   "execution_count": null,
   "metadata": {},
   "outputs": [],
   "source": []
  },
  {
   "cell_type": "code",
   "execution_count": 58,
   "metadata": {},
   "outputs": [],
   "source": [
    "df.drop([396], inplace=True)"
   ]
  },
  {
   "cell_type": "code",
   "execution_count": 59,
   "metadata": {},
   "outputs": [],
   "source": [
    "# 평점 컬럼에 추가\n",
    "df['평점'] = rating"
   ]
  },
  {
   "cell_type": "code",
   "execution_count": 60,
   "metadata": {},
   "outputs": [
    {
     "data": {
      "text/plain": [
       "113"
      ]
     },
     "execution_count": 60,
     "metadata": {},
     "output_type": "execute_result"
    }
   ],
   "source": [
    "# 113개의 평점은 문제가 있음\n",
    "df[df['평점']=='0.00']['영화명'].count()"
   ]
  },
  {
   "cell_type": "code",
   "execution_count": 61,
   "metadata": {},
   "outputs": [
    {
     "data": {
      "text/plain": [
       "Int64Index([  1,   8,   9,  10,  17,  19,  20,  21,  38,  46,\n",
       "            ...\n",
       "            770, 776, 779, 781, 798, 810, 817, 823, 871, 895],\n",
       "           dtype='int64', length=113)"
      ]
     },
     "execution_count": 61,
     "metadata": {},
     "output_type": "execute_result"
    }
   ],
   "source": [
    "df[df['평점']=='0.00'].index"
   ]
  },
  {
   "cell_type": "code",
   "execution_count": 62,
   "metadata": {},
   "outputs": [
    {
     "data": {
      "text/plain": [
       "45"
      ]
     },
     "execution_count": 62,
     "metadata": {},
     "output_type": "execute_result"
    }
   ],
   "source": [
    "# 과감히 날려버리기\n",
    "df.drop(df.index[df[df['평점']=='0.00'].index], inplace=True)\n",
    "df[df['평점']=='0.00']['영화명'].count()"
   ]
  },
  {
   "cell_type": "code",
   "execution_count": 63,
   "metadata": {},
   "outputs": [
    {
     "data": {
      "text/plain": [
       "Int64Index([427, 443, 455, 458, 463, 466, 490, 495, 500, 511, 516, 519, 523,\n",
       "            537, 539, 541, 561, 582, 606, 610, 613, 619, 622, 660, 663, 666,\n",
       "            685, 693, 695, 704, 725, 730, 734, 736, 767, 770, 776, 779, 781,\n",
       "            798, 810, 817, 823, 871, 895],\n",
       "           dtype='int64')"
      ]
     },
     "execution_count": 63,
     "metadata": {},
     "output_type": "execute_result"
    }
   ],
   "source": [
    "df[df['평점']=='0.00'].index"
   ]
  },
  {
   "cell_type": "code",
   "execution_count": 64,
   "metadata": {},
   "outputs": [],
   "source": [
    "# df.drop([427], inplace=True)\n",
    "df.drop([427, 443, 455, 458, 463, 466, 490, 495, 500, 511, 516, 519, 523,\n",
    "            537, 539, 541, 561, 582, 606, 610, 613, 619, 622, 660, 663, 666,\n",
    "            685, 693, 695, 704, 725, 730, 734, 736, 767, 770, 776, 779, 781,\n",
    "            798, 810, 817, 823, 871, 895], inplace=True)"
   ]
  },
  {
   "cell_type": "code",
   "execution_count": 66,
   "metadata": {},
   "outputs": [
    {
     "data": {
      "text/plain": [
       "0"
      ]
     },
     "execution_count": 66,
     "metadata": {},
     "output_type": "execute_result"
    }
   ],
   "source": [
    "# 다 날렸음\n",
    "df[df['평점']=='0.00']['영화명'].count()"
   ]
  },
  {
   "cell_type": "code",
   "execution_count": 73,
   "metadata": {},
   "outputs": [
    {
     "data": {
      "text/plain": [
       "numpy.float64"
      ]
     },
     "execution_count": 73,
     "metadata": {},
     "output_type": "execute_result"
    }
   ],
   "source": [
    "# 평점 object 타입을 float 타입으로 바꾼다.\n",
    "df[\"평점\"] = df[\"평점\"].replace(\"'\",\"\")\n",
    "df[\"평점\"] = df[\"평점\"].astype(float)\n",
    "type(df['평점'][0])"
   ]
  },
  {
   "cell_type": "code",
   "execution_count": 74,
   "metadata": {},
   "outputs": [],
   "source": [
    "# 평점 추가한 데이터프레임을 csv로 저장\n",
    "df.to_csv('movie_rating_9yrs.csv', encoding='ms949')"
   ]
  },
  {
   "cell_type": "code",
   "execution_count": 75,
   "metadata": {},
   "outputs": [
    {
     "data": {
      "text/html": [
       "<div>\n",
       "<style scoped>\n",
       "    .dataframe tbody tr th:only-of-type {\n",
       "        vertical-align: middle;\n",
       "    }\n",
       "\n",
       "    .dataframe tbody tr th {\n",
       "        vertical-align: top;\n",
       "    }\n",
       "\n",
       "    .dataframe thead th {\n",
       "        text-align: right;\n",
       "    }\n",
       "</style>\n",
       "<table border=\"1\" class=\"dataframe\">\n",
       "  <thead>\n",
       "    <tr style=\"text-align: right;\">\n",
       "      <th></th>\n",
       "      <th>Unnamed: 0</th>\n",
       "      <th>year</th>\n",
       "      <th>rank</th>\n",
       "      <th>index</th>\n",
       "      <th>영화명</th>\n",
       "      <th>개봉일</th>\n",
       "      <th>매출액</th>\n",
       "      <th>누적매출액</th>\n",
       "      <th>관객수</th>\n",
       "      <th>누적관객수</th>\n",
       "      <th>스크린수</th>\n",
       "      <th>상영횟수</th>\n",
       "      <th>대표국적</th>\n",
       "      <th>제작사</th>\n",
       "      <th>배급사</th>\n",
       "      <th>등급</th>\n",
       "      <th>장르</th>\n",
       "      <th>감독</th>\n",
       "      <th>배우</th>\n",
       "      <th>평점</th>\n",
       "    </tr>\n",
       "  </thead>\n",
       "  <tbody>\n",
       "    <tr>\n",
       "      <th>0</th>\n",
       "      <td>0</td>\n",
       "      <td>2010</td>\n",
       "      <td>1</td>\n",
       "      <td>0</td>\n",
       "      <td>아바타</td>\n",
       "      <td>2009-12-17</td>\n",
       "      <td>81455728000</td>\n",
       "      <td>124896892500</td>\n",
       "      <td>8151952</td>\n",
       "      <td>13302619</td>\n",
       "      <td>714</td>\n",
       "      <td>111860</td>\n",
       "      <td>미국</td>\n",
       "      <td>이십세기폭스필름코퍼레이션</td>\n",
       "      <td>주식회사 해리슨앤컴퍼니,이십세기폭스코리아(주)</td>\n",
       "      <td>12세이상관람가</td>\n",
       "      <td>SF,액션,어드벤처</td>\n",
       "      <td>제임스 카메론</td>\n",
       "      <td>샘 워싱턴,조 샐다나,시고니 위버</td>\n",
       "      <td>9.63</td>\n",
       "    </tr>\n",
       "    <tr>\n",
       "      <th>1</th>\n",
       "      <td>2</td>\n",
       "      <td>2010</td>\n",
       "      <td>3</td>\n",
       "      <td>2</td>\n",
       "      <td>인셉션</td>\n",
       "      <td>2010-07-21</td>\n",
       "      <td>43394990000</td>\n",
       "      <td>43394990000</td>\n",
       "      <td>5827444</td>\n",
       "      <td>5827444</td>\n",
       "      <td>531</td>\n",
       "      <td>81891</td>\n",
       "      <td>미국</td>\n",
       "      <td>워너 브러더스 픽쳐스,레젼데리 픽쳐스</td>\n",
       "      <td>워너브러더스 코리아(주)</td>\n",
       "      <td>12세이상관람가</td>\n",
       "      <td>드라마,미스터리</td>\n",
       "      <td>크리스토퍼 놀란</td>\n",
       "      <td>레오나르도 디카프리오,엘렌 페이지,마리온 꼬띨라르</td>\n",
       "      <td>4.00</td>\n",
       "    </tr>\n",
       "    <tr>\n",
       "      <th>2</th>\n",
       "      <td>3</td>\n",
       "      <td>2010</td>\n",
       "      <td>4</td>\n",
       "      <td>3</td>\n",
       "      <td>의형제</td>\n",
       "      <td>2010-02-04</td>\n",
       "      <td>40153729000</td>\n",
       "      <td>40153729000</td>\n",
       "      <td>5416812</td>\n",
       "      <td>5416812</td>\n",
       "      <td>569</td>\n",
       "      <td>118243</td>\n",
       "      <td>한국</td>\n",
       "      <td>(주)쇼박스,(주)다세포클럽,루비콘픽쳐스㈜</td>\n",
       "      <td>(주)쇼박스</td>\n",
       "      <td>15세이상관람가</td>\n",
       "      <td>드라마,액션</td>\n",
       "      <td>장훈</td>\n",
       "      <td>송강호,강동원,전국환,박혁권,윤희석,최정우,정인기,설진욱,강명희,홍서백,박용진,김의...</td>\n",
       "      <td>8.86</td>\n",
       "    </tr>\n",
       "    <tr>\n",
       "      <th>3</th>\n",
       "      <td>4</td>\n",
       "      <td>2010</td>\n",
       "      <td>5</td>\n",
       "      <td>4</td>\n",
       "      <td>아이언맨 2</td>\n",
       "      <td>2010-04-29</td>\n",
       "      <td>32635195500</td>\n",
       "      <td>32635195500</td>\n",
       "      <td>4425003</td>\n",
       "      <td>4425003</td>\n",
       "      <td>921</td>\n",
       "      <td>87665</td>\n",
       "      <td>미국</td>\n",
       "      <td>파라마운트 픽쳐스,마블 엔터프라이즈</td>\n",
       "      <td>씨제이엔터테인먼트</td>\n",
       "      <td>12세이상관람가</td>\n",
       "      <td>SF,액션,어드벤처</td>\n",
       "      <td>존 파브로</td>\n",
       "      <td>로버트 다우니 주니어,기네스 팰트로우,돈 치들,스칼렛 요한슨,미키 루크</td>\n",
       "      <td>7.36</td>\n",
       "    </tr>\n",
       "    <tr>\n",
       "      <th>4</th>\n",
       "      <td>5</td>\n",
       "      <td>2010</td>\n",
       "      <td>6</td>\n",
       "      <td>5</td>\n",
       "      <td>전우치</td>\n",
       "      <td>2009-12-23</td>\n",
       "      <td>26345113000</td>\n",
       "      <td>44092715000</td>\n",
       "      <td>3611472</td>\n",
       "      <td>6065355</td>\n",
       "      <td>556</td>\n",
       "      <td>73175</td>\n",
       "      <td>한국</td>\n",
       "      <td>영화사 집</td>\n",
       "      <td>씨제이엔터테인먼트</td>\n",
       "      <td>12세이상관람가</td>\n",
       "      <td>액션,코미디,판타지</td>\n",
       "      <td>최동훈</td>\n",
       "      <td>강동원,임수정,김윤석,유해진,염정아,김시권,주진모,김효진,강동균,정혜란,손선영,송진...</td>\n",
       "      <td>10.00</td>\n",
       "    </tr>\n",
       "  </tbody>\n",
       "</table>\n",
       "</div>"
      ],
      "text/plain": [
       "   Unnamed: 0  year  rank  index     영화명         개봉일          매출액  \\\n",
       "0           0  2010     1      0     아바타  2009-12-17  81455728000   \n",
       "1           2  2010     3      2     인셉션  2010-07-21  43394990000   \n",
       "2           3  2010     4      3     의형제  2010-02-04  40153729000   \n",
       "3           4  2010     5      4  아이언맨 2  2010-04-29  32635195500   \n",
       "4           5  2010     6      5     전우치  2009-12-23  26345113000   \n",
       "\n",
       "          누적매출액      관객수     누적관객수  스크린수    상영횟수 대표국적  \\\n",
       "0  124896892500  8151952  13302619   714  111860   미국   \n",
       "1   43394990000  5827444   5827444   531   81891   미국   \n",
       "2   40153729000  5416812   5416812   569  118243   한국   \n",
       "3   32635195500  4425003   4425003   921   87665   미국   \n",
       "4   44092715000  3611472   6065355   556   73175   한국   \n",
       "\n",
       "                       제작사                        배급사        등급          장르  \\\n",
       "0            이십세기폭스필름코퍼레이션  주식회사 해리슨앤컴퍼니,이십세기폭스코리아(주)  12세이상관람가  SF,액션,어드벤처   \n",
       "1     워너 브러더스 픽쳐스,레젼데리 픽쳐스              워너브러더스 코리아(주)  12세이상관람가    드라마,미스터리   \n",
       "2  (주)쇼박스,(주)다세포클럽,루비콘픽쳐스㈜                     (주)쇼박스  15세이상관람가      드라마,액션   \n",
       "3      파라마운트 픽쳐스,마블 엔터프라이즈                  씨제이엔터테인먼트  12세이상관람가  SF,액션,어드벤처   \n",
       "4                    영화사 집                  씨제이엔터테인먼트  12세이상관람가  액션,코미디,판타지   \n",
       "\n",
       "         감독                                                 배우     평점  \n",
       "0   제임스 카메론                                 샘 워싱턴,조 샐다나,시고니 위버   9.63  \n",
       "1  크리스토퍼 놀란                        레오나르도 디카프리오,엘렌 페이지,마리온 꼬띨라르   4.00  \n",
       "2        장훈  송강호,강동원,전국환,박혁권,윤희석,최정우,정인기,설진욱,강명희,홍서백,박용진,김의...   8.86  \n",
       "3     존 파브로            로버트 다우니 주니어,기네스 팰트로우,돈 치들,스칼렛 요한슨,미키 루크   7.36  \n",
       "4       최동훈  강동원,임수정,김윤석,유해진,염정아,김시권,주진모,김효진,강동균,정혜란,손선영,송진...  10.00  "
      ]
     },
     "execution_count": 75,
     "metadata": {},
     "output_type": "execute_result"
    }
   ],
   "source": [
    "df2 = pd.read_csv('movie_rating_9yrs.csv', encoding='ms949')\n",
    "df2.head()"
   ]
  },
  {
   "cell_type": "code",
   "execution_count": null,
   "metadata": {},
   "outputs": [],
   "source": []
  },
  {
   "cell_type": "markdown",
   "metadata": {},
   "source": [
    "#  회귀식 -> 매출액 = b0 + b1*평점\n"
   ]
  },
  {
   "cell_type": "code",
   "execution_count": 76,
   "metadata": {
    "scrolled": false
   },
   "outputs": [
    {
     "data": {
      "text/html": [
       "<table class=\"simpletable\">\n",
       "<caption>OLS Regression Results</caption>\n",
       "<tr>\n",
       "  <th>Dep. Variable:</th>           <td>매출액</td>       <th>  R-squared:         </th> <td>   0.014</td> \n",
       "</tr>\n",
       "<tr>\n",
       "  <th>Model:</th>                   <td>OLS</td>       <th>  Adj. R-squared:    </th> <td>   0.012</td> \n",
       "</tr>\n",
       "<tr>\n",
       "  <th>Method:</th>             <td>Least Squares</td>  <th>  F-statistic:       </th> <td>   10.20</td> \n",
       "</tr>\n",
       "<tr>\n",
       "  <th>Date:</th>             <td>Thu, 09 May 2019</td> <th>  Prob (F-statistic):</th>  <td>0.00146</td> \n",
       "</tr>\n",
       "<tr>\n",
       "  <th>Time:</th>                 <td>16:47:25</td>     <th>  Log-Likelihood:    </th> <td> -18504.</td> \n",
       "</tr>\n",
       "<tr>\n",
       "  <th>No. Observations:</th>      <td>   741</td>      <th>  AIC:               </th> <td>3.701e+04</td>\n",
       "</tr>\n",
       "<tr>\n",
       "  <th>Df Residuals:</th>          <td>   739</td>      <th>  BIC:               </th> <td>3.702e+04</td>\n",
       "</tr>\n",
       "<tr>\n",
       "  <th>Df Model:</th>              <td>     1</td>      <th>                     </th>     <td> </td>    \n",
       "</tr>\n",
       "<tr>\n",
       "  <th>Covariance Type:</th>      <td>nonrobust</td>    <th>                     </th>     <td> </td>    \n",
       "</tr>\n",
       "</table>\n",
       "<table class=\"simpletable\">\n",
       "<tr>\n",
       "      <td></td>         <th>coef</th>     <th>std err</th>      <th>t</th>      <th>P>|t|</th>  <th>[0.025</th>    <th>0.975]</th>  \n",
       "</tr>\n",
       "<tr>\n",
       "  <th>Intercept</th> <td> 3.118e+09</td> <td> 3.53e+09</td> <td>    0.883</td> <td> 0.378</td> <td>-3.82e+09</td> <td> 1.01e+10</td>\n",
       "</tr>\n",
       "<tr>\n",
       "  <th>평점</th>        <td> 1.435e+09</td> <td> 4.49e+08</td> <td>    3.194</td> <td> 0.001</td> <td> 5.53e+08</td> <td> 2.32e+09</td>\n",
       "</tr>\n",
       "</table>\n",
       "<table class=\"simpletable\">\n",
       "<tr>\n",
       "  <th>Omnibus:</th>       <td>446.960</td> <th>  Durbin-Watson:     </th> <td>   0.430</td>\n",
       "</tr>\n",
       "<tr>\n",
       "  <th>Prob(Omnibus):</th> <td> 0.000</td>  <th>  Jarque-Bera (JB):  </th> <td>3662.575</td>\n",
       "</tr>\n",
       "<tr>\n",
       "  <th>Skew:</th>          <td> 2.688</td>  <th>  Prob(JB):          </th> <td>    0.00</td>\n",
       "</tr>\n",
       "<tr>\n",
       "  <th>Kurtosis:</th>      <td>12.472</td>  <th>  Cond. No.          </th> <td>    45.3</td>\n",
       "</tr>\n",
       "</table><br/><br/>Warnings:<br/>[1] Standard Errors assume that the covariance matrix of the errors is correctly specified."
      ],
      "text/plain": [
       "<class 'statsmodels.iolib.summary.Summary'>\n",
       "\"\"\"\n",
       "                            OLS Regression Results                            \n",
       "==============================================================================\n",
       "Dep. Variable:                    매출액   R-squared:                       0.014\n",
       "Model:                            OLS   Adj. R-squared:                  0.012\n",
       "Method:                 Least Squares   F-statistic:                     10.20\n",
       "Date:                Thu, 09 May 2019   Prob (F-statistic):            0.00146\n",
       "Time:                        16:47:25   Log-Likelihood:                -18504.\n",
       "No. Observations:                 741   AIC:                         3.701e+04\n",
       "Df Residuals:                     739   BIC:                         3.702e+04\n",
       "Df Model:                           1                                         \n",
       "Covariance Type:            nonrobust                                         \n",
       "==============================================================================\n",
       "                 coef    std err          t      P>|t|      [0.025      0.975]\n",
       "------------------------------------------------------------------------------\n",
       "Intercept   3.118e+09   3.53e+09      0.883      0.378   -3.82e+09    1.01e+10\n",
       "평점          1.435e+09   4.49e+08      3.194      0.001    5.53e+08    2.32e+09\n",
       "==============================================================================\n",
       "Omnibus:                      446.960   Durbin-Watson:                   0.430\n",
       "Prob(Omnibus):                  0.000   Jarque-Bera (JB):             3662.575\n",
       "Skew:                           2.688   Prob(JB):                         0.00\n",
       "Kurtosis:                      12.472   Cond. No.                         45.3\n",
       "==============================================================================\n",
       "\n",
       "Warnings:\n",
       "[1] Standard Errors assume that the covariance matrix of the errors is correctly specified.\n",
       "\"\"\""
      ]
     },
     "execution_count": 76,
     "metadata": {},
     "output_type": "execute_result"
    }
   ],
   "source": [
    "import statsmodels.api as sm\n",
    "import statsmodels.formula.api as smf\n",
    "\n",
    "reg = smf.ols(formula = '매출액 ~ 평점',data = df2).fit()\n",
    "reg.summary()"
   ]
  },
  {
   "cell_type": "code",
   "execution_count": 80,
   "metadata": {},
   "outputs": [],
   "source": [
    "%matplotlib inline"
   ]
  },
  {
   "cell_type": "code",
   "execution_count": 81,
   "metadata": {},
   "outputs": [],
   "source": [
    "import warnings\n",
    "warnings.filterwarnings('ignore')"
   ]
  },
  {
   "cell_type": "code",
   "execution_count": 82,
   "metadata": {},
   "outputs": [],
   "source": [
    "import seaborn as sns\n",
    "import matplotlib.pyplot as plt\n",
    "\n",
    "\n",
    "from matplotlib import font_manager, rc\n",
    "font_name = font_manager.FontProperties(fname=\"C:/Windows/Fonts/malgun.ttf\").get_name() #컴퓨터내에 설치되 있는 맑은고딕 폰트를 가져오겠다.\n",
    "rc('font',family=font_name)"
   ]
  },
  {
   "cell_type": "code",
   "execution_count": 84,
   "metadata": {
    "scrolled": true
   },
   "outputs": [
    {
     "data": {
      "text/plain": [
       "Text(0.5, 1.0, '최근 9년간 평점과 매출액')"
      ]
     },
     "execution_count": 84,
     "metadata": {},
     "output_type": "execute_result"
    },
    {
     "data": {
      "image/png": "[encoded data removed]",
      "text/plain": [
       "<Figure size 432x288 with 1 Axes>"
      ]
     },
     "metadata": {
      "needs_background": "light"
     },
     "output_type": "display_data"
    }
   ],
   "source": [
    "ax = sns.regplot('평점', '매출액', df, color='red')\n",
    "ax.set_title(\"최근 9년간 평점과 매출액\")"
   ]
  },
  {
   "cell_type": "markdown",
   "metadata": {},
   "source": [
    "# 결과 해석: 상관성 제로"
   ]
  },
  {
   "cell_type": "code",
   "execution_count": null,
   "metadata": {},
   "outputs": [],
   "source": []
  }
 ],
 "metadata": {
  "kernelspec": {
   "display_name": "Python 3",
   "language": "python",
   "name": "python3"
  },
  "language_info": {
   "codemirror_mode": {
    "name": "ipython",
    "version": 3
   },
   "file_extension": ".py",
   "mimetype": "text/x-python",
   "name": "python",
   "nbconvert_exporter": "python",
   "pygments_lexer": "ipython3",
   "version": "3.7.1"
  }
 },
 "nbformat": 4,
 "nbformat_minor": 2
}
