{
 "cells": [
  {
   "cell_type": "markdown",
   "metadata": {},
   "source": [
    "# ANOVA TEST\n",
    "- 등급 vs 매출액:\n",
    "    - anova p < 0.05: 등급 간 통계적인 차이가 있음\n",
    "    - post-hoc: 12세이상 관람, 전체 관람 두 등급의 성질이 달라서 매출액이 차이가 있다.\n",
    "- 장르 vs 매출액:\n",
    "    anova p > 0.05: 장르별 매출액 통계적인 유의미 x\n",
    "   \n",
    "- 계절 vs 매출액:\n",
    "    anova p < 0.06\n",
    "    post-hoc: 여름, 겨울 true\n"
   ]
  },
  {
   "cell_type": "code",
   "execution_count": 18,
   "metadata": {},
   "outputs": [],
   "source": [
    "# 분산분석을 사용하기 위한 라이브러리를 불러오는 코드\n",
    "import scipy.stats as stats\n",
    "import pandas as pd\n",
    "import urllib\n",
    "from statsmodels.formula.api import ols\n",
    "from statsmodels.stats.anova import anova_lm\n",
    "import matplotlib.pyplot as plt\n",
    "import numpy as np\n",
    "%matplotlib inline"
   ]
  },
  {
   "cell_type": "code",
   "execution_count": 19,
   "metadata": {},
   "outputs": [
    {
     "data": {
      "text/html": [
       "<div>\n",
       "<style scoped>\n",
       "    .dataframe tbody tr th:only-of-type {\n",
       "        vertical-align: middle;\n",
       "    }\n",
       "\n",
       "    .dataframe tbody tr th {\n",
       "        vertical-align: top;\n",
       "    }\n",
       "\n",
       "    .dataframe thead th {\n",
       "        text-align: right;\n",
       "    }\n",
       "</style>\n",
       "<table border=\"1\" class=\"dataframe\">\n",
       "  <thead>\n",
       "    <tr style=\"text-align: right;\">\n",
       "      <th></th>\n",
       "      <th></th>\n",
       "      <th>index</th>\n",
       "      <th>영화명</th>\n",
       "      <th>개봉일</th>\n",
       "      <th>매출액</th>\n",
       "      <th>누적매출액</th>\n",
       "      <th>관객수</th>\n",
       "      <th>누적관객수</th>\n",
       "      <th>스크린수</th>\n",
       "      <th>상영횟수</th>\n",
       "      <th>대표국적</th>\n",
       "      <th>제작사</th>\n",
       "      <th>배급사</th>\n",
       "      <th>등급</th>\n",
       "      <th>장르</th>\n",
       "      <th>감독</th>\n",
       "      <th>배우</th>\n",
       "    </tr>\n",
       "    <tr>\n",
       "      <th>year</th>\n",
       "      <th>rank</th>\n",
       "      <th></th>\n",
       "      <th></th>\n",
       "      <th></th>\n",
       "      <th></th>\n",
       "      <th></th>\n",
       "      <th></th>\n",
       "      <th></th>\n",
       "      <th></th>\n",
       "      <th></th>\n",
       "      <th></th>\n",
       "      <th></th>\n",
       "      <th></th>\n",
       "      <th></th>\n",
       "      <th></th>\n",
       "      <th></th>\n",
       "      <th></th>\n",
       "    </tr>\n",
       "  </thead>\n",
       "  <tbody>\n",
       "    <tr>\n",
       "      <th rowspan=\"5\" valign=\"top\">2010</th>\n",
       "      <th>1</th>\n",
       "      <td>0</td>\n",
       "      <td>아바타</td>\n",
       "      <td>2009-12-17</td>\n",
       "      <td>81455728000</td>\n",
       "      <td>124896892500</td>\n",
       "      <td>8151952</td>\n",
       "      <td>13302619</td>\n",
       "      <td>714</td>\n",
       "      <td>111860</td>\n",
       "      <td>미국</td>\n",
       "      <td>이십세기폭스필름코퍼레이션</td>\n",
       "      <td>주식회사 해리슨앤컴퍼니,이십세기폭스코리아(주)</td>\n",
       "      <td>12세이상관람가</td>\n",
       "      <td>SF,액션,어드벤처</td>\n",
       "      <td>제임스 카메론</td>\n",
       "      <td>샘 워싱턴,조 샐다나,시고니 위버</td>\n",
       "    </tr>\n",
       "    <tr>\n",
       "      <th>2</th>\n",
       "      <td>1</td>\n",
       "      <td>아저씨</td>\n",
       "      <td>2010-08-04</td>\n",
       "      <td>47101332000</td>\n",
       "      <td>47101332000</td>\n",
       "      <td>6178248</td>\n",
       "      <td>6178248</td>\n",
       "      <td>501</td>\n",
       "      <td>109853</td>\n",
       "      <td>한국</td>\n",
       "      <td>오퍼스픽쳐스(유)</td>\n",
       "      <td>씨제이엔터테인먼트</td>\n",
       "      <td>청소년관람불가</td>\n",
       "      <td>액션,드라마</td>\n",
       "      <td>이정범</td>\n",
       "      <td>원빈,김새론,김희원,김성오,김태훈,김호연,김성훈,김효민,김효서,신동민,홍석준,조영아...</td>\n",
       "    </tr>\n",
       "    <tr>\n",
       "      <th>3</th>\n",
       "      <td>2</td>\n",
       "      <td>인셉션</td>\n",
       "      <td>2010-07-21</td>\n",
       "      <td>43394990000</td>\n",
       "      <td>43394990000</td>\n",
       "      <td>5827444</td>\n",
       "      <td>5827444</td>\n",
       "      <td>531</td>\n",
       "      <td>81891</td>\n",
       "      <td>미국</td>\n",
       "      <td>워너 브러더스 픽쳐스,레젼데리 픽쳐스</td>\n",
       "      <td>워너브러더스 코리아(주)</td>\n",
       "      <td>12세이상관람가</td>\n",
       "      <td>드라마,미스터리</td>\n",
       "      <td>크리스토퍼 놀란</td>\n",
       "      <td>레오나르도 디카프리오,엘렌 페이지,마리온 꼬띨라르</td>\n",
       "    </tr>\n",
       "    <tr>\n",
       "      <th>4</th>\n",
       "      <td>3</td>\n",
       "      <td>의형제</td>\n",
       "      <td>2010-02-04</td>\n",
       "      <td>40153729000</td>\n",
       "      <td>40153729000</td>\n",
       "      <td>5416812</td>\n",
       "      <td>5416812</td>\n",
       "      <td>569</td>\n",
       "      <td>118243</td>\n",
       "      <td>한국</td>\n",
       "      <td>(주)쇼박스,(주)다세포클럽,루비콘픽쳐스㈜</td>\n",
       "      <td>(주)쇼박스</td>\n",
       "      <td>15세이상관람가</td>\n",
       "      <td>드라마,액션</td>\n",
       "      <td>장훈</td>\n",
       "      <td>송강호,강동원,전국환,박혁권,윤희석,최정우,정인기,설진욱,강명희,홍서백,박용진,김의...</td>\n",
       "    </tr>\n",
       "    <tr>\n",
       "      <th>5</th>\n",
       "      <td>4</td>\n",
       "      <td>아이언맨 2</td>\n",
       "      <td>2010-04-29</td>\n",
       "      <td>32635195500</td>\n",
       "      <td>32635195500</td>\n",
       "      <td>4425003</td>\n",
       "      <td>4425003</td>\n",
       "      <td>921</td>\n",
       "      <td>87665</td>\n",
       "      <td>미국</td>\n",
       "      <td>파라마운트 픽쳐스,마블 엔터프라이즈</td>\n",
       "      <td>씨제이엔터테인먼트</td>\n",
       "      <td>12세이상관람가</td>\n",
       "      <td>SF,액션,어드벤처</td>\n",
       "      <td>존 파브로</td>\n",
       "      <td>로버트 다우니 주니어,기네스 팰트로우,돈 치들,스칼렛 요한슨,미키 루크</td>\n",
       "    </tr>\n",
       "  </tbody>\n",
       "</table>\n",
       "</div>"
      ],
      "text/plain": [
       "           index     영화명         개봉일          매출액         누적매출액      관객수  \\\n",
       "year rank                                                                  \n",
       "2010 1         0     아바타  2009-12-17  81455728000  124896892500  8151952   \n",
       "     2         1     아저씨  2010-08-04  47101332000   47101332000  6178248   \n",
       "     3         2     인셉션  2010-07-21  43394990000   43394990000  5827444   \n",
       "     4         3     의형제  2010-02-04  40153729000   40153729000  5416812   \n",
       "     5         4  아이언맨 2  2010-04-29  32635195500   32635195500  4425003   \n",
       "\n",
       "              누적관객수  스크린수    상영횟수 대표국적                      제작사  \\\n",
       "year rank                                                         \n",
       "2010 1     13302619   714  111860   미국            이십세기폭스필름코퍼레이션   \n",
       "     2      6178248   501  109853   한국                오퍼스픽쳐스(유)   \n",
       "     3      5827444   531   81891   미국     워너 브러더스 픽쳐스,레젼데리 픽쳐스   \n",
       "     4      5416812   569  118243   한국  (주)쇼박스,(주)다세포클럽,루비콘픽쳐스㈜   \n",
       "     5      4425003   921   87665   미국      파라마운트 픽쳐스,마블 엔터프라이즈   \n",
       "\n",
       "                                 배급사        등급          장르        감독  \\\n",
       "year rank                                                              \n",
       "2010 1     주식회사 해리슨앤컴퍼니,이십세기폭스코리아(주)  12세이상관람가  SF,액션,어드벤처   제임스 카메론   \n",
       "     2                     씨제이엔터테인먼트   청소년관람불가      액션,드라마       이정범   \n",
       "     3                 워너브러더스 코리아(주)  12세이상관람가    드라마,미스터리  크리스토퍼 놀란   \n",
       "     4                        (주)쇼박스  15세이상관람가      드라마,액션        장훈   \n",
       "     5                     씨제이엔터테인먼트  12세이상관람가  SF,액션,어드벤처     존 파브로   \n",
       "\n",
       "                                                          배우  \n",
       "year rank                                                     \n",
       "2010 1                                    샘 워싱턴,조 샐다나,시고니 위버  \n",
       "     2     원빈,김새론,김희원,김성오,김태훈,김호연,김성훈,김효민,김효서,신동민,홍석준,조영아...  \n",
       "     3                           레오나르도 디카프리오,엘렌 페이지,마리온 꼬띨라르  \n",
       "     4     송강호,강동원,전국환,박혁권,윤희석,최정우,정인기,설진욱,강명희,홍서백,박용진,김의...  \n",
       "     5               로버트 다우니 주니어,기네스 팰트로우,돈 치들,스칼렛 요한슨,미키 루크  "
      ]
     },
     "execution_count": 19,
     "metadata": {},
     "output_type": "execute_result"
    }
   ],
   "source": [
    "import numpy as np\n",
    "import pandas as pd\n",
    "\n",
    "df = pd.read_csv('movie.csv', encoding='ms949', index_col=[0,1])\n",
    "df.head()"
   ]
  },
  {
   "cell_type": "markdown",
   "metadata": {},
   "source": [
    "#### 최근 3년간 데이터만!"
   ]
  },
  {
   "cell_type": "code",
   "execution_count": 20,
   "metadata": {},
   "outputs": [],
   "source": [
    "df = df.query('year>=2016')"
   ]
  },
  {
   "cell_type": "markdown",
   "metadata": {},
   "source": [
    "# <font color=red> 등급 </font>"
   ]
  },
  {
   "cell_type": "markdown",
   "metadata": {},
   "source": [
    "### 등급별 매출차이 box-plot"
   ]
  },
  {
   "cell_type": "code",
   "execution_count": 21,
   "metadata": {},
   "outputs": [],
   "source": [
    "import matplotlib as mpl\n",
    "import matplotlib.pyplot as plt\n",
    "\n",
    "from matplotlib import font_manager, rc\n",
    "font_name = font_manager.FontProperties(fname=\"C:/Windows/Fonts/malgun.ttf\").get_name() #컴퓨터내에 설치되 있는 맑은고딕 폰트를 가져오겠다.\n",
    "rc('font',family=font_name)"
   ]
  },
  {
   "cell_type": "code",
   "execution_count": 22,
   "metadata": {},
   "outputs": [
    {
     "data": {
      "text/plain": [
       "Text(0, 0.5, '매출액')"
      ]
     },
     "execution_count": 22,
     "metadata": {},
     "output_type": "execute_result"
    },
    {
     "data": {
      "image/png": "[encoded data removed]",
      "text/plain": [
       "<Figure size 720x720 with 1 Axes>"
      ]
     },
     "metadata": {
      "needs_background": "light"
     },
     "output_type": "display_data"
    }
   ],
   "source": [
    "fig = plt.figure(figsize=(10,10))\n",
    "ax = fig.add_subplot(1,1,1)\n",
    "ax.boxplot([df[df[\"등급\"]==\"전체관람가\"][\"매출액\"],\n",
    "            df[df[\"등급\"]==\"12세이상관람가\"][\"매출액\"],\n",
    "           df[df[\"등급\"]==\"15세이상관람가\"][\"매출액\"],\n",
    "           df[df[\"등급\"]==\"청소년관람불가\"][\"매출액\"]],labels=[\"전체관람가\",\"12세이상관람가\",\"15세이상관람가\",\"청소년관람불가\"])\n",
    "\n",
    "ax.set_title(\"Boxplot of 매출액 by 등급\")\n",
    "ax.set_xlabel(\"등급\")\n",
    "ax.set_ylabel(\"매출액\")"
   ]
  },
  {
   "cell_type": "markdown",
   "metadata": {},
   "source": [
    "###  등급별 anova"
   ]
  },
  {
   "cell_type": "markdown",
   "metadata": {},
   "source": [
    "#### 등급 종류 check!"
   ]
  },
  {
   "cell_type": "code",
   "execution_count": 23,
   "metadata": {},
   "outputs": [
    {
     "data": {
      "text/plain": [
       "array(['15세이상관람가', '12세이상관람가', '전체관람가', '청소년관람불가'], dtype=object)"
      ]
     },
     "execution_count": 23,
     "metadata": {},
     "output_type": "execute_result"
    }
   ],
   "source": [
    "df['등급'].unique()"
   ]
  },
  {
   "cell_type": "code",
   "execution_count": 24,
   "metadata": {},
   "outputs": [
    {
     "name": "stdout",
     "output_type": "stream",
     "text": [
      "             df        sum_sq       mean_sq         F    PR(>F)\n",
      "C(등급)       3.0  2.904864e+21  9.682879e+20  2.989358  0.031356\n",
      "Residual  296.0  9.587785e+22  3.239117e+20       NaN       NaN\n"
     ]
    }
   ],
   "source": [
    "# 3년치 ANOVA\n",
    "# p-value가 0.05보다 작으면 그룹의 평균값이 통계적으로 유의미하게 차이가 남.\n",
    "\n",
    "df_anova = pd.DataFrame(df, columns=['매출액','등급'])\n",
    "model = ols('매출액~C(등급)',df_anova).fit()\n",
    "print(anova_lm(model))"
   ]
  },
  {
   "cell_type": "markdown",
   "metadata": {},
   "source": [
    "### 등급별 post-hoc"
   ]
  },
  {
   "cell_type": "code",
   "execution_count": 25,
   "metadata": {},
   "outputs": [
    {
     "data": {
      "text/html": [
       "<div>\n",
       "<style scoped>\n",
       "    .dataframe tbody tr th:only-of-type {\n",
       "        vertical-align: middle;\n",
       "    }\n",
       "\n",
       "    .dataframe tbody tr th {\n",
       "        vertical-align: top;\n",
       "    }\n",
       "\n",
       "    .dataframe thead th {\n",
       "        text-align: right;\n",
       "    }\n",
       "</style>\n",
       "<table border=\"1\" class=\"dataframe\">\n",
       "  <thead>\n",
       "    <tr style=\"text-align: right;\">\n",
       "      <th></th>\n",
       "      <th>year</th>\n",
       "      <th>rank</th>\n",
       "      <th>매출액</th>\n",
       "      <th>등급</th>\n",
       "    </tr>\n",
       "  </thead>\n",
       "  <tbody>\n",
       "    <tr>\n",
       "      <th>0</th>\n",
       "      <td>2016</td>\n",
       "      <td>1</td>\n",
       "      <td>93178283048</td>\n",
       "      <td>15세이상관람가</td>\n",
       "    </tr>\n",
       "    <tr>\n",
       "      <th>1</th>\n",
       "      <td>2016</td>\n",
       "      <td>2</td>\n",
       "      <td>77320403264</td>\n",
       "      <td>15세이상관람가</td>\n",
       "    </tr>\n",
       "    <tr>\n",
       "      <th>2</th>\n",
       "      <td>2016</td>\n",
       "      <td>3</td>\n",
       "      <td>72672111827</td>\n",
       "      <td>12세이상관람가</td>\n",
       "    </tr>\n",
       "    <tr>\n",
       "      <th>3</th>\n",
       "      <td>2016</td>\n",
       "      <td>4</td>\n",
       "      <td>61269783831</td>\n",
       "      <td>15세이상관람가</td>\n",
       "    </tr>\n",
       "    <tr>\n",
       "      <th>4</th>\n",
       "      <td>2016</td>\n",
       "      <td>5</td>\n",
       "      <td>57529484417</td>\n",
       "      <td>12세이상관람가</td>\n",
       "    </tr>\n",
       "  </tbody>\n",
       "</table>\n",
       "</div>"
      ],
      "text/plain": [
       "   year  rank          매출액        등급\n",
       "0  2016     1  93178283048  15세이상관람가\n",
       "1  2016     2  77320403264  15세이상관람가\n",
       "2  2016     3  72672111827  12세이상관람가\n",
       "3  2016     4  61269783831  15세이상관람가\n",
       "4  2016     5  57529484417  12세이상관람가"
      ]
     },
     "execution_count": 25,
     "metadata": {},
     "output_type": "execute_result"
    }
   ],
   "source": [
    "df_post = df_anova.reset_index()\n",
    "df_post.head()"
   ]
  },
  {
   "cell_type": "code",
   "execution_count": 26,
   "metadata": {},
   "outputs": [
    {
     "name": "stdout",
     "output_type": "stream",
     "text": [
      "             Multiple Comparison of Means - Tukey HSD,FWER=0.05             \n",
      "============================================================================\n",
      " group1   group2      meandiff           lower            upper       reject\n",
      "----------------------------------------------------------------------------\n",
      "12세이상관람가 15세이상관람가 -2217803026.2069  -8323783250.0096 3888177197.5958  False \n",
      "12세이상관람가  전체관람가   -9510898728.7696 -17744200782.9517 -1277596674.5875  True \n",
      "12세이상관람가 청소년관람불가  -3074021484.1825 -13501967939.3873 7353924971.0224  False \n",
      "15세이상관람가  전체관람가   -7293095702.5627 -15526397756.7448  940206351.6194  False \n",
      "15세이상관람가 청소년관람불가  -856218457.9756  -11284164913.1804 9571727997.2293  False \n",
      " 전체관람가   청소년관람불가  6436877244.5871   -5363391205.5181 18237145694.6924 False \n",
      "----------------------------------------------------------------------------\n"
     ]
    }
   ],
   "source": [
    "# 3년치 POST-HOC\n",
    "from statsmodels.stats.multicomp import pairwise_tukeyhsd\n",
    "\n",
    "posthoc = pairwise_tukeyhsd(df_post['매출액'], df_post['등급'], alpha=0.05)\n",
    "print(posthoc)"
   ]
  },
  {
   "cell_type": "code",
   "execution_count": 27,
   "metadata": {},
   "outputs": [
    {
     "data": {
      "image/png": "[encoded data removed]",
      "text/plain": [
       "<Figure size 720x432 with 1 Axes>"
      ]
     },
     "metadata": {
      "needs_background": "light"
     },
     "output_type": "display_data"
    }
   ],
   "source": [
    "fig = posthoc.plot_simultaneous()"
   ]
  },
  {
   "cell_type": "markdown",
   "metadata": {},
   "source": [
    "#### 결과 해석 노트 draft\n",
    "\n",
    "- 분산분석(ANOVA)를 통해 등급별 그룹간에 통계적인 차이가 있다는 것을 증명했고,\n",
    "- 사후검정을 통해 12세이상관람가 그룹과 전체관람가 그룹의 평균이 유의미한 차이가 있다는 것을 체크함.\n",
    "\n",
    "- h0: 차이가 없다 vs h1: 차이가 있다\n",
    "- p < 0.05 reject true. Therefore, 두 그룹의 차이가 있다\n",
    "\n",
    "- 두 그룹간의 성질이 진짜 달라서 그게 매출액에 영향을 미치는지..는 틀린 해석\n",
    "- 두 그룹의 '성질'이 달라서 매출액이 차이가 있다."
   ]
  },
  {
   "cell_type": "markdown",
   "metadata": {},
   "source": [
    "# <font color=red> 장르 </font>"
   ]
  },
  {
   "cell_type": "code",
   "execution_count": 31,
   "metadata": {},
   "outputs": [],
   "source": [
    "genre = df['장르'].unique()\n",
    "# genre"
   ]
  },
  {
   "cell_type": "markdown",
   "metadata": {},
   "source": [
    "#### 유니크 장르 list 생성 한 뒤, 어떤 장르가 있는지 체크"
   ]
  },
  {
   "cell_type": "code",
   "execution_count": 32,
   "metadata": {},
   "outputs": [],
   "source": [
    "genre_unique = []\n",
    "for i in range(len(genre)):\n",
    "    for j in range(len(genre[i].split(','))):\n",
    "        if genre[i].split(',')[j] not in genre_unique:\n",
    "            genre_unique.append(genre[i].split(',')[j])"
   ]
  },
  {
   "cell_type": "code",
   "execution_count": 33,
   "metadata": {
    "scrolled": false
   },
   "outputs": [
    {
     "data": {
      "text/plain": [
       "['액션',\n",
       " '스릴러',\n",
       " '범죄',\n",
       " '코미디',\n",
       " 'SF',\n",
       " '드라마',\n",
       " '전쟁',\n",
       " '미스터리',\n",
       " '사극',\n",
       " '어드벤처',\n",
       " '판타지',\n",
       " '애니메이션',\n",
       " '가족',\n",
       " '뮤지컬',\n",
       " '멜로/로맨스',\n",
       " '공포(호러)',\n",
       " '서부극(웨스턴)',\n",
       " '다큐멘터리',\n",
       " '기타']"
      ]
     },
     "execution_count": 33,
     "metadata": {},
     "output_type": "execute_result"
    }
   ],
   "source": [
    "genre_unique"
   ]
  },
  {
   "cell_type": "markdown",
   "metadata": {},
   "source": [
    "#### 장르 별 영화 갯수 체크 (비주류는 분석에서 과감히 빼기 위해)"
   ]
  },
  {
   "cell_type": "code",
   "execution_count": 34,
   "metadata": {},
   "outputs": [
    {
     "name": "stdout",
     "output_type": "stream",
     "text": [
      "SF 40\n",
      "액션 102\n",
      "어드벤처 64\n",
      "드라마 101\n",
      "미스터리 16\n",
      "코미디 40\n",
      "판타지 35\n",
      "스릴러 50\n",
      "전쟁 3\n",
      "사극 12\n",
      "멜로/로맨스 17\n",
      "범죄 37\n",
      "애니메이션 41\n",
      "가족 15\n",
      "공포(호러) 17\n",
      "다큐멘터리 2\n",
      "뮤지컬 8\n",
      "기타 1\n",
      "서부극(웨스턴) 1\n"
     ]
    }
   ],
   "source": [
    "print('SF', df[df['장르'].str.contains('SF')]['매출액'].count())\n",
    "print('액션', df[df['장르'].str.contains('액션')]['매출액'].count())\n",
    "print('어드벤처', df[df['장르'].str.contains('어드벤처')]['매출액'].count())\n",
    "print('드라마', df[df['장르'].str.contains('드라마')]['매출액'].count())\n",
    "print('미스터리', df[df['장르'].str.contains('미스터리')]['매출액'].count())\n",
    "print('코미디', df[df['장르'].str.contains('코미디')]['매출액'].count())\n",
    "print('판타지', df[df['장르'].str.contains('판타지')]['매출액'].count())\n",
    "print('스릴러', df[df['장르'].str.contains('스릴러')]['매출액'].count())\n",
    "print('전쟁', df[df['장르'].str.contains('전쟁')]['매출액'].count())\n",
    "print('사극', df[df['장르'].str.contains('사극')]['매출액'].count())\n",
    "print('멜로/로맨스', df[df['장르'].str.contains('멜로/로맨스')]['매출액'].count())\n",
    "print('범죄', df[df['장르'].str.contains('범죄')]['매출액'].count())\n",
    "print('애니메이션', df[df['장르'].str.contains('애니메이션')]['매출액'].count())\n",
    "print('가족', df[df['장르'].str.contains('가족')]['영화명'].count())\n",
    "print('공포(호러)', df[df['장르'].str.contains('공포')]['매출액'].count())\n",
    "print('다큐멘터리', df[df['장르'].str.contains('다큐멘터리')]['매출액'].count())\n",
    "print('뮤지컬', df[df['장르'].str.contains('뮤지컬')]['매출액'].count())\n",
    "print('기타', df[df['장르'].str.contains('기타')]['매출액'].count())\n",
    "print('서부극(웨스턴)', df[df['장르'].str.contains('서부극')]['매출액'].count())"
   ]
  },
  {
   "cell_type": "markdown",
   "metadata": {},
   "source": [
    "### (일단 모든 장르 포함) 장르별 매출차이  box-plot"
   ]
  },
  {
   "cell_type": "code",
   "execution_count": 35,
   "metadata": {},
   "outputs": [
    {
     "data": {
      "text/plain": [
       "Text(0, 0.5, '매출액')"
      ]
     },
     "execution_count": 35,
     "metadata": {},
     "output_type": "execute_result"
    },
    {
     "data": {
      "image/png": "[encoded data removed]",
      "text/plain": [
       "<Figure size 720x720 with 1 Axes>"
      ]
     },
     "metadata": {
      "needs_background": "light"
     },
     "output_type": "display_data"
    }
   ],
   "source": [
    "fig = plt.figure(figsize=(10,10))\n",
    "ax = fig.add_subplot(1,1,1)\n",
    "ax.boxplot([df[df['장르'].str.contains('SF')]['매출액'],\n",
    "            df[df['장르'].str.contains('액션')]['매출액'],\n",
    "            df[df['장르'].str.contains('어드벤처')]['매출액'],\n",
    "            df[df['장르'].str.contains('드라마')]['매출액'],\n",
    "            df[df['장르'].str.contains('미스터리')]['매출액'],\n",
    "            df[df['장르'].str.contains('코미디')]['매출액'],\n",
    "            df[df['장르'].str.contains('판타지')]['매출액'],\n",
    "            df[df['장르'].str.contains('스릴러')]['매출액'],\n",
    "            df[df['장르'].str.contains('전쟁')]['매출액'],\n",
    "            df[df['장르'].str.contains('사극')]['매출액'],\n",
    "            df[df['장르'].str.contains('멜로/로맨스')]['매출액'],\n",
    "            df[df['장르'].str.contains('범죄')]['매출액'],\n",
    "            df[df['장르'].str.contains('애니메이션')]['매출액'],\n",
    "            df[df['장르'].str.contains('가족')]['매출액'],\n",
    "            df[df['장르'].str.contains('공포')]['매출액'],\n",
    "            df[df['장르'].str.contains('다큐멘터리')]['매출액'],\n",
    "            df[df['장르'].str.contains('뮤지컬')]['매출액'],\n",
    "            df[df['장르'].str.contains('기타')]['매출액'],\n",
    "            df[df['장르'].str.contains('서부극')]['매출액']],labels=['SF','액션', '어드벤처', '드라마', '미스터리', '코미디', '판타지', '스릴러', '전쟁', '사극', '멜로/로맨스', '범죄', '애니메이션', '가족', '공포(호러)', '다큐멘터리', '뮤지컬', '기타','서부극(웨스턴)'])\n",
    "\n",
    "ax.set_title(\"Boxplot of 매출액 by 장르\")\n",
    "ax.set_xlabel(\"장르\")\n",
    "ax.set_ylabel(\"매출액\")"
   ]
  },
  {
   "cell_type": "markdown",
   "metadata": {},
   "source": [
    "###  장르별 anova\n",
    "- <font color=blue> **!비주류 장르는 빼고 anova**</font>\n",
    "- <font color=blue> **df_genre_itself 와 df_genre 데이터 프레임을 생성한 뒤, merge 해서 각 영화당 여러 장르가 있는 점을 고려 해anova에 적합한 df 재 생성** </font>"
   ]
  },
  {
   "cell_type": "code",
   "execution_count": 36,
   "metadata": {},
   "outputs": [],
   "source": [
    "df = df[~df['장르'].str.contains('애니메이션')]\n",
    "df = df[~df['장르'].str.contains('공포')]\n",
    "df = df[~df['장르'].str.contains('뮤지컬')]\n",
    "df = df[~df['장르'].str.contains('다큐멘터리')]\n",
    "df = df[~df['장르'].str.contains('기타')]\n",
    "df = df[~df['장르'].str.contains('전쟁')]\n",
    "df = df[~df['장르'].str.contains('서부극')]"
   ]
  },
  {
   "cell_type": "markdown",
   "metadata": {},
   "source": [
    "#### create df_genre"
   ]
  },
  {
   "cell_type": "code",
   "execution_count": 43,
   "metadata": {},
   "outputs": [],
   "source": [
    "df_genre = df[['index', '영화명','매출액','장르']]"
   ]
  },
  {
   "cell_type": "code",
   "execution_count": 44,
   "metadata": {
    "scrolled": true
   },
   "outputs": [
    {
     "data": {
      "text/html": [
       "<div>\n",
       "<style scoped>\n",
       "    .dataframe tbody tr th:only-of-type {\n",
       "        vertical-align: middle;\n",
       "    }\n",
       "\n",
       "    .dataframe tbody tr th {\n",
       "        vertical-align: top;\n",
       "    }\n",
       "\n",
       "    .dataframe thead th {\n",
       "        text-align: right;\n",
       "    }\n",
       "</style>\n",
       "<table border=\"1\" class=\"dataframe\">\n",
       "  <thead>\n",
       "    <tr style=\"text-align: right;\">\n",
       "      <th></th>\n",
       "      <th>index</th>\n",
       "      <th>영화명</th>\n",
       "      <th>매출액</th>\n",
       "      <th>장르</th>\n",
       "    </tr>\n",
       "  </thead>\n",
       "  <tbody>\n",
       "    <tr>\n",
       "      <th>0</th>\n",
       "      <td>600</td>\n",
       "      <td>부산행</td>\n",
       "      <td>93178283048</td>\n",
       "      <td>액션,스릴러</td>\n",
       "    </tr>\n",
       "    <tr>\n",
       "      <th>1</th>\n",
       "      <td>601</td>\n",
       "      <td>검사외전</td>\n",
       "      <td>77320403264</td>\n",
       "      <td>범죄,코미디</td>\n",
       "    </tr>\n",
       "    <tr>\n",
       "      <th>2</th>\n",
       "      <td>602</td>\n",
       "      <td>캡틴 아메리카: 시빌 워</td>\n",
       "      <td>72672111827</td>\n",
       "      <td>액션,SF,스릴러</td>\n",
       "    </tr>\n",
       "    <tr>\n",
       "      <th>3</th>\n",
       "      <td>603</td>\n",
       "      <td>밀정</td>\n",
       "      <td>61269783831</td>\n",
       "      <td>액션</td>\n",
       "    </tr>\n",
       "    <tr>\n",
       "      <th>4</th>\n",
       "      <td>604</td>\n",
       "      <td>터널</td>\n",
       "      <td>57529484417</td>\n",
       "      <td>드라마</td>\n",
       "    </tr>\n",
       "  </tbody>\n",
       "</table>\n",
       "</div>"
      ],
      "text/plain": [
       "   index            영화명          매출액         장르\n",
       "0    600            부산행  93178283048     액션,스릴러\n",
       "1    601           검사외전  77320403264     범죄,코미디\n",
       "2    602  캡틴 아메리카: 시빌 워  72672111827  액션,SF,스릴러\n",
       "3    603             밀정  61269783831         액션\n",
       "4    604             터널  57529484417        드라마"
      ]
     },
     "execution_count": 44,
     "metadata": {},
     "output_type": "execute_result"
    }
   ],
   "source": [
    "df_genre.reset_index(inplace=True)\n",
    "df_genre = df_genre[['index','영화명', '매출액', '장르']]\n",
    "df_genre.head()"
   ]
  },
  {
   "cell_type": "markdown",
   "metadata": {},
   "source": [
    "#### create df_genre_itself & set index"
   ]
  },
  {
   "cell_type": "code",
   "execution_count": 45,
   "metadata": {},
   "outputs": [
    {
     "data": {
      "text/html": [
       "<div>\n",
       "<style scoped>\n",
       "    .dataframe tbody tr th:only-of-type {\n",
       "        vertical-align: middle;\n",
       "    }\n",
       "\n",
       "    .dataframe tbody tr th {\n",
       "        vertical-align: top;\n",
       "    }\n",
       "\n",
       "    .dataframe thead th {\n",
       "        text-align: right;\n",
       "    }\n",
       "</style>\n",
       "<table border=\"1\" class=\"dataframe\">\n",
       "  <thead>\n",
       "    <tr style=\"text-align: right;\">\n",
       "      <th></th>\n",
       "      <th></th>\n",
       "      <th>0</th>\n",
       "    </tr>\n",
       "  </thead>\n",
       "  <tbody>\n",
       "    <tr>\n",
       "      <th rowspan=\"2\" valign=\"top\">0</th>\n",
       "      <th>0</th>\n",
       "      <td>액션</td>\n",
       "    </tr>\n",
       "    <tr>\n",
       "      <th>1</th>\n",
       "      <td>스릴러</td>\n",
       "    </tr>\n",
       "    <tr>\n",
       "      <th rowspan=\"2\" valign=\"top\">1</th>\n",
       "      <th>0</th>\n",
       "      <td>범죄</td>\n",
       "    </tr>\n",
       "    <tr>\n",
       "      <th>1</th>\n",
       "      <td>코미디</td>\n",
       "    </tr>\n",
       "    <tr>\n",
       "      <th rowspan=\"3\" valign=\"top\">2</th>\n",
       "      <th>0</th>\n",
       "      <td>액션</td>\n",
       "    </tr>\n",
       "    <tr>\n",
       "      <th>1</th>\n",
       "      <td>SF</td>\n",
       "    </tr>\n",
       "    <tr>\n",
       "      <th>2</th>\n",
       "      <td>스릴러</td>\n",
       "    </tr>\n",
       "    <tr>\n",
       "      <th>3</th>\n",
       "      <th>0</th>\n",
       "      <td>액션</td>\n",
       "    </tr>\n",
       "    <tr>\n",
       "      <th>4</th>\n",
       "      <th>0</th>\n",
       "      <td>드라마</td>\n",
       "    </tr>\n",
       "    <tr>\n",
       "      <th>5</th>\n",
       "      <th>0</th>\n",
       "      <td>코미디</td>\n",
       "    </tr>\n",
       "  </tbody>\n",
       "</table>\n",
       "</div>"
      ],
      "text/plain": [
       "       0\n",
       "0 0   액션\n",
       "  1  스릴러\n",
       "1 0   범죄\n",
       "  1  코미디\n",
       "2 0   액션\n",
       "  1   SF\n",
       "  2  스릴러\n",
       "3 0   액션\n",
       "4 0  드라마\n",
       "5 0  코미디"
      ]
     },
     "execution_count": 45,
     "metadata": {},
     "output_type": "execute_result"
    }
   ],
   "source": [
    "df_genre_itself = df_genre['장르'].str.split(',')\n",
    "df_genre_itself = df_genre_itself.apply(lambda x: pd.Series(x))\n",
    "df_genre_itself = df_genre_itself.stack().to_frame()\n",
    "\n",
    "df_genre_itself.head(10)"
   ]
  },
  {
   "cell_type": "code",
   "execution_count": 46,
   "metadata": {},
   "outputs": [],
   "source": [
    "df_genre_itself.reset_index(inplace=True)"
   ]
  },
  {
   "cell_type": "code",
   "execution_count": 47,
   "metadata": {},
   "outputs": [],
   "source": [
    "df_genre_itself = df_genre_itself[['level_0', 0]]"
   ]
  },
  {
   "cell_type": "code",
   "execution_count": 48,
   "metadata": {
    "scrolled": true
   },
   "outputs": [
    {
     "data": {
      "text/plain": [
       "Index(['level_0', 0], dtype='object')"
      ]
     },
     "execution_count": 48,
     "metadata": {},
     "output_type": "execute_result"
    }
   ],
   "source": [
    "df_genre_itself.columns"
   ]
  },
  {
   "cell_type": "code",
   "execution_count": 49,
   "metadata": {},
   "outputs": [],
   "source": [
    "df_genre_itself.columns = ['index', 'genre']"
   ]
  },
  {
   "cell_type": "code",
   "execution_count": 50,
   "metadata": {},
   "outputs": [
    {
     "data": {
      "text/html": [
       "<div>\n",
       "<style scoped>\n",
       "    .dataframe tbody tr th:only-of-type {\n",
       "        vertical-align: middle;\n",
       "    }\n",
       "\n",
       "    .dataframe tbody tr th {\n",
       "        vertical-align: top;\n",
       "    }\n",
       "\n",
       "    .dataframe thead th {\n",
       "        text-align: right;\n",
       "    }\n",
       "</style>\n",
       "<table border=\"1\" class=\"dataframe\">\n",
       "  <thead>\n",
       "    <tr style=\"text-align: right;\">\n",
       "      <th></th>\n",
       "      <th>index</th>\n",
       "      <th>genre</th>\n",
       "    </tr>\n",
       "  </thead>\n",
       "  <tbody>\n",
       "    <tr>\n",
       "      <th>0</th>\n",
       "      <td>0</td>\n",
       "      <td>액션</td>\n",
       "    </tr>\n",
       "    <tr>\n",
       "      <th>1</th>\n",
       "      <td>0</td>\n",
       "      <td>스릴러</td>\n",
       "    </tr>\n",
       "    <tr>\n",
       "      <th>2</th>\n",
       "      <td>1</td>\n",
       "      <td>범죄</td>\n",
       "    </tr>\n",
       "    <tr>\n",
       "      <th>3</th>\n",
       "      <td>1</td>\n",
       "      <td>코미디</td>\n",
       "    </tr>\n",
       "    <tr>\n",
       "      <th>4</th>\n",
       "      <td>2</td>\n",
       "      <td>액션</td>\n",
       "    </tr>\n",
       "  </tbody>\n",
       "</table>\n",
       "</div>"
      ],
      "text/plain": [
       "   index genre\n",
       "0      0    액션\n",
       "1      0   스릴러\n",
       "2      1    범죄\n",
       "3      1   코미디\n",
       "4      2    액션"
      ]
     },
     "execution_count": 50,
     "metadata": {},
     "output_type": "execute_result"
    }
   ],
   "source": [
    "df_genre_itself.head()"
   ]
  },
  {
   "cell_type": "code",
   "execution_count": 52,
   "metadata": {},
   "outputs": [
    {
     "data": {
      "text/html": [
       "<div>\n",
       "<style scoped>\n",
       "    .dataframe tbody tr th:only-of-type {\n",
       "        vertical-align: middle;\n",
       "    }\n",
       "\n",
       "    .dataframe tbody tr th {\n",
       "        vertical-align: top;\n",
       "    }\n",
       "\n",
       "    .dataframe thead th {\n",
       "        text-align: right;\n",
       "    }\n",
       "</style>\n",
       "<table border=\"1\" class=\"dataframe\">\n",
       "  <thead>\n",
       "    <tr style=\"text-align: right;\">\n",
       "      <th></th>\n",
       "      <th>genre</th>\n",
       "    </tr>\n",
       "    <tr>\n",
       "      <th>index</th>\n",
       "      <th></th>\n",
       "    </tr>\n",
       "  </thead>\n",
       "  <tbody>\n",
       "    <tr>\n",
       "      <th>0</th>\n",
       "      <td>액션</td>\n",
       "    </tr>\n",
       "    <tr>\n",
       "      <th>0</th>\n",
       "      <td>스릴러</td>\n",
       "    </tr>\n",
       "    <tr>\n",
       "      <th>1</th>\n",
       "      <td>범죄</td>\n",
       "    </tr>\n",
       "    <tr>\n",
       "      <th>1</th>\n",
       "      <td>코미디</td>\n",
       "    </tr>\n",
       "    <tr>\n",
       "      <th>2</th>\n",
       "      <td>액션</td>\n",
       "    </tr>\n",
       "  </tbody>\n",
       "</table>\n",
       "</div>"
      ],
      "text/plain": [
       "      genre\n",
       "index      \n",
       "0        액션\n",
       "0       스릴러\n",
       "1        범죄\n",
       "1       코미디\n",
       "2        액션"
      ]
     },
     "execution_count": 52,
     "metadata": {},
     "output_type": "execute_result"
    }
   ],
   "source": [
    "df_genre_itself.set_index('index', inplace=True)\n",
    "df_genre_itself.head()"
   ]
  },
  {
   "cell_type": "markdown",
   "metadata": {},
   "source": [
    "#### df_genre 필요한 컬럼만 "
   ]
  },
  {
   "cell_type": "code",
   "execution_count": 53,
   "metadata": {},
   "outputs": [
    {
     "data": {
      "text/html": [
       "<div>\n",
       "<style scoped>\n",
       "    .dataframe tbody tr th:only-of-type {\n",
       "        vertical-align: middle;\n",
       "    }\n",
       "\n",
       "    .dataframe tbody tr th {\n",
       "        vertical-align: top;\n",
       "    }\n",
       "\n",
       "    .dataframe thead th {\n",
       "        text-align: right;\n",
       "    }\n",
       "</style>\n",
       "<table border=\"1\" class=\"dataframe\">\n",
       "  <thead>\n",
       "    <tr style=\"text-align: right;\">\n",
       "      <th></th>\n",
       "      <th>영화명</th>\n",
       "      <th>매출액</th>\n",
       "    </tr>\n",
       "  </thead>\n",
       "  <tbody>\n",
       "    <tr>\n",
       "      <th>0</th>\n",
       "      <td>부산행</td>\n",
       "      <td>93178283048</td>\n",
       "    </tr>\n",
       "    <tr>\n",
       "      <th>1</th>\n",
       "      <td>검사외전</td>\n",
       "      <td>77320403264</td>\n",
       "    </tr>\n",
       "    <tr>\n",
       "      <th>2</th>\n",
       "      <td>캡틴 아메리카: 시빌 워</td>\n",
       "      <td>72672111827</td>\n",
       "    </tr>\n",
       "    <tr>\n",
       "      <th>3</th>\n",
       "      <td>밀정</td>\n",
       "      <td>61269783831</td>\n",
       "    </tr>\n",
       "    <tr>\n",
       "      <th>4</th>\n",
       "      <td>터널</td>\n",
       "      <td>57529484417</td>\n",
       "    </tr>\n",
       "  </tbody>\n",
       "</table>\n",
       "</div>"
      ],
      "text/plain": [
       "             영화명          매출액\n",
       "0            부산행  93178283048\n",
       "1           검사외전  77320403264\n",
       "2  캡틴 아메리카: 시빌 워  72672111827\n",
       "3             밀정  61269783831\n",
       "4             터널  57529484417"
      ]
     },
     "execution_count": 53,
     "metadata": {},
     "output_type": "execute_result"
    }
   ],
   "source": [
    "df_genre = df_genre[['영화명', '매출액']]\n",
    "df_genre.head()"
   ]
  },
  {
   "cell_type": "markdown",
   "metadata": {},
   "source": [
    "### merge!!!!! based on index "
   ]
  },
  {
   "cell_type": "code",
   "execution_count": 54,
   "metadata": {},
   "outputs": [],
   "source": [
    "dfmerge = pd.merge(df_genre_itself, df_genre, left_index=True, right_index=True)"
   ]
  },
  {
   "cell_type": "code",
   "execution_count": 55,
   "metadata": {},
   "outputs": [
    {
     "data": {
      "text/html": [
       "<div>\n",
       "<style scoped>\n",
       "    .dataframe tbody tr th:only-of-type {\n",
       "        vertical-align: middle;\n",
       "    }\n",
       "\n",
       "    .dataframe tbody tr th {\n",
       "        vertical-align: top;\n",
       "    }\n",
       "\n",
       "    .dataframe thead th {\n",
       "        text-align: right;\n",
       "    }\n",
       "</style>\n",
       "<table border=\"1\" class=\"dataframe\">\n",
       "  <thead>\n",
       "    <tr style=\"text-align: right;\">\n",
       "      <th></th>\n",
       "      <th>genre</th>\n",
       "      <th>영화명</th>\n",
       "      <th>매출액</th>\n",
       "    </tr>\n",
       "  </thead>\n",
       "  <tbody>\n",
       "    <tr>\n",
       "      <th>0</th>\n",
       "      <td>액션</td>\n",
       "      <td>부산행</td>\n",
       "      <td>93178283048</td>\n",
       "    </tr>\n",
       "    <tr>\n",
       "      <th>0</th>\n",
       "      <td>스릴러</td>\n",
       "      <td>부산행</td>\n",
       "      <td>93178283048</td>\n",
       "    </tr>\n",
       "    <tr>\n",
       "      <th>1</th>\n",
       "      <td>범죄</td>\n",
       "      <td>검사외전</td>\n",
       "      <td>77320403264</td>\n",
       "    </tr>\n",
       "    <tr>\n",
       "      <th>1</th>\n",
       "      <td>코미디</td>\n",
       "      <td>검사외전</td>\n",
       "      <td>77320403264</td>\n",
       "    </tr>\n",
       "    <tr>\n",
       "      <th>2</th>\n",
       "      <td>액션</td>\n",
       "      <td>캡틴 아메리카: 시빌 워</td>\n",
       "      <td>72672111827</td>\n",
       "    </tr>\n",
       "  </tbody>\n",
       "</table>\n",
       "</div>"
      ],
      "text/plain": [
       "  genre            영화명          매출액\n",
       "0    액션            부산행  93178283048\n",
       "0   스릴러            부산행  93178283048\n",
       "1    범죄           검사외전  77320403264\n",
       "1   코미디           검사외전  77320403264\n",
       "2    액션  캡틴 아메리카: 시빌 워  72672111827"
      ]
     },
     "execution_count": 55,
     "metadata": {},
     "output_type": "execute_result"
    }
   ],
   "source": [
    "dfmerge.head()"
   ]
  },
  {
   "cell_type": "code",
   "execution_count": 56,
   "metadata": {},
   "outputs": [
    {
     "name": "stdout",
     "output_type": "stream",
     "text": [
      "             df        sum_sq       mean_sq         F    PR(>F)\n",
      "C(genre)   11.0  3.619351e+21  3.290319e+20  0.818961  0.621115\n",
      "Residual  435.0  1.747688e+23  4.017673e+20       NaN       NaN\n"
     ]
    }
   ],
   "source": [
    "# 3년치 ANOVA\n",
    "df_genre_anova = pd.DataFrame(dfmerge, columns=['매출액','genre'])\n",
    "model = ols('매출액~C(genre)',df_genre_anova).fit()\n",
    "print(anova_lm(model))"
   ]
  },
  {
   "cell_type": "markdown",
   "metadata": {},
   "source": [
    "#### 결과 해석\n",
    "- p-value > 0.05. do not reject H0"
   ]
  },
  {
   "cell_type": "markdown",
   "metadata": {},
   "source": [
    "# <font color=red> 계절 </font>"
   ]
  },
  {
   "cell_type": "code",
   "execution_count": 62,
   "metadata": {
    "scrolled": false
   },
   "outputs": [
    {
     "data": {
      "text/html": [
       "<div>\n",
       "<style scoped>\n",
       "    .dataframe tbody tr th:only-of-type {\n",
       "        vertical-align: middle;\n",
       "    }\n",
       "\n",
       "    .dataframe tbody tr th {\n",
       "        vertical-align: top;\n",
       "    }\n",
       "\n",
       "    .dataframe thead th {\n",
       "        text-align: right;\n",
       "    }\n",
       "</style>\n",
       "<table border=\"1\" class=\"dataframe\">\n",
       "  <thead>\n",
       "    <tr style=\"text-align: right;\">\n",
       "      <th></th>\n",
       "      <th></th>\n",
       "      <th>index</th>\n",
       "      <th>영화명</th>\n",
       "      <th>개봉일</th>\n",
       "      <th>매출액</th>\n",
       "      <th>누적매출액</th>\n",
       "      <th>관객수</th>\n",
       "      <th>누적관객수</th>\n",
       "      <th>스크린수</th>\n",
       "      <th>상영횟수</th>\n",
       "      <th>대표국적</th>\n",
       "      <th>제작사</th>\n",
       "      <th>배급사</th>\n",
       "      <th>등급</th>\n",
       "      <th>장르</th>\n",
       "      <th>감독</th>\n",
       "      <th>배우</th>\n",
       "    </tr>\n",
       "    <tr>\n",
       "      <th>year</th>\n",
       "      <th>rank</th>\n",
       "      <th></th>\n",
       "      <th></th>\n",
       "      <th></th>\n",
       "      <th></th>\n",
       "      <th></th>\n",
       "      <th></th>\n",
       "      <th></th>\n",
       "      <th></th>\n",
       "      <th></th>\n",
       "      <th></th>\n",
       "      <th></th>\n",
       "      <th></th>\n",
       "      <th></th>\n",
       "      <th></th>\n",
       "      <th></th>\n",
       "      <th></th>\n",
       "    </tr>\n",
       "  </thead>\n",
       "  <tbody>\n",
       "    <tr>\n",
       "      <th rowspan=\"5\" valign=\"top\">2016</th>\n",
       "      <th>1</th>\n",
       "      <td>600</td>\n",
       "      <td>부산행</td>\n",
       "      <td>2016-07-20</td>\n",
       "      <td>93178283048</td>\n",
       "      <td>93178283048</td>\n",
       "      <td>11565479</td>\n",
       "      <td>11565479</td>\n",
       "      <td>1788</td>\n",
       "      <td>151315</td>\n",
       "      <td>한국</td>\n",
       "      <td>(주)영화사레드피터</td>\n",
       "      <td>(주)넥스트엔터테인먼트월드(NEW)</td>\n",
       "      <td>15세이상관람가</td>\n",
       "      <td>액션,스릴러</td>\n",
       "      <td>연상호</td>\n",
       "      <td>공유,김정희,정유미,김율호,마동석,최우식,안소희,김의성,김수안,박민우,박민혁,임종훈...</td>\n",
       "    </tr>\n",
       "    <tr>\n",
       "      <th>2</th>\n",
       "      <td>601</td>\n",
       "      <td>검사외전</td>\n",
       "      <td>2016-02-03</td>\n",
       "      <td>77320403264</td>\n",
       "      <td>77320403264</td>\n",
       "      <td>9707581</td>\n",
       "      <td>9707581</td>\n",
       "      <td>1812</td>\n",
       "      <td>153532</td>\n",
       "      <td>한국</td>\n",
       "      <td>(주)영화사 월광,(주)사나이픽처스</td>\n",
       "      <td>(주)쇼박스</td>\n",
       "      <td>15세이상관람가</td>\n",
       "      <td>범죄,코미디</td>\n",
       "      <td>이일형</td>\n",
       "      <td>황정민,강동원,이성민,박성웅,김응수,신소율,주진모,김원해,김홍파,김병옥,박종환,전배...</td>\n",
       "    </tr>\n",
       "    <tr>\n",
       "      <th>3</th>\n",
       "      <td>602</td>\n",
       "      <td>캡틴 아메리카: 시빌 워</td>\n",
       "      <td>2016-04-27</td>\n",
       "      <td>72672111827</td>\n",
       "      <td>72672111827</td>\n",
       "      <td>8677249</td>\n",
       "      <td>8677249</td>\n",
       "      <td>1991</td>\n",
       "      <td>161696</td>\n",
       "      <td>미국</td>\n",
       "      <td>NaN</td>\n",
       "      <td>월트디즈니컴퍼니코리아(주)</td>\n",
       "      <td>12세이상관람가</td>\n",
       "      <td>액션,SF,스릴러</td>\n",
       "      <td>안소니 루소,조 루소</td>\n",
       "      <td>크리스 에반스,로버트 다우니 주니어,스칼렛 요한슨,세바스찬 스탠,안소니 마키,돈 치...</td>\n",
       "    </tr>\n",
       "    <tr>\n",
       "      <th>4</th>\n",
       "      <td>603</td>\n",
       "      <td>밀정</td>\n",
       "      <td>2016-09-07</td>\n",
       "      <td>61269783831</td>\n",
       "      <td>61269783831</td>\n",
       "      <td>7500420</td>\n",
       "      <td>7500420</td>\n",
       "      <td>1444</td>\n",
       "      <td>138161</td>\n",
       "      <td>한국</td>\n",
       "      <td>(주)다크서클픽쳐스,워너브러더스 코리아(주),(주)영화사하얼빈</td>\n",
       "      <td>워너브러더스 코리아(주)</td>\n",
       "      <td>15세이상관람가</td>\n",
       "      <td>액션</td>\n",
       "      <td>김지운</td>\n",
       "      <td>송강호,공유,한지민,츠루미 신고,엄태구,신성록,서영주,박민우,이진한,이진한,임서영,...</td>\n",
       "    </tr>\n",
       "    <tr>\n",
       "      <th>5</th>\n",
       "      <td>604</td>\n",
       "      <td>터널</td>\n",
       "      <td>2016-08-10</td>\n",
       "      <td>57529484417</td>\n",
       "      <td>57529484417</td>\n",
       "      <td>7120508</td>\n",
       "      <td>7120508</td>\n",
       "      <td>1105</td>\n",
       "      <td>113201</td>\n",
       "      <td>한국</td>\n",
       "      <td>(주)어나더썬데이,(주)비에이엔터테인먼트</td>\n",
       "      <td>(주)쇼박스</td>\n",
       "      <td>12세이상관람가</td>\n",
       "      <td>드라마</td>\n",
       "      <td>김성훈</td>\n",
       "      <td>하정우,배두나,오달수,김종수,임한빈,정민희,송민석,윤성민,이동진,이상희,최춘범,권승...</td>\n",
       "    </tr>\n",
       "  </tbody>\n",
       "</table>\n",
       "</div>"
      ],
      "text/plain": [
       "           index            영화명         개봉일          매출액        누적매출액  \\\n",
       "year rank                                                               \n",
       "2016 1       600            부산행  2016-07-20  93178283048  93178283048   \n",
       "     2       601           검사외전  2016-02-03  77320403264  77320403264   \n",
       "     3       602  캡틴 아메리카: 시빌 워  2016-04-27  72672111827  72672111827   \n",
       "     4       603             밀정  2016-09-07  61269783831  61269783831   \n",
       "     5       604             터널  2016-08-10  57529484417  57529484417   \n",
       "\n",
       "                관객수     누적관객수  스크린수    상영횟수 대표국적  \\\n",
       "year rank                                          \n",
       "2016 1     11565479  11565479  1788  151315   한국   \n",
       "     2      9707581   9707581  1812  153532   한국   \n",
       "     3      8677249   8677249  1991  161696   미국   \n",
       "     4      7500420   7500420  1444  138161   한국   \n",
       "     5      7120508   7120508  1105  113201   한국   \n",
       "\n",
       "                                          제작사                  배급사        등급  \\\n",
       "year rank                                                                      \n",
       "2016 1                             (주)영화사레드피터  (주)넥스트엔터테인먼트월드(NEW)  15세이상관람가   \n",
       "     2                    (주)영화사 월광,(주)사나이픽처스               (주)쇼박스  15세이상관람가   \n",
       "     3                                    NaN       월트디즈니컴퍼니코리아(주)  12세이상관람가   \n",
       "     4     (주)다크서클픽쳐스,워너브러더스 코리아(주),(주)영화사하얼빈        워너브러더스 코리아(주)  15세이상관람가   \n",
       "     5                 (주)어나더썬데이,(주)비에이엔터테인먼트               (주)쇼박스  12세이상관람가   \n",
       "\n",
       "                  장르           감독  \\\n",
       "year rank                           \n",
       "2016 1        액션,스릴러          연상호   \n",
       "     2        범죄,코미디          이일형   \n",
       "     3     액션,SF,스릴러  안소니 루소,조 루소   \n",
       "     4            액션          김지운   \n",
       "     5           드라마          김성훈   \n",
       "\n",
       "                                                          배우  \n",
       "year rank                                                     \n",
       "2016 1     공유,김정희,정유미,김율호,마동석,최우식,안소희,김의성,김수안,박민우,박민혁,임종훈...  \n",
       "     2     황정민,강동원,이성민,박성웅,김응수,신소율,주진모,김원해,김홍파,김병옥,박종환,전배...  \n",
       "     3     크리스 에반스,로버트 다우니 주니어,스칼렛 요한슨,세바스찬 스탠,안소니 마키,돈 치...  \n",
       "     4     송강호,공유,한지민,츠루미 신고,엄태구,신성록,서영주,박민우,이진한,이진한,임서영,...  \n",
       "     5     하정우,배두나,오달수,김종수,임한빈,정민희,송민석,윤성민,이동진,이상희,최춘범,권승...  "
      ]
     },
     "execution_count": 62,
     "metadata": {},
     "output_type": "execute_result"
    }
   ],
   "source": [
    "df.head()"
   ]
  },
  {
   "cell_type": "markdown",
   "metadata": {},
   "source": [
    "#### create df_season"
   ]
  },
  {
   "cell_type": "code",
   "execution_count": 63,
   "metadata": {
    "scrolled": false
   },
   "outputs": [
    {
     "data": {
      "text/html": [
       "<div>\n",
       "<style scoped>\n",
       "    .dataframe tbody tr th:only-of-type {\n",
       "        vertical-align: middle;\n",
       "    }\n",
       "\n",
       "    .dataframe tbody tr th {\n",
       "        vertical-align: top;\n",
       "    }\n",
       "\n",
       "    .dataframe thead th {\n",
       "        text-align: right;\n",
       "    }\n",
       "</style>\n",
       "<table border=\"1\" class=\"dataframe\">\n",
       "  <thead>\n",
       "    <tr style=\"text-align: right;\">\n",
       "      <th></th>\n",
       "      <th>영화명</th>\n",
       "      <th>개봉일</th>\n",
       "      <th>매출액</th>\n",
       "    </tr>\n",
       "  </thead>\n",
       "  <tbody>\n",
       "    <tr>\n",
       "      <th>0</th>\n",
       "      <td>부산행</td>\n",
       "      <td>2016-07-20</td>\n",
       "      <td>93178283048</td>\n",
       "    </tr>\n",
       "    <tr>\n",
       "      <th>1</th>\n",
       "      <td>검사외전</td>\n",
       "      <td>2016-02-03</td>\n",
       "      <td>77320403264</td>\n",
       "    </tr>\n",
       "    <tr>\n",
       "      <th>2</th>\n",
       "      <td>캡틴 아메리카: 시빌 워</td>\n",
       "      <td>2016-04-27</td>\n",
       "      <td>72672111827</td>\n",
       "    </tr>\n",
       "    <tr>\n",
       "      <th>3</th>\n",
       "      <td>밀정</td>\n",
       "      <td>2016-09-07</td>\n",
       "      <td>61269783831</td>\n",
       "    </tr>\n",
       "    <tr>\n",
       "      <th>4</th>\n",
       "      <td>터널</td>\n",
       "      <td>2016-08-10</td>\n",
       "      <td>57529484417</td>\n",
       "    </tr>\n",
       "  </tbody>\n",
       "</table>\n",
       "</div>"
      ],
      "text/plain": [
       "             영화명         개봉일          매출액\n",
       "0            부산행  2016-07-20  93178283048\n",
       "1           검사외전  2016-02-03  77320403264\n",
       "2  캡틴 아메리카: 시빌 워  2016-04-27  72672111827\n",
       "3             밀정  2016-09-07  61269783831\n",
       "4             터널  2016-08-10  57529484417"
      ]
     },
     "execution_count": 63,
     "metadata": {},
     "output_type": "execute_result"
    }
   ],
   "source": [
    "df_season = df[['영화명', '개봉일', '매출액']].reset_index(drop=True)\n",
    "df_season.head()"
   ]
  },
  {
   "cell_type": "markdown",
   "metadata": {},
   "source": [
    "### 계절 컬럼 만들기\n",
    "- 3~5월: 봄\n",
    "- 6~8월: 여름\n",
    "- 9~11월: 가을\n",
    "- 12월~2월: 겨울"
   ]
  },
  {
   "cell_type": "code",
   "execution_count": 64,
   "metadata": {},
   "outputs": [],
   "source": [
    "def season(row):\n",
    "    if (row['개봉일'].split('-')[1] == '03') or (row['개봉일'].split('-')[1] == '04') or (row['개봉일'].split('-')[1] == '05'):\n",
    "        return '봄'\n",
    "    elif (row['개봉일'].split('-')[1] == '06') or (row['개봉일'].split('-')[1] == '07') or (row['개봉일'].split('-')[1] == '08'):\n",
    "        return '여름'\n",
    "    elif (row['개봉일'].split('-')[1] == '09') or (row['개봉일'].split('-')[1] == '10') or (row['개봉일'].split('-')[1] == '11'):\n",
    "        return '가을'\n",
    "    else:\n",
    "        return '겨울'"
   ]
  },
  {
   "cell_type": "code",
   "execution_count": 65,
   "metadata": {},
   "outputs": [],
   "source": [
    "new_column = df.apply(lambda row: season(row), axis=1)"
   ]
  },
  {
   "cell_type": "code",
   "execution_count": 66,
   "metadata": {},
   "outputs": [],
   "source": [
    "df_season['계절'] = new_column.reset_index(drop=True)"
   ]
  },
  {
   "cell_type": "code",
   "execution_count": 67,
   "metadata": {},
   "outputs": [
    {
     "data": {
      "text/html": [
       "<div>\n",
       "<style scoped>\n",
       "    .dataframe tbody tr th:only-of-type {\n",
       "        vertical-align: middle;\n",
       "    }\n",
       "\n",
       "    .dataframe tbody tr th {\n",
       "        vertical-align: top;\n",
       "    }\n",
       "\n",
       "    .dataframe thead th {\n",
       "        text-align: right;\n",
       "    }\n",
       "</style>\n",
       "<table border=\"1\" class=\"dataframe\">\n",
       "  <thead>\n",
       "    <tr style=\"text-align: right;\">\n",
       "      <th></th>\n",
       "      <th>영화명</th>\n",
       "      <th>개봉일</th>\n",
       "      <th>매출액</th>\n",
       "      <th>계절</th>\n",
       "    </tr>\n",
       "  </thead>\n",
       "  <tbody>\n",
       "    <tr>\n",
       "      <th>0</th>\n",
       "      <td>부산행</td>\n",
       "      <td>2016-07-20</td>\n",
       "      <td>93178283048</td>\n",
       "      <td>여름</td>\n",
       "    </tr>\n",
       "    <tr>\n",
       "      <th>1</th>\n",
       "      <td>검사외전</td>\n",
       "      <td>2016-02-03</td>\n",
       "      <td>77320403264</td>\n",
       "      <td>겨울</td>\n",
       "    </tr>\n",
       "    <tr>\n",
       "      <th>2</th>\n",
       "      <td>캡틴 아메리카: 시빌 워</td>\n",
       "      <td>2016-04-27</td>\n",
       "      <td>72672111827</td>\n",
       "      <td>봄</td>\n",
       "    </tr>\n",
       "    <tr>\n",
       "      <th>3</th>\n",
       "      <td>밀정</td>\n",
       "      <td>2016-09-07</td>\n",
       "      <td>61269783831</td>\n",
       "      <td>가을</td>\n",
       "    </tr>\n",
       "    <tr>\n",
       "      <th>4</th>\n",
       "      <td>터널</td>\n",
       "      <td>2016-08-10</td>\n",
       "      <td>57529484417</td>\n",
       "      <td>여름</td>\n",
       "    </tr>\n",
       "  </tbody>\n",
       "</table>\n",
       "</div>"
      ],
      "text/plain": [
       "             영화명         개봉일          매출액  계절\n",
       "0            부산행  2016-07-20  93178283048  여름\n",
       "1           검사외전  2016-02-03  77320403264  겨울\n",
       "2  캡틴 아메리카: 시빌 워  2016-04-27  72672111827   봄\n",
       "3             밀정  2016-09-07  61269783831  가을\n",
       "4             터널  2016-08-10  57529484417  여름"
      ]
     },
     "execution_count": 67,
     "metadata": {},
     "output_type": "execute_result"
    }
   ],
   "source": [
    "df_season.head()"
   ]
  },
  {
   "cell_type": "markdown",
   "metadata": {},
   "source": [
    "###  계절별 매출차이 box-plot"
   ]
  },
  {
   "cell_type": "code",
   "execution_count": 68,
   "metadata": {},
   "outputs": [
    {
     "data": {
      "text/plain": [
       "Text(0, 0.5, '매출액')"
      ]
     },
     "execution_count": 68,
     "metadata": {},
     "output_type": "execute_result"
    },
    {
     "data": {
      "image/png": "[encoded data removed]",
      "text/plain": [
       "<Figure size 720x720 with 1 Axes>"
      ]
     },
     "metadata": {
      "needs_background": "light"
     },
     "output_type": "display_data"
    }
   ],
   "source": [
    "fig = plt.figure(figsize=(10,10))\n",
    "ax = fig.add_subplot(1,1,1)\n",
    "ax.boxplot([df_season[df_season['계절']=='봄']['매출액'],\n",
    "            df_season[df_season['계절']=='여름']['매출액'],\n",
    "            df_season[df_season['계절']=='가을']['매출액'],\n",
    "            df_season[df_season['계절']=='겨울']['매출액']],labels=['봄','여름','가을','겨울'])\n",
    "\n",
    "ax.set_title(\"Boxplot of 매출액 by 계절\")\n",
    "ax.set_xlabel(\"계절\")\n",
    "ax.set_ylabel(\"매출액\")"
   ]
  },
  {
   "cell_type": "markdown",
   "metadata": {},
   "source": [
    "### 계절별 anova"
   ]
  },
  {
   "cell_type": "code",
   "execution_count": 69,
   "metadata": {},
   "outputs": [
    {
     "name": "stdout",
     "output_type": "stream",
     "text": [
      "             df        sum_sq       mean_sq         F    PR(>F)\n",
      "C(계절)       3.0  3.054996e+21  1.018332e+21  2.713654  0.045706\n",
      "Residual  225.0  8.443401e+22  3.752623e+20       NaN       NaN\n"
     ]
    }
   ],
   "source": [
    "# 3년치 ANOVA\n",
    "df_season_anova = pd.DataFrame(df_season, columns=['매출액','계절'])\n",
    "model = ols('매출액~C(계절)',df_season_anova).fit()\n",
    "print(anova_lm(model))"
   ]
  },
  {
   "cell_type": "markdown",
   "metadata": {},
   "source": [
    "### 계절별 post-hoc"
   ]
  },
  {
   "cell_type": "code",
   "execution_count": 71,
   "metadata": {},
   "outputs": [
    {
     "data": {
      "text/html": [
       "<div>\n",
       "<style scoped>\n",
       "    .dataframe tbody tr th:only-of-type {\n",
       "        vertical-align: middle;\n",
       "    }\n",
       "\n",
       "    .dataframe tbody tr th {\n",
       "        vertical-align: top;\n",
       "    }\n",
       "\n",
       "    .dataframe thead th {\n",
       "        text-align: right;\n",
       "    }\n",
       "</style>\n",
       "<table border=\"1\" class=\"dataframe\">\n",
       "  <thead>\n",
       "    <tr style=\"text-align: right;\">\n",
       "      <th></th>\n",
       "      <th>index</th>\n",
       "      <th>매출액</th>\n",
       "      <th>계절</th>\n",
       "    </tr>\n",
       "  </thead>\n",
       "  <tbody>\n",
       "    <tr>\n",
       "      <th>0</th>\n",
       "      <td>0</td>\n",
       "      <td>93178283048</td>\n",
       "      <td>여름</td>\n",
       "    </tr>\n",
       "    <tr>\n",
       "      <th>1</th>\n",
       "      <td>1</td>\n",
       "      <td>77320403264</td>\n",
       "      <td>겨울</td>\n",
       "    </tr>\n",
       "    <tr>\n",
       "      <th>2</th>\n",
       "      <td>2</td>\n",
       "      <td>72672111827</td>\n",
       "      <td>봄</td>\n",
       "    </tr>\n",
       "    <tr>\n",
       "      <th>3</th>\n",
       "      <td>3</td>\n",
       "      <td>61269783831</td>\n",
       "      <td>가을</td>\n",
       "    </tr>\n",
       "    <tr>\n",
       "      <th>4</th>\n",
       "      <td>4</td>\n",
       "      <td>57529484417</td>\n",
       "      <td>여름</td>\n",
       "    </tr>\n",
       "  </tbody>\n",
       "</table>\n",
       "</div>"
      ],
      "text/plain": [
       "   index          매출액  계절\n",
       "0      0  93178283048  여름\n",
       "1      1  77320403264  겨울\n",
       "2      2  72672111827   봄\n",
       "3      3  61269783831  가을\n",
       "4      4  57529484417  여름"
      ]
     },
     "execution_count": 71,
     "metadata": {},
     "output_type": "execute_result"
    }
   ],
   "source": [
    "# p-value가 0.05보다 작으면 그룹의 평균값이 통계적으로 유의미하게 차이가 남.\n",
    "df_season_post = df_season_anova.reset_index()\n",
    "df_season_post.head()"
   ]
  },
  {
   "cell_type": "code",
   "execution_count": 72,
   "metadata": {},
   "outputs": [
    {
     "name": "stdout",
     "output_type": "stream",
     "text": [
      "           Multiple Comparison of Means - Tukey HSD,FWER=0.05           \n",
      "========================================================================\n",
      "group1 group2     meandiff           lower            upper       reject\n",
      "------------------------------------------------------------------------\n",
      "  가을     겨울   -3036669700.3155 -12146758587.3388 6073419186.7079  False \n",
      "  가을     봄    -4049004933.3525 -13612444757.3141 5514434890.6091  False \n",
      "  가을     여름   5544881274.6971   -4064379536.2908 15154142085.685  False \n",
      "  겨울     봄    -1012335233.037  -10213238306.6856 8188567840.6116  False \n",
      "  겨울     여름   8581550975.0126   -666969416.7977  17830071366.8229 False \n",
      "  봄      여름   9593886208.0496    -101514308.422  19289286724.5212 False \n",
      "------------------------------------------------------------------------\n"
     ]
    }
   ],
   "source": [
    "# 3년치 POST-HOC\n",
    "from statsmodels.stats.multicomp import pairwise_tukeyhsd\n",
    "\n",
    "posthoc = pairwise_tukeyhsd(df_season_post['매출액'], df_season_post['계절'], alpha=0.05)\n",
    "print(posthoc)"
   ]
  },
  {
   "cell_type": "code",
   "execution_count": 73,
   "metadata": {
    "scrolled": true
   },
   "outputs": [
    {
     "data": {
      "image/png": "[encoded data removed]",
      "text/plain": [
       "<Figure size 720x432 with 1 Axes>"
      ]
     },
     "metadata": {
      "needs_background": "light"
     },
     "output_type": "display_data"
    }
   ],
   "source": [
    "fig = posthoc.plot_simultaneous()"
   ]
  },
  {
   "cell_type": "code",
   "execution_count": null,
   "metadata": {},
   "outputs": [],
   "source": []
  }
 ],
 "metadata": {
  "kernelspec": {
   "display_name": "Python 3",
   "language": "python",
   "name": "python3"
  },
  "language_info": {
   "codemirror_mode": {
    "name": "ipython",
    "version": 3
   },
   "file_extension": ".py",
   "mimetype": "text/x-python",
   "name": "python",
   "nbconvert_exporter": "python",
   "pygments_lexer": "ipython3",
   "version": "3.7.1"
  }
 },
 "nbformat": 4,
 "nbformat_minor": 2
}
