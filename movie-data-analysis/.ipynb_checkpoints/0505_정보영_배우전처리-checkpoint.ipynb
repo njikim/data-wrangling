{
 "cells": [
  {
   "cell_type": "markdown",
   "metadata": {
    "colab_type": "text",
    "id": "OOVJ-IC_B-aS"
   },
   "source": [
    "## * ㅠㅠ 배우 컬럼 재생성(수정) 필요"
   ]
  },
  {
   "cell_type": "markdown",
   "metadata": {
    "colab_type": "text",
    "id": "R1hUWnG8B-aT"
   },
   "source": [
    "# 영화 흥행에 배우가 미치는 영향 파악\n",
    "    1. 영화 개봉 30일전~ 7일후 까지의 배우 검색량 및 언급도 로 배우의 화제성지수 산출\n",
    "    2. 화제성지수에 따른 '상영횟수 대비 매출액'이 어떤 상관관계를 갖는지 파악\n",
    "        * 상영횟수 대비 매출액을 기준으로 한 이유: 배우당 영화개수로 하기엔 왜곡이 일어남, \n",
    "         배우 영향력 파악을 위해선 상영할 때 관에 관객이 얼마나 찼는지가 중요하다고 생각하였음"
   ]
  },
  {
   "cell_type": "code",
   "execution_count": 1,
   "metadata": {
    "colab": {},
    "colab_type": "code",
    "id": "-lGJK1VXB-aU"
   },
   "outputs": [],
   "source": [
    "import matplotlib as mpl\n",
    "import matplotlib.pyplot as plt\n",
    "import numpy as np\n",
    "import pandas as pd\n",
    "import seaborn as sns\n",
    "from datetime import datetime  \n",
    "from datetime import timedelta"
   ]
  },
  {
   "cell_type": "code",
   "execution_count": 2,
   "metadata": {
    "colab": {
     "base_uri": "https://localhost:8080/",
     "height": 405
    },
    "colab_type": "code",
    "executionInfo": {
     "elapsed": 787,
     "status": "error",
     "timestamp": 1557189443061,
     "user": {
      "displayName": "EunJi Kim",
      "photoUrl": "https://lh6.googleusercontent.com/-jwLQSmNXWeU/AAAAAAAAAAI/AAAAAAAALV4/26eXSEnmvmw/s64/photo.jpg",
      "userId": "16765049847298202515"
     },
     "user_tz": -540
    },
    "id": "M3W9zq4AB-aY",
    "outputId": "c906b6a2-1606-412d-c65c-88b5f935719d"
   },
   "outputs": [],
   "source": [
    "df = pd.read_csv('C:/Python/movie-data-analysis/data/movie.csv', sep=',', encoding='ms949', index_col=[0,1])"
   ]
  },
  {
   "cell_type": "code",
   "execution_count": 3,
   "metadata": {
    "colab": {},
    "colab_type": "code",
    "id": "c3BBClgOB-ab"
   },
   "outputs": [],
   "source": [
    "df = df.reset_index()"
   ]
  },
  {
   "cell_type": "code",
   "execution_count": 4,
   "metadata": {
    "colab": {},
    "colab_type": "code",
    "id": "jAV6dafHB-ad",
    "outputId": "6e255798-f810-4c94-c740-b2f2fe687375"
   },
   "outputs": [
    {
     "data": {
      "text/plain": [
       "Index(['year', 'rank', 'index', '영화명', '개봉일', '매출액', '누적매출액', '관객수', '누적관객수',\n",
       "       '스크린수', '상영횟수', '대표국적', '제작사', '배급사', '등급', '장르', '감독', '배우'],\n",
       "      dtype='object')"
      ]
     },
     "execution_count": 4,
     "metadata": {},
     "output_type": "execute_result"
    }
   ],
   "source": [
    "df.columns"
   ]
  },
  {
   "cell_type": "markdown",
   "metadata": {
    "colab_type": "text",
    "id": "7oqzdNIQB-al"
   },
   "source": [
    "## 1. 2016년도 영화 살펴보기"
   ]
  },
  {
   "cell_type": "code",
   "execution_count": 6,
   "metadata": {
    "colab": {},
    "colab_type": "code",
    "id": "JicOZezDB-am"
   },
   "outputs": [],
   "source": [
    "df_2016 =df[df['year'] == 2016]"
   ]
  },
  {
   "cell_type": "code",
   "execution_count": 7,
   "metadata": {
    "colab": {},
    "colab_type": "code",
    "id": "OlbBFZOOB-ap",
    "outputId": "49b129f1-4e07-4cb7-fbb6-3f69b4b44162"
   },
   "outputs": [
    {
     "data": {
      "text/html": [
       "<div>\n",
       "<style scoped>\n",
       "    .dataframe tbody tr th:only-of-type {\n",
       "        vertical-align: middle;\n",
       "    }\n",
       "\n",
       "    .dataframe tbody tr th {\n",
       "        vertical-align: top;\n",
       "    }\n",
       "\n",
       "    .dataframe thead th {\n",
       "        text-align: right;\n",
       "    }\n",
       "</style>\n",
       "<table border=\"1\" class=\"dataframe\">\n",
       "  <thead>\n",
       "    <tr style=\"text-align: right;\">\n",
       "      <th></th>\n",
       "      <th>배우</th>\n",
       "    </tr>\n",
       "  </thead>\n",
       "  <tbody>\n",
       "    <tr>\n",
       "      <th>695</th>\n",
       "      <td>마이클 키튼,마크 러팔로,레이첼 맥아담스</td>\n",
       "    </tr>\n",
       "    <tr>\n",
       "      <th>696</th>\n",
       "      <td>잭 블랙,딜런 미네트,오데야 러쉬,할스톤 세이지</td>\n",
       "    </tr>\n",
       "    <tr>\n",
       "      <th>697</th>\n",
       "      <td>루크 브레이시,에드가 라미레즈,테레사 팔머</td>\n",
       "    </tr>\n",
       "    <tr>\n",
       "      <th>698</th>\n",
       "      <td>저스틴 롱,제이슨 리,매튜 그레이 구블러,제시 맥카트니</td>\n",
       "    </tr>\n",
       "    <tr>\n",
       "      <th>699</th>\n",
       "      <td>류덕환,조복래,박형서,조동혁,이규섭,이수빈,조혜원</td>\n",
       "    </tr>\n",
       "  </tbody>\n",
       "</table>\n",
       "</div>"
      ],
      "text/plain": [
       "                                 배우\n",
       "695          마이클 키튼,마크 러팔로,레이첼 맥아담스\n",
       "696      잭 블랙,딜런 미네트,오데야 러쉬,할스톤 세이지\n",
       "697         루크 브레이시,에드가 라미레즈,테레사 팔머\n",
       "698  저스틴 롱,제이슨 리,매튜 그레이 구블러,제시 맥카트니\n",
       "699     류덕환,조복래,박형서,조동혁,이규섭,이수빈,조혜원"
      ]
     },
     "execution_count": 7,
     "metadata": {},
     "output_type": "execute_result"
    }
   ],
   "source": [
    "df_2016[['배우']].head()  #시작 600\n",
    "df_2016[['배우']].tail()  # 끝 699"
   ]
  },
  {
   "cell_type": "code",
   "execution_count": 8,
   "metadata": {
    "colab": {},
    "colab_type": "code",
    "id": "YaV3-eXyB-at",
    "outputId": "cb3b1d1c-aeeb-4c7f-99ce-49156704f1c0"
   },
   "outputs": [
    {
     "data": {
      "text/plain": [
       "pandas.core.frame.DataFrame"
      ]
     },
     "execution_count": 8,
     "metadata": {},
     "output_type": "execute_result"
    }
   ],
   "source": [
    "df_actor_2016 = df_2016[\"배우\"].str.split(',')\n",
    "df_actor_2016.head()\n",
    "type(df_actor_2016)\n",
    "\n",
    "# series -> dataframe으로 변환\n",
    "df_actor_2016 = df_actor_2016.apply(lambda x: pd.Series(x))\n",
    "type(df_actor_2016)"
   ]
  },
  {
   "cell_type": "code",
   "execution_count": 9,
   "metadata": {
    "colab": {},
    "colab_type": "code",
    "id": "cbSUTSgZB-ax",
    "outputId": "b10b77f3-3442-4735-daf3-e67e4691b857"
   },
   "outputs": [
    {
     "data": {
      "text/html": [
       "<div>\n",
       "<style scoped>\n",
       "    .dataframe tbody tr th:only-of-type {\n",
       "        vertical-align: middle;\n",
       "    }\n",
       "\n",
       "    .dataframe tbody tr th {\n",
       "        vertical-align: top;\n",
       "    }\n",
       "\n",
       "    .dataframe thead th {\n",
       "        text-align: right;\n",
       "    }\n",
       "</style>\n",
       "<table border=\"1\" class=\"dataframe\">\n",
       "  <thead>\n",
       "    <tr style=\"text-align: right;\">\n",
       "      <th></th>\n",
       "      <th>year</th>\n",
       "      <th>rank</th>\n",
       "      <th>index</th>\n",
       "      <th>영화명</th>\n",
       "      <th>개봉일</th>\n",
       "      <th>매출액</th>\n",
       "      <th>누적매출액</th>\n",
       "      <th>관객수</th>\n",
       "      <th>누적관객수</th>\n",
       "      <th>스크린수</th>\n",
       "      <th>상영횟수</th>\n",
       "      <th>대표국적</th>\n",
       "      <th>제작사</th>\n",
       "      <th>배급사</th>\n",
       "      <th>등급</th>\n",
       "      <th>장르</th>\n",
       "      <th>감독</th>\n",
       "      <th>배우</th>\n",
       "    </tr>\n",
       "  </thead>\n",
       "  <tbody>\n",
       "    <tr>\n",
       "      <th>600</th>\n",
       "      <td>2016</td>\n",
       "      <td>1</td>\n",
       "      <td>600</td>\n",
       "      <td>부산행</td>\n",
       "      <td>2016-07-20</td>\n",
       "      <td>93178283048</td>\n",
       "      <td>93178283048</td>\n",
       "      <td>11565479</td>\n",
       "      <td>11565479</td>\n",
       "      <td>1788</td>\n",
       "      <td>151315</td>\n",
       "      <td>한국</td>\n",
       "      <td>(주)영화사레드피터</td>\n",
       "      <td>(주)넥스트엔터테인먼트월드(NEW)</td>\n",
       "      <td>15세이상관람가</td>\n",
       "      <td>액션,스릴러</td>\n",
       "      <td>연상호</td>\n",
       "      <td>공유,김정희,정유미,김율호,마동석,최우식,안소희,김의성,김수안,박민우,박민혁,임종훈...</td>\n",
       "    </tr>\n",
       "    <tr>\n",
       "      <th>601</th>\n",
       "      <td>2016</td>\n",
       "      <td>2</td>\n",
       "      <td>601</td>\n",
       "      <td>검사외전</td>\n",
       "      <td>2016-02-03</td>\n",
       "      <td>77320403264</td>\n",
       "      <td>77320403264</td>\n",
       "      <td>9707581</td>\n",
       "      <td>9707581</td>\n",
       "      <td>1812</td>\n",
       "      <td>153532</td>\n",
       "      <td>한국</td>\n",
       "      <td>(주)영화사 월광,(주)사나이픽처스</td>\n",
       "      <td>(주)쇼박스</td>\n",
       "      <td>15세이상관람가</td>\n",
       "      <td>범죄,코미디</td>\n",
       "      <td>이일형</td>\n",
       "      <td>황정민,강동원,이성민,박성웅,김응수,신소율,주진모,김원해,김홍파,김병옥,박종환,전배...</td>\n",
       "    </tr>\n",
       "    <tr>\n",
       "      <th>602</th>\n",
       "      <td>2016</td>\n",
       "      <td>3</td>\n",
       "      <td>602</td>\n",
       "      <td>캡틴 아메리카: 시빌 워</td>\n",
       "      <td>2016-04-27</td>\n",
       "      <td>72672111827</td>\n",
       "      <td>72672111827</td>\n",
       "      <td>8677249</td>\n",
       "      <td>8677249</td>\n",
       "      <td>1991</td>\n",
       "      <td>161696</td>\n",
       "      <td>미국</td>\n",
       "      <td>NaN</td>\n",
       "      <td>월트디즈니컴퍼니코리아(주)</td>\n",
       "      <td>12세이상관람가</td>\n",
       "      <td>액션,SF,스릴러</td>\n",
       "      <td>안소니 루소,조 루소</td>\n",
       "      <td>크리스 에반스,로버트 다우니 주니어,스칼렛 요한슨,세바스찬 스탠,안소니 마키,돈 치...</td>\n",
       "    </tr>\n",
       "    <tr>\n",
       "      <th>603</th>\n",
       "      <td>2016</td>\n",
       "      <td>4</td>\n",
       "      <td>603</td>\n",
       "      <td>밀정</td>\n",
       "      <td>2016-09-07</td>\n",
       "      <td>61269783831</td>\n",
       "      <td>61269783831</td>\n",
       "      <td>7500420</td>\n",
       "      <td>7500420</td>\n",
       "      <td>1444</td>\n",
       "      <td>138161</td>\n",
       "      <td>한국</td>\n",
       "      <td>(주)다크서클픽쳐스,워너브러더스 코리아(주),(주)영화사하얼빈</td>\n",
       "      <td>워너브러더스 코리아(주)</td>\n",
       "      <td>15세이상관람가</td>\n",
       "      <td>액션</td>\n",
       "      <td>김지운</td>\n",
       "      <td>송강호,공유,한지민,츠루미 신고,엄태구,신성록,서영주,박민우,이진한,이진한,임서영,...</td>\n",
       "    </tr>\n",
       "    <tr>\n",
       "      <th>604</th>\n",
       "      <td>2016</td>\n",
       "      <td>5</td>\n",
       "      <td>604</td>\n",
       "      <td>터널</td>\n",
       "      <td>2016-08-10</td>\n",
       "      <td>57529484417</td>\n",
       "      <td>57529484417</td>\n",
       "      <td>7120508</td>\n",
       "      <td>7120508</td>\n",
       "      <td>1105</td>\n",
       "      <td>113201</td>\n",
       "      <td>한국</td>\n",
       "      <td>(주)어나더썬데이,(주)비에이엔터테인먼트</td>\n",
       "      <td>(주)쇼박스</td>\n",
       "      <td>12세이상관람가</td>\n",
       "      <td>드라마</td>\n",
       "      <td>김성훈</td>\n",
       "      <td>하정우,배두나,오달수,김종수,임한빈,정민희,송민석,윤성민,이동진,이상희,최춘범,권승...</td>\n",
       "    </tr>\n",
       "  </tbody>\n",
       "</table>\n",
       "</div>"
      ],
      "text/plain": [
       "     year  rank  index            영화명         개봉일          매출액        누적매출액  \\\n",
       "600  2016     1    600            부산행  2016-07-20  93178283048  93178283048   \n",
       "601  2016     2    601           검사외전  2016-02-03  77320403264  77320403264   \n",
       "602  2016     3    602  캡틴 아메리카: 시빌 워  2016-04-27  72672111827  72672111827   \n",
       "603  2016     4    603             밀정  2016-09-07  61269783831  61269783831   \n",
       "604  2016     5    604             터널  2016-08-10  57529484417  57529484417   \n",
       "\n",
       "          관객수     누적관객수  스크린수    상영횟수 대표국적  \\\n",
       "600  11565479  11565479  1788  151315   한국   \n",
       "601   9707581   9707581  1812  153532   한국   \n",
       "602   8677249   8677249  1991  161696   미국   \n",
       "603   7500420   7500420  1444  138161   한국   \n",
       "604   7120508   7120508  1105  113201   한국   \n",
       "\n",
       "                                    제작사                  배급사        등급  \\\n",
       "600                          (주)영화사레드피터  (주)넥스트엔터테인먼트월드(NEW)  15세이상관람가   \n",
       "601                 (주)영화사 월광,(주)사나이픽처스               (주)쇼박스  15세이상관람가   \n",
       "602                                 NaN       월트디즈니컴퍼니코리아(주)  12세이상관람가   \n",
       "603  (주)다크서클픽쳐스,워너브러더스 코리아(주),(주)영화사하얼빈        워너브러더스 코리아(주)  15세이상관람가   \n",
       "604              (주)어나더썬데이,(주)비에이엔터테인먼트               (주)쇼박스  12세이상관람가   \n",
       "\n",
       "            장르           감독                                                 배우  \n",
       "600     액션,스릴러          연상호  공유,김정희,정유미,김율호,마동석,최우식,안소희,김의성,김수안,박민우,박민혁,임종훈...  \n",
       "601     범죄,코미디          이일형  황정민,강동원,이성민,박성웅,김응수,신소율,주진모,김원해,김홍파,김병옥,박종환,전배...  \n",
       "602  액션,SF,스릴러  안소니 루소,조 루소  크리스 에반스,로버트 다우니 주니어,스칼렛 요한슨,세바스찬 스탠,안소니 마키,돈 치...  \n",
       "603         액션          김지운  송강호,공유,한지민,츠루미 신고,엄태구,신성록,서영주,박민우,이진한,이진한,임서영,...  \n",
       "604        드라마          김성훈  하정우,배두나,오달수,김종수,임한빈,정민희,송민석,윤성민,이동진,이상희,최춘범,권승...  "
      ]
     },
     "execution_count": 9,
     "metadata": {},
     "output_type": "execute_result"
    }
   ],
   "source": [
    "df_2016.head()"
   ]
  },
  {
   "cell_type": "markdown",
   "metadata": {
    "colab_type": "text",
    "id": "DmMIrMduB-a0"
   },
   "source": [
    "### 1-1. merge 위한 데이터 정제"
   ]
  },
  {
   "cell_type": "code",
   "execution_count": 0,
   "metadata": {
    "colab": {},
    "colab_type": "code",
    "id": "eaXnhm84B-a1"
   },
   "outputs": [],
   "source": [
    "df_2016_r = df_2016.reset_index()\n",
    "df_2016_r"
   ]
  },
  {
   "cell_type": "code",
   "execution_count": 0,
   "metadata": {
    "colab": {},
    "colab_type": "code",
    "id": "vLsBlYCPB-a4"
   },
   "outputs": [],
   "source": [
    "# 멀티 인덱스를 가진 Series\n",
    "df_actor_2016 = df_actor_2016.stack()\n",
    "df_actor_2016.tail()\n",
    "\n",
    "df_actor_2016 = df_actor_2016.to_frame('배우별')\n",
    "df_actor_2016.head()"
   ]
  },
  {
   "cell_type": "code",
   "execution_count": 0,
   "metadata": {
    "colab": {},
    "colab_type": "code",
    "id": "hwGsMG4lB-a7",
    "outputId": "db532e20-ec61-4654-f1b5-e1985a4f0e40"
   },
   "outputs": [
    {
     "data": {
      "text/html": [
       "<div>\n",
       "<style scoped>\n",
       "    .dataframe tbody tr th:only-of-type {\n",
       "        vertical-align: middle;\n",
       "    }\n",
       "\n",
       "    .dataframe tbody tr th {\n",
       "        vertical-align: top;\n",
       "    }\n",
       "\n",
       "    .dataframe thead th {\n",
       "        text-align: right;\n",
       "    }\n",
       "</style>\n",
       "<table border=\"1\" class=\"dataframe\">\n",
       "  <thead>\n",
       "    <tr style=\"text-align: right;\">\n",
       "      <th></th>\n",
       "      <th>level_0</th>\n",
       "      <th>level_1</th>\n",
       "      <th>배우별</th>\n",
       "    </tr>\n",
       "  </thead>\n",
       "  <tbody>\n",
       "    <tr>\n",
       "      <th>0</th>\n",
       "      <td>600</td>\n",
       "      <td>0</td>\n",
       "      <td>공유</td>\n",
       "    </tr>\n",
       "    <tr>\n",
       "      <th>1</th>\n",
       "      <td>600</td>\n",
       "      <td>1</td>\n",
       "      <td>김정희</td>\n",
       "    </tr>\n",
       "    <tr>\n",
       "      <th>2</th>\n",
       "      <td>600</td>\n",
       "      <td>2</td>\n",
       "      <td>정유미</td>\n",
       "    </tr>\n",
       "    <tr>\n",
       "      <th>3</th>\n",
       "      <td>600</td>\n",
       "      <td>3</td>\n",
       "      <td>김율호</td>\n",
       "    </tr>\n",
       "    <tr>\n",
       "      <th>4</th>\n",
       "      <td>600</td>\n",
       "      <td>4</td>\n",
       "      <td>마동석</td>\n",
       "    </tr>\n",
       "  </tbody>\n",
       "</table>\n",
       "</div>"
      ],
      "text/plain": [
       "   level_0  level_1  배우별\n",
       "0      600        0   공유\n",
       "1      600        1  김정희\n",
       "2      600        2  정유미\n",
       "3      600        3  김율호\n",
       "4      600        4  마동석"
      ]
     },
     "execution_count": 8,
     "metadata": {
      "tags": []
     },
     "output_type": "execute_result"
    }
   ],
   "source": [
    "df_actor2016_1 = df_actor_2016.reset_index()\n",
    "df_actor2016_1.head()"
   ]
  },
  {
   "cell_type": "code",
   "execution_count": 0,
   "metadata": {
    "colab": {},
    "colab_type": "code",
    "id": "mf9-qrJZB-a_"
   },
   "outputs": [],
   "source": [
    "df_actor2016_1 = df_actor2016_1.rename(columns = {'level_0':'idx1', 'level_1':'idx2'})"
   ]
  },
  {
   "cell_type": "code",
   "execution_count": 0,
   "metadata": {
    "colab": {},
    "colab_type": "code",
    "id": "Vk1lVgpGB-bB",
    "outputId": "4eec2aa1-7f56-4997-bb50-5e660145941e"
   },
   "outputs": [
    {
     "data": {
      "text/plain": [
       "Index(['idx1', 'idx2', '배우별'], dtype='object')"
      ]
     },
     "execution_count": 14,
     "metadata": {
      "tags": []
     },
     "output_type": "execute_result"
    }
   ],
   "source": [
    "df_actor2016_1.columns"
   ]
  },
  {
   "cell_type": "markdown",
   "metadata": {
    "colab_type": "text",
    "id": "pD8KhBi1B-bH"
   },
   "source": [
    "### 1-2. 출연배우 영화 당 상위10명까지 추출\n",
    "    주조연 10명까지 영화의 주요배우라고 가정하였음"
   ]
  },
  {
   "cell_type": "code",
   "execution_count": 0,
   "metadata": {
    "colab": {},
    "colab_type": "code",
    "id": "4iCmBqwJB-bI",
    "outputId": "bfd8a3a3-e065-41c9-f77d-f0834f1c14cc"
   },
   "outputs": [
    {
     "data": {
      "text/html": [
       "<div>\n",
       "<style scoped>\n",
       "    .dataframe tbody tr th:only-of-type {\n",
       "        vertical-align: middle;\n",
       "    }\n",
       "\n",
       "    .dataframe tbody tr th {\n",
       "        vertical-align: top;\n",
       "    }\n",
       "\n",
       "    .dataframe thead th {\n",
       "        text-align: right;\n",
       "    }\n",
       "</style>\n",
       "<table border=\"1\" class=\"dataframe\">\n",
       "  <thead>\n",
       "    <tr style=\"text-align: right;\">\n",
       "      <th></th>\n",
       "      <th>idx1</th>\n",
       "      <th>idx2</th>\n",
       "      <th>배우별</th>\n",
       "    </tr>\n",
       "  </thead>\n",
       "  <tbody>\n",
       "    <tr>\n",
       "      <th>0</th>\n",
       "      <td>600</td>\n",
       "      <td>0</td>\n",
       "      <td>공유</td>\n",
       "    </tr>\n",
       "    <tr>\n",
       "      <th>1</th>\n",
       "      <td>600</td>\n",
       "      <td>1</td>\n",
       "      <td>김정희</td>\n",
       "    </tr>\n",
       "    <tr>\n",
       "      <th>2</th>\n",
       "      <td>600</td>\n",
       "      <td>2</td>\n",
       "      <td>정유미</td>\n",
       "    </tr>\n",
       "    <tr>\n",
       "      <th>3</th>\n",
       "      <td>600</td>\n",
       "      <td>3</td>\n",
       "      <td>김율호</td>\n",
       "    </tr>\n",
       "    <tr>\n",
       "      <th>4</th>\n",
       "      <td>600</td>\n",
       "      <td>4</td>\n",
       "      <td>마동석</td>\n",
       "    </tr>\n",
       "    <tr>\n",
       "      <th>5</th>\n",
       "      <td>600</td>\n",
       "      <td>5</td>\n",
       "      <td>최우식</td>\n",
       "    </tr>\n",
       "    <tr>\n",
       "      <th>6</th>\n",
       "      <td>600</td>\n",
       "      <td>6</td>\n",
       "      <td>안소희</td>\n",
       "    </tr>\n",
       "    <tr>\n",
       "      <th>7</th>\n",
       "      <td>600</td>\n",
       "      <td>7</td>\n",
       "      <td>김의성</td>\n",
       "    </tr>\n",
       "    <tr>\n",
       "      <th>8</th>\n",
       "      <td>600</td>\n",
       "      <td>8</td>\n",
       "      <td>김수안</td>\n",
       "    </tr>\n",
       "    <tr>\n",
       "      <th>9</th>\n",
       "      <td>600</td>\n",
       "      <td>9</td>\n",
       "      <td>박민우</td>\n",
       "    </tr>\n",
       "  </tbody>\n",
       "</table>\n",
       "</div>"
      ],
      "text/plain": [
       "   idx1  idx2  배우별\n",
       "0   600     0   공유\n",
       "1   600     1  김정희\n",
       "2   600     2  정유미\n",
       "3   600     3  김율호\n",
       "4   600     4  마동석\n",
       "5   600     5  최우식\n",
       "6   600     6  안소희\n",
       "7   600     7  김의성\n",
       "8   600     8  김수안\n",
       "9   600     9  박민우"
      ]
     },
     "execution_count": 10,
     "metadata": {
      "tags": []
     },
     "output_type": "execute_result"
    }
   ],
   "source": [
    "df_actor_2016_test = df_actor2016_1[(df_actor2016_1['idx2'] >= 0) & (df_actor2016_1['idx2'] <= 9)]\n",
    "df_actor_2016_test.head(10)"
   ]
  },
  {
   "cell_type": "code",
   "execution_count": 0,
   "metadata": {
    "colab": {},
    "colab_type": "code",
    "id": "0xBOv5GCB-bP",
    "outputId": "35a8e390-1e75-4adc-ac44-48f3bac87a97"
   },
   "outputs": [
    {
     "data": {
      "text/html": [
       "<div>\n",
       "<style scoped>\n",
       "    .dataframe tbody tr th:only-of-type {\n",
       "        vertical-align: middle;\n",
       "    }\n",
       "\n",
       "    .dataframe tbody tr th {\n",
       "        vertical-align: top;\n",
       "    }\n",
       "\n",
       "    .dataframe thead th {\n",
       "        text-align: right;\n",
       "    }\n",
       "</style>\n",
       "<table border=\"1\" class=\"dataframe\">\n",
       "  <thead>\n",
       "    <tr style=\"text-align: right;\">\n",
       "      <th></th>\n",
       "      <th>index</th>\n",
       "      <th>idx2</th>\n",
       "      <th>배우별</th>\n",
       "    </tr>\n",
       "  </thead>\n",
       "  <tbody>\n",
       "    <tr>\n",
       "      <th>0</th>\n",
       "      <td>600</td>\n",
       "      <td>0</td>\n",
       "      <td>공유</td>\n",
       "    </tr>\n",
       "    <tr>\n",
       "      <th>1</th>\n",
       "      <td>600</td>\n",
       "      <td>1</td>\n",
       "      <td>김정희</td>\n",
       "    </tr>\n",
       "    <tr>\n",
       "      <th>2</th>\n",
       "      <td>600</td>\n",
       "      <td>2</td>\n",
       "      <td>정유미</td>\n",
       "    </tr>\n",
       "    <tr>\n",
       "      <th>3</th>\n",
       "      <td>600</td>\n",
       "      <td>3</td>\n",
       "      <td>김율호</td>\n",
       "    </tr>\n",
       "    <tr>\n",
       "      <th>4</th>\n",
       "      <td>600</td>\n",
       "      <td>4</td>\n",
       "      <td>마동석</td>\n",
       "    </tr>\n",
       "  </tbody>\n",
       "</table>\n",
       "</div>"
      ],
      "text/plain": [
       "   index  idx2  배우별\n",
       "0    600     0   공유\n",
       "1    600     1  김정희\n",
       "2    600     2  정유미\n",
       "3    600     3  김율호\n",
       "4    600     4  마동석"
      ]
     },
     "execution_count": 11,
     "metadata": {
      "tags": []
     },
     "output_type": "execute_result"
    }
   ],
   "source": [
    "df_actor_2016_test = df_actor_2016_test.rename(columns = {'idx1':'index'})\n",
    "df_actor_2016_test.head()"
   ]
  },
  {
   "cell_type": "markdown",
   "metadata": {
    "colab_type": "text",
    "id": "5ZlDxUi8B-bS"
   },
   "source": [
    "### 1-3. 배우별 영화명, 관객수 추출"
   ]
  },
  {
   "cell_type": "code",
   "execution_count": 0,
   "metadata": {
    "colab": {},
    "colab_type": "code",
    "id": "BDRQTVscB-bU"
   },
   "outputs": [],
   "source": [
    "# df_2016_r 에  df_actor_2016_test merge 시키기\n",
    "movie2 = pd.merge(df_2016_r, df_actor_2016_test, how='right')"
   ]
  },
  {
   "cell_type": "code",
   "execution_count": 0,
   "metadata": {
    "colab": {},
    "colab_type": "code",
    "id": "jiCqo2DKB-bW",
    "outputId": "473bef2c-0df1-4c36-dc43-fa0e0deb71c8"
   },
   "outputs": [
    {
     "data": {
      "text/plain": [
       "Index(['index', 'year', 'rank', '영화명', '개봉일', '매출액', '누적매출액', '관객수', '누적관객수',\n",
       "       '스크린수', '상영횟수', '대표국적', '제작사', '배급사', '등급', '장르', '감독', '배우', 'idx2',\n",
       "       '배우별'],\n",
       "      dtype='object')"
      ]
     },
     "execution_count": 47,
     "metadata": {
      "tags": []
     },
     "output_type": "execute_result"
    }
   ],
   "source": [
    "movie2.columns"
   ]
  },
  {
   "cell_type": "code",
   "execution_count": 0,
   "metadata": {
    "colab": {},
    "colab_type": "code",
    "id": "wqZ20i_5B-bZ",
    "outputId": "612002d2-9479-406a-fec5-2708aeb72cf6"
   },
   "outputs": [
    {
     "data": {
      "text/plain": [
       "(704, 20)"
      ]
     },
     "execution_count": 48,
     "metadata": {
      "tags": []
     },
     "output_type": "execute_result"
    }
   ],
   "source": [
    "movie2.shape"
   ]
  },
  {
   "cell_type": "code",
   "execution_count": 0,
   "metadata": {
    "colab": {},
    "colab_type": "code",
    "id": "56QuiZXjB-bc",
    "outputId": "5e93d323-0014-42ff-caca-96b5d945adff"
   },
   "outputs": [
    {
     "data": {
      "text/plain": [
       "(704, 6)"
      ]
     },
     "execution_count": 57,
     "metadata": {
      "tags": []
     },
     "output_type": "execute_result"
    }
   ],
   "source": [
    "movie2 = movie2[['배우별', '영화명', '개봉일', '상영횟수', '매출액', '누적매출액']]\n",
    "movie2.shape"
   ]
  },
  {
   "cell_type": "code",
   "execution_count": 0,
   "metadata": {
    "colab": {},
    "colab_type": "code",
    "id": "YRn3c19HB-bh",
    "outputId": "8a344cec-3abb-499b-f01d-97499d6244c3"
   },
   "outputs": [
    {
     "data": {
      "text/plain": [
       "'조혜원'"
      ]
     },
     "execution_count": 64,
     "metadata": {
      "tags": []
     },
     "output_type": "execute_result"
    }
   ],
   "source": [
    "movie2['배우별'][703]"
   ]
  },
  {
   "cell_type": "markdown",
   "metadata": {
    "colab_type": "text",
    "id": "Zh6590T1B-bl"
   },
   "source": [
    "### 1-4. 개봉일, 매출액, 누적매출액 type 변환"
   ]
  },
  {
   "cell_type": "code",
   "execution_count": 0,
   "metadata": {
    "colab": {},
    "colab_type": "code",
    "id": "B26CWlIiB-bm",
    "outputId": "7dee39b2-8126-4b75-e83e-4bcbe19eb59a"
   },
   "outputs": [
    {
     "data": {
      "text/plain": [
       "pandas._libs.tslibs.timestamps.Timestamp"
      ]
     },
     "execution_count": 58,
     "metadata": {
      "tags": []
     },
     "output_type": "execute_result"
    }
   ],
   "source": [
    "# 1. 개봉일 type 변환\n",
    "import datetime\n",
    "\n",
    "movie2['개봉일'] = pd.to_datetime(movie2['개봉일'])\n",
    "type(movie2['개봉일'][0])"
   ]
  },
  {
   "cell_type": "code",
   "execution_count": 0,
   "metadata": {
    "colab": {},
    "colab_type": "code",
    "id": "3MsafU8iB-bp",
    "outputId": "b9238ef1-ee3b-4082-a483-d917a8276b14"
   },
   "outputs": [
    {
     "ename": "AttributeError",
     "evalue": "Can only use .str accessor with string values, which use np.object_ dtype in pandas",
     "output_type": "error",
     "traceback": [
      "\u001b[1;31m---------------------------------------------------------------------------\u001b[0m",
      "\u001b[1;31mAttributeError\u001b[0m                            Traceback (most recent call last)",
      "\u001b[1;32m<ipython-input-59-4fbc14980cb4>\u001b[0m in \u001b[0;36m<module>\u001b[1;34m\u001b[0m\n\u001b[0;32m      1\u001b[0m \u001b[1;31m# 2. 매출액, 누적매출액 type 변환\u001b[0m\u001b[1;33m\u001b[0m\u001b[1;33m\u001b[0m\u001b[1;33m\u001b[0m\u001b[0m\n\u001b[0;32m      2\u001b[0m \u001b[1;33m\u001b[0m\u001b[0m\n\u001b[1;32m----> 3\u001b[1;33m \u001b[0mmovie2\u001b[0m\u001b[1;33m[\u001b[0m\u001b[1;34m'매출액'\u001b[0m\u001b[1;33m]\u001b[0m \u001b[1;33m=\u001b[0m \u001b[0mmovie2\u001b[0m\u001b[1;33m[\u001b[0m\u001b[1;34m'매출액'\u001b[0m\u001b[1;33m]\u001b[0m\u001b[1;33m.\u001b[0m\u001b[0mstr\u001b[0m\u001b[1;33m.\u001b[0m\u001b[0mreplace\u001b[0m\u001b[1;33m(\u001b[0m\u001b[1;34m','\u001b[0m\u001b[1;33m,\u001b[0m\u001b[1;34m''\u001b[0m\u001b[1;33m)\u001b[0m\u001b[1;33m\u001b[0m\u001b[1;33m\u001b[0m\u001b[0m\n\u001b[0m\u001b[0;32m      4\u001b[0m \u001b[0mmovie2\u001b[0m\u001b[1;33m[\u001b[0m\u001b[1;34m'누적매출액'\u001b[0m\u001b[1;33m]\u001b[0m \u001b[1;33m=\u001b[0m \u001b[0mmovie2\u001b[0m\u001b[1;33m[\u001b[0m\u001b[1;34m'누적매출액'\u001b[0m\u001b[1;33m]\u001b[0m\u001b[1;33m.\u001b[0m\u001b[0mstr\u001b[0m\u001b[1;33m.\u001b[0m\u001b[0mreplace\u001b[0m\u001b[1;33m(\u001b[0m\u001b[1;34m','\u001b[0m\u001b[1;33m,\u001b[0m\u001b[1;34m''\u001b[0m\u001b[1;33m)\u001b[0m\u001b[1;33m\u001b[0m\u001b[1;33m\u001b[0m\u001b[0m\n",
      "\u001b[1;32m~\\Anaconda3\\lib\\site-packages\\pandas\\core\\generic.py\u001b[0m in \u001b[0;36m__getattr__\u001b[1;34m(self, name)\u001b[0m\n\u001b[0;32m   4370\u001b[0m         if (name in self._internal_names_set or name in self._metadata or\n\u001b[0;32m   4371\u001b[0m                 name in self._accessors):\n\u001b[1;32m-> 4372\u001b[1;33m             \u001b[1;32mreturn\u001b[0m \u001b[0mobject\u001b[0m\u001b[1;33m.\u001b[0m\u001b[0m__getattribute__\u001b[0m\u001b[1;33m(\u001b[0m\u001b[0mself\u001b[0m\u001b[1;33m,\u001b[0m \u001b[0mname\u001b[0m\u001b[1;33m)\u001b[0m\u001b[1;33m\u001b[0m\u001b[1;33m\u001b[0m\u001b[0m\n\u001b[0m\u001b[0;32m   4373\u001b[0m         \u001b[1;32melse\u001b[0m\u001b[1;33m:\u001b[0m\u001b[1;33m\u001b[0m\u001b[1;33m\u001b[0m\u001b[0m\n\u001b[0;32m   4374\u001b[0m             \u001b[1;32mif\u001b[0m \u001b[0mself\u001b[0m\u001b[1;33m.\u001b[0m\u001b[0m_info_axis\u001b[0m\u001b[1;33m.\u001b[0m\u001b[0m_can_hold_identifiers_and_holds_name\u001b[0m\u001b[1;33m(\u001b[0m\u001b[0mname\u001b[0m\u001b[1;33m)\u001b[0m\u001b[1;33m:\u001b[0m\u001b[1;33m\u001b[0m\u001b[1;33m\u001b[0m\u001b[0m\n",
      "\u001b[1;32m~\\Anaconda3\\lib\\site-packages\\pandas\\core\\accessor.py\u001b[0m in \u001b[0;36m__get__\u001b[1;34m(self, obj, cls)\u001b[0m\n\u001b[0;32m    131\u001b[0m             \u001b[1;31m# we're accessing the attribute of the class, i.e., Dataset.geo\u001b[0m\u001b[1;33m\u001b[0m\u001b[1;33m\u001b[0m\u001b[1;33m\u001b[0m\u001b[0m\n\u001b[0;32m    132\u001b[0m             \u001b[1;32mreturn\u001b[0m \u001b[0mself\u001b[0m\u001b[1;33m.\u001b[0m\u001b[0m_accessor\u001b[0m\u001b[1;33m\u001b[0m\u001b[1;33m\u001b[0m\u001b[0m\n\u001b[1;32m--> 133\u001b[1;33m         \u001b[0maccessor_obj\u001b[0m \u001b[1;33m=\u001b[0m \u001b[0mself\u001b[0m\u001b[1;33m.\u001b[0m\u001b[0m_accessor\u001b[0m\u001b[1;33m(\u001b[0m\u001b[0mobj\u001b[0m\u001b[1;33m)\u001b[0m\u001b[1;33m\u001b[0m\u001b[1;33m\u001b[0m\u001b[0m\n\u001b[0m\u001b[0;32m    134\u001b[0m         \u001b[1;31m# Replace the property with the accessor object. Inspired by:\u001b[0m\u001b[1;33m\u001b[0m\u001b[1;33m\u001b[0m\u001b[1;33m\u001b[0m\u001b[0m\n\u001b[0;32m    135\u001b[0m         \u001b[1;31m# http://www.pydanny.com/cached-property.html\u001b[0m\u001b[1;33m\u001b[0m\u001b[1;33m\u001b[0m\u001b[1;33m\u001b[0m\u001b[0m\n",
      "\u001b[1;32m~\\Anaconda3\\lib\\site-packages\\pandas\\core\\strings.py\u001b[0m in \u001b[0;36m__init__\u001b[1;34m(self, data)\u001b[0m\n\u001b[0;32m   1893\u001b[0m \u001b[1;33m\u001b[0m\u001b[0m\n\u001b[0;32m   1894\u001b[0m     \u001b[1;32mdef\u001b[0m \u001b[0m__init__\u001b[0m\u001b[1;33m(\u001b[0m\u001b[0mself\u001b[0m\u001b[1;33m,\u001b[0m \u001b[0mdata\u001b[0m\u001b[1;33m)\u001b[0m\u001b[1;33m:\u001b[0m\u001b[1;33m\u001b[0m\u001b[1;33m\u001b[0m\u001b[0m\n\u001b[1;32m-> 1895\u001b[1;33m         \u001b[0mself\u001b[0m\u001b[1;33m.\u001b[0m\u001b[0m_validate\u001b[0m\u001b[1;33m(\u001b[0m\u001b[0mdata\u001b[0m\u001b[1;33m)\u001b[0m\u001b[1;33m\u001b[0m\u001b[1;33m\u001b[0m\u001b[0m\n\u001b[0m\u001b[0;32m   1896\u001b[0m         \u001b[0mself\u001b[0m\u001b[1;33m.\u001b[0m\u001b[0m_is_categorical\u001b[0m \u001b[1;33m=\u001b[0m \u001b[0mis_categorical_dtype\u001b[0m\u001b[1;33m(\u001b[0m\u001b[0mdata\u001b[0m\u001b[1;33m)\u001b[0m\u001b[1;33m\u001b[0m\u001b[1;33m\u001b[0m\u001b[0m\n\u001b[0;32m   1897\u001b[0m \u001b[1;33m\u001b[0m\u001b[0m\n",
      "\u001b[1;32m~\\Anaconda3\\lib\\site-packages\\pandas\\core\\strings.py\u001b[0m in \u001b[0;36m_validate\u001b[1;34m(data)\u001b[0m\n\u001b[0;32m   1915\u001b[0m             \u001b[1;31m# (instead of test for object dtype), but that isn't practical for\u001b[0m\u001b[1;33m\u001b[0m\u001b[1;33m\u001b[0m\u001b[1;33m\u001b[0m\u001b[0m\n\u001b[0;32m   1916\u001b[0m             \u001b[1;31m# performance reasons until we have a str dtype (GH 9343)\u001b[0m\u001b[1;33m\u001b[0m\u001b[1;33m\u001b[0m\u001b[1;33m\u001b[0m\u001b[0m\n\u001b[1;32m-> 1917\u001b[1;33m             raise AttributeError(\"Can only use .str accessor with string \"\n\u001b[0m\u001b[0;32m   1918\u001b[0m                                  \u001b[1;34m\"values, which use np.object_ dtype in \"\u001b[0m\u001b[1;33m\u001b[0m\u001b[1;33m\u001b[0m\u001b[0m\n\u001b[0;32m   1919\u001b[0m                                  \"pandas\")\n",
      "\u001b[1;31mAttributeError\u001b[0m: Can only use .str accessor with string values, which use np.object_ dtype in pandas"
     ]
    }
   ],
   "source": [
    "# 2. 매출액, 누적매출액 type 변환\n",
    "\n",
    "movie2['매출액'] = movie2['매출액'].str.replace(',','')\n",
    "movie2['누적매출액'] = movie2['누적매출액'].str.replace(',','')"
   ]
  },
  {
   "cell_type": "code",
   "execution_count": 0,
   "metadata": {
    "colab": {},
    "colab_type": "code",
    "id": "V51VU1NSB-bt"
   },
   "outputs": [],
   "source": [
    "# 2-1. int로 변환하려니 error나서 float로 변환함\n",
    "\n",
    "movie2['매출액'] = movie2['매출액'].astype('float')\n",
    "movie2['누적매출액'] = movie2['누적매출액'].astype('float')"
   ]
  },
  {
   "cell_type": "code",
   "execution_count": 0,
   "metadata": {
    "colab": {},
    "colab_type": "code",
    "id": "1_xRt_OpB-bv",
    "outputId": "b00ca408-1c66-4c5f-8c41-e48aac37959d"
   },
   "outputs": [
    {
     "data": {
      "text/html": [
       "<div>\n",
       "<style scoped>\n",
       "    .dataframe tbody tr th:only-of-type {\n",
       "        vertical-align: middle;\n",
       "    }\n",
       "\n",
       "    .dataframe tbody tr th {\n",
       "        vertical-align: top;\n",
       "    }\n",
       "\n",
       "    .dataframe thead th {\n",
       "        text-align: right;\n",
       "    }\n",
       "</style>\n",
       "<table border=\"1\" class=\"dataframe\">\n",
       "  <thead>\n",
       "    <tr style=\"text-align: right;\">\n",
       "      <th></th>\n",
       "      <th></th>\n",
       "      <th></th>\n",
       "      <th></th>\n",
       "      <th>누적매출액</th>\n",
       "      <th>매출액</th>\n",
       "    </tr>\n",
       "    <tr>\n",
       "      <th>배우별</th>\n",
       "      <th>영화명</th>\n",
       "      <th>상영횟수</th>\n",
       "      <th>개봉일</th>\n",
       "      <th></th>\n",
       "      <th></th>\n",
       "    </tr>\n",
       "  </thead>\n",
       "  <tbody>\n",
       "    <tr>\n",
       "      <th rowspan=\"2\" valign=\"top\">J.K. 시몬스</th>\n",
       "      <th>라라랜드</th>\n",
       "      <th>56,408</th>\n",
       "      <th>2016-12-07</th>\n",
       "      <td>1.999614e+10</td>\n",
       "      <td>1.999614e+10</td>\n",
       "    </tr>\n",
       "    <tr>\n",
       "      <th>쿵푸팬더3</th>\n",
       "      <th>97,404</th>\n",
       "      <th>2016-01-28</th>\n",
       "      <td>3.134080e+10</td>\n",
       "      <td>3.134080e+10</td>\n",
       "    </tr>\n",
       "    <tr>\n",
       "      <th>T.J. 밀러</th>\n",
       "      <th>데드풀</th>\n",
       "      <th>82,521</th>\n",
       "      <th>2016-02-17</th>\n",
       "      <td>2.759562e+10</td>\n",
       "      <td>2.759562e+10</td>\n",
       "    </tr>\n",
       "    <tr>\n",
       "      <th>가브리엘 베이트먼</th>\n",
       "      <th>라이트 아웃</th>\n",
       "      <th>34,444</th>\n",
       "      <th>2016-08-24</th>\n",
       "      <td>8.893060e+09</td>\n",
       "      <td>8.893060e+09</td>\n",
       "    </tr>\n",
       "    <tr>\n",
       "      <th>강경탁</th>\n",
       "      <th>계춘할망</th>\n",
       "      <th>19,644</th>\n",
       "      <th>2016-05-19</th>\n",
       "      <td>3.600794e+09</td>\n",
       "      <td>3.600794e+09</td>\n",
       "    </tr>\n",
       "  </tbody>\n",
       "</table>\n",
       "</div>"
      ],
      "text/plain": [
       "                                           누적매출액           매출액\n",
       "배우별       영화명    상영횟수   개봉일                                   \n",
       "J.K. 시몬스  라라랜드   56,408 2016-12-07  1.999614e+10  1.999614e+10\n",
       "          쿵푸팬더3  97,404 2016-01-28  3.134080e+10  3.134080e+10\n",
       "T.J. 밀러   데드풀    82,521 2016-02-17  2.759562e+10  2.759562e+10\n",
       "가브리엘 베이트먼 라이트 아웃 34,444 2016-08-24  8.893060e+09  8.893060e+09\n",
       "강경탁       계춘할망   19,644 2016-05-19  3.600794e+09  3.600794e+09"
      ]
     },
     "execution_count": 78,
     "metadata": {
      "tags": []
     },
     "output_type": "execute_result"
    }
   ],
   "source": [
    "movie_2016= pd.pivot_table(movie2, values=['매출액', '누적매출액'], index=['배우별','영화명', '상영횟수', '개봉일'])\n",
    "movie_2016.head()"
   ]
  },
  {
   "cell_type": "code",
   "execution_count": 0,
   "metadata": {
    "colab": {},
    "colab_type": "code",
    "id": "NPCRMVPQB-by",
    "outputId": "f352e291-b518-475d-d4b9-067c56c6625f"
   },
   "outputs": [
    {
     "data": {
      "text/plain": [
       "(703, 6)"
      ]
     },
     "execution_count": 79,
     "metadata": {
      "tags": []
     },
     "output_type": "execute_result"
    }
   ],
   "source": [
    "movie_2016 = movie_2016.reset_index().rename(columns = {'배우별' : '배우명'})\n",
    "movie_2016.shape # 2016년도 배우 총 703명"
   ]
  },
  {
   "cell_type": "markdown",
   "metadata": {
    "colab_type": "text",
    "id": "O2Ngmdp8B-b3"
   },
   "source": [
    "#### 상영횟수가 str 이라서, int로 변경"
   ]
  },
  {
   "cell_type": "code",
   "execution_count": 0,
   "metadata": {
    "colab": {},
    "colab_type": "code",
    "id": "B9VD_OTmB-b3",
    "outputId": "e2101d62-c625-4aa2-ba7d-9c8dca0f76e9"
   },
   "outputs": [
    {
     "data": {
      "text/plain": [
       "str"
      ]
     },
     "execution_count": 85,
     "metadata": {
      "tags": []
     },
     "output_type": "execute_result"
    }
   ],
   "source": [
    "type(movie_2016['상영횟수'][0])"
   ]
  },
  {
   "cell_type": "code",
   "execution_count": 0,
   "metadata": {
    "colab": {},
    "colab_type": "code",
    "id": "B8zdvuUkB-b8"
   },
   "outputs": [],
   "source": [
    "movie_2016['상영횟수'] = movie_2016['상영횟수'].str.replace(',','')\n",
    "movie_2016['상영횟수'] = movie_2016['상영횟수'].astype('int')"
   ]
  },
  {
   "cell_type": "code",
   "execution_count": 0,
   "metadata": {
    "colab": {},
    "colab_type": "code",
    "id": "NBsC9XHwB-b-"
   },
   "outputs": [],
   "source": [
    "movie_2016.to_csv('movie_2016.csv', sep=\",\", encoding='utf8')"
   ]
  },
  {
   "cell_type": "code",
   "execution_count": 0,
   "metadata": {
    "colab": {},
    "colab_type": "code",
    "id": "LovUi2vXB-cA",
    "outputId": "729eefbc-0252-4ac8-a432-418a540fb35f"
   },
   "outputs": [
    {
     "data": {
      "text/html": [
       "<div>\n",
       "<style scoped>\n",
       "    .dataframe tbody tr th:only-of-type {\n",
       "        vertical-align: middle;\n",
       "    }\n",
       "\n",
       "    .dataframe tbody tr th {\n",
       "        vertical-align: top;\n",
       "    }\n",
       "\n",
       "    .dataframe thead th {\n",
       "        text-align: right;\n",
       "    }\n",
       "</style>\n",
       "<table border=\"1\" class=\"dataframe\">\n",
       "  <thead>\n",
       "    <tr style=\"text-align: right;\">\n",
       "      <th></th>\n",
       "      <th>배우명</th>\n",
       "      <th>영화명</th>\n",
       "      <th>상영횟수</th>\n",
       "      <th>개봉일</th>\n",
       "      <th>누적매출액</th>\n",
       "      <th>매출액</th>\n",
       "    </tr>\n",
       "  </thead>\n",
       "  <tbody>\n",
       "    <tr>\n",
       "      <th>0</th>\n",
       "      <td>J.K. 시몬스</td>\n",
       "      <td>라라랜드</td>\n",
       "      <td>56408</td>\n",
       "      <td>2016-12-07</td>\n",
       "      <td>1.999614e+10</td>\n",
       "      <td>1.999614e+10</td>\n",
       "    </tr>\n",
       "    <tr>\n",
       "      <th>1</th>\n",
       "      <td>J.K. 시몬스</td>\n",
       "      <td>쿵푸팬더3</td>\n",
       "      <td>97404</td>\n",
       "      <td>2016-01-28</td>\n",
       "      <td>3.134080e+10</td>\n",
       "      <td>3.134080e+10</td>\n",
       "    </tr>\n",
       "    <tr>\n",
       "      <th>2</th>\n",
       "      <td>T.J. 밀러</td>\n",
       "      <td>데드풀</td>\n",
       "      <td>82521</td>\n",
       "      <td>2016-02-17</td>\n",
       "      <td>2.759562e+10</td>\n",
       "      <td>2.759562e+10</td>\n",
       "    </tr>\n",
       "    <tr>\n",
       "      <th>3</th>\n",
       "      <td>가브리엘 베이트먼</td>\n",
       "      <td>라이트 아웃</td>\n",
       "      <td>34444</td>\n",
       "      <td>2016-08-24</td>\n",
       "      <td>8.893060e+09</td>\n",
       "      <td>8.893060e+09</td>\n",
       "    </tr>\n",
       "    <tr>\n",
       "      <th>4</th>\n",
       "      <td>강경탁</td>\n",
       "      <td>계춘할망</td>\n",
       "      <td>19644</td>\n",
       "      <td>2016-05-19</td>\n",
       "      <td>3.600794e+09</td>\n",
       "      <td>3.600794e+09</td>\n",
       "    </tr>\n",
       "  </tbody>\n",
       "</table>\n",
       "</div>"
      ],
      "text/plain": [
       "         배우명     영화명   상영횟수        개봉일         누적매출액           매출액\n",
       "0   J.K. 시몬스    라라랜드  56408 2016-12-07  1.999614e+10  1.999614e+10\n",
       "1   J.K. 시몬스   쿵푸팬더3  97404 2016-01-28  3.134080e+10  3.134080e+10\n",
       "2    T.J. 밀러     데드풀  82521 2016-02-17  2.759562e+10  2.759562e+10\n",
       "3  가브리엘 베이트먼  라이트 아웃  34444 2016-08-24  8.893060e+09  8.893060e+09\n",
       "4        강경탁    계춘할망  19644 2016-05-19  3.600794e+09  3.600794e+09"
      ]
     },
     "execution_count": 89,
     "metadata": {
      "tags": []
     },
     "output_type": "execute_result"
    }
   ],
   "source": [
    "movie_2016.head()"
   ]
  },
  {
   "cell_type": "markdown",
   "metadata": {
    "colab_type": "text",
    "id": "bBMUoKZBB-cD"
   },
   "source": [
    "### 1-5. 개봉일 쳐내기"
   ]
  },
  {
   "cell_type": "code",
   "execution_count": 0,
   "metadata": {
    "colab": {},
    "colab_type": "code",
    "id": "O1gY-MYaB-cE",
    "outputId": "5d8631af-b5b0-43aa-9345-eeb61ae502d0"
   },
   "outputs": [
    {
     "data": {
      "text/plain": [
       "2016-02-17    29\n",
       "2016-09-07    27\n",
       "2016-06-29    25\n",
       "2016-08-03    25\n",
       "2016-04-13    24\n",
       "2016-09-28    23\n",
       "2016-07-20    21\n",
       "2016-08-10    20\n",
       "2016-12-07    19\n",
       "2016-06-09    19\n",
       "2016-09-14    18\n",
       "2016-11-30    17\n",
       "2016-11-16    17\n",
       "2016-01-14    16\n",
       "2016-07-27    15\n",
       "2016-10-26    15\n",
       "2016-12-21    15\n",
       "2016-01-21    14\n",
       "2016-03-10    14\n",
       "2016-04-07    13\n",
       "2016-07-06    13\n",
       "2016-01-07    13\n",
       "2016-06-01    13\n",
       "2016-11-09    13\n",
       "2016-05-19    13\n",
       "2016-02-24    13\n",
       "2016-05-12    12\n",
       "2016-07-13    11\n",
       "2016-10-13    10\n",
       "2015-12-30    10\n",
       "2016-04-21    10\n",
       "2016-01-27    10\n",
       "2016-02-03    10\n",
       "2015-12-16    10\n",
       "2016-05-25    10\n",
       "2016-06-16    10\n",
       "2016-12-14    10\n",
       "2016-05-04    10\n",
       "2015-12-31    10\n",
       "2016-02-04     9\n",
       "2016-11-23     9\n",
       "2016-08-17     9\n",
       "2016-04-27     8\n",
       "2016-12-28     8\n",
       "2016-01-28     8\n",
       "2016-03-24     8\n",
       "2015-12-17     7\n",
       "2016-10-19     7\n",
       "2016-03-03     5\n",
       "2016-06-22     5\n",
       "2016-08-25     5\n",
       "2016-10-05     4\n",
       "2015-12-24     4\n",
       "2016-08-31     4\n",
       "2016-08-24     4\n",
       "2016-01-02     2\n",
       "Name: 개봉일, dtype: int64"
      ]
     },
     "execution_count": 82,
     "metadata": {
      "tags": []
     },
     "output_type": "execute_result"
    }
   ],
   "source": [
    "movie_2016['개봉일'].value_counts()\n",
    "# 쳐낼 일자가 없음을 확인 (2015.12.01~2016.12.31)"
   ]
  },
  {
   "cell_type": "markdown",
   "metadata": {
    "colab_type": "text",
    "id": "g2rIIu9eB-cI"
   },
   "source": [
    "### 1-6. 배우별 영화 상영횟수 대비 매출액 비교"
   ]
  },
  {
   "cell_type": "code",
   "execution_count": 0,
   "metadata": {
    "colab": {},
    "colab_type": "code",
    "id": "Gy0mujoaB-cI",
    "outputId": "80482e03-d58f-46bb-86e0-aae29a079587"
   },
   "outputs": [
    {
     "data": {
      "text/html": [
       "<div>\n",
       "<style scoped>\n",
       "    .dataframe tbody tr th:only-of-type {\n",
       "        vertical-align: middle;\n",
       "    }\n",
       "\n",
       "    .dataframe tbody tr th {\n",
       "        vertical-align: top;\n",
       "    }\n",
       "\n",
       "    .dataframe thead th {\n",
       "        text-align: right;\n",
       "    }\n",
       "</style>\n",
       "<table border=\"1\" class=\"dataframe\">\n",
       "  <thead>\n",
       "    <tr style=\"text-align: right;\">\n",
       "      <th></th>\n",
       "      <th>상영횟수</th>\n",
       "      <th>누적매출액</th>\n",
       "      <th>매출액</th>\n",
       "    </tr>\n",
       "    <tr>\n",
       "      <th>배우명</th>\n",
       "      <th></th>\n",
       "      <th></th>\n",
       "      <th></th>\n",
       "    </tr>\n",
       "  </thead>\n",
       "  <tbody>\n",
       "    <tr>\n",
       "      <th>J.K. 시몬스</th>\n",
       "      <td>153812</td>\n",
       "      <td>5.133694e+10</td>\n",
       "      <td>5.133694e+10</td>\n",
       "    </tr>\n",
       "    <tr>\n",
       "      <th>T.J. 밀러</th>\n",
       "      <td>82521</td>\n",
       "      <td>2.759562e+10</td>\n",
       "      <td>2.759562e+10</td>\n",
       "    </tr>\n",
       "    <tr>\n",
       "      <th>가브리엘 베이트먼</th>\n",
       "      <td>34444</td>\n",
       "      <td>8.893060e+09</td>\n",
       "      <td>8.893060e+09</td>\n",
       "    </tr>\n",
       "    <tr>\n",
       "      <th>강경탁</th>\n",
       "      <td>19644</td>\n",
       "      <td>3.600794e+09</td>\n",
       "      <td>3.600794e+09</td>\n",
       "    </tr>\n",
       "    <tr>\n",
       "      <th>강동원</th>\n",
       "      <td>254722</td>\n",
       "      <td>1.210515e+11</td>\n",
       "      <td>1.210515e+11</td>\n",
       "    </tr>\n",
       "  </tbody>\n",
       "</table>\n",
       "</div>"
      ],
      "text/plain": [
       "             상영횟수         누적매출액           매출액\n",
       "배우명                                          \n",
       "J.K. 시몬스   153812  5.133694e+10  5.133694e+10\n",
       "T.J. 밀러     82521  2.759562e+10  2.759562e+10\n",
       "가브리엘 베이트먼   34444  8.893060e+09  8.893060e+09\n",
       "강경탁         19644  3.600794e+09  3.600794e+09\n",
       "강동원        254722  1.210515e+11  1.210515e+11"
      ]
     },
     "execution_count": 90,
     "metadata": {
      "tags": []
     },
     "output_type": "execute_result"
    }
   ],
   "source": [
    "sale_2016 = movie_2016.groupby(movie_2016.배우명).sum()\n",
    "sale_2016.head()"
   ]
  },
  {
   "cell_type": "code",
   "execution_count": 0,
   "metadata": {
    "colab": {},
    "colab_type": "code",
    "id": "-W4AsoPHB-cM"
   },
   "outputs": [],
   "source": [
    "sale_2016 = sale_2016.reset_index()"
   ]
  },
  {
   "cell_type": "code",
   "execution_count": 0,
   "metadata": {
    "colab": {},
    "colab_type": "code",
    "id": "1j-pbF8tB-cP",
    "outputId": "5a675105-4aa0-4784-f0b0-9f8b3daecb8f"
   },
   "outputs": [
    {
     "data": {
      "text/plain": [
       "Index(['배우명', '상영횟수', '매출액'], dtype='object')"
      ]
     },
     "execution_count": 93,
     "metadata": {
      "tags": []
     },
     "output_type": "execute_result"
    }
   ],
   "source": [
    "sale_2016 = sale_2016.drop(['누적매출액'], 1)\n",
    "sale_2016.columns"
   ]
  },
  {
   "cell_type": "code",
   "execution_count": 0,
   "metadata": {
    "colab": {},
    "colab_type": "code",
    "id": "CSIArkIJB-cS",
    "outputId": "56f41b98-ac7a-4bc8-9988-ed1662f24f66"
   },
   "outputs": [
    {
     "data": {
      "text/html": [
       "<div>\n",
       "<style scoped>\n",
       "    .dataframe tbody tr th:only-of-type {\n",
       "        vertical-align: middle;\n",
       "    }\n",
       "\n",
       "    .dataframe tbody tr th {\n",
       "        vertical-align: top;\n",
       "    }\n",
       "\n",
       "    .dataframe thead th {\n",
       "        text-align: right;\n",
       "    }\n",
       "</style>\n",
       "<table border=\"1\" class=\"dataframe\">\n",
       "  <thead>\n",
       "    <tr style=\"text-align: right;\">\n",
       "      <th></th>\n",
       "      <th>배우명</th>\n",
       "      <th>상영횟수</th>\n",
       "      <th>매출액</th>\n",
       "      <th>상영수 대비 매출액</th>\n",
       "    </tr>\n",
       "  </thead>\n",
       "  <tbody>\n",
       "    <tr>\n",
       "      <th>0</th>\n",
       "      <td>J.K. 시몬스</td>\n",
       "      <td>153812</td>\n",
       "      <td>5.133694e+10</td>\n",
       "      <td>333764.188672</td>\n",
       "    </tr>\n",
       "    <tr>\n",
       "      <th>1</th>\n",
       "      <td>T.J. 밀러</td>\n",
       "      <td>82521</td>\n",
       "      <td>2.759562e+10</td>\n",
       "      <td>334407.225446</td>\n",
       "    </tr>\n",
       "    <tr>\n",
       "      <th>2</th>\n",
       "      <td>가브리엘 베이트먼</td>\n",
       "      <td>34444</td>\n",
       "      <td>8.893060e+09</td>\n",
       "      <td>258188.943648</td>\n",
       "    </tr>\n",
       "    <tr>\n",
       "      <th>3</th>\n",
       "      <td>강경탁</td>\n",
       "      <td>19644</td>\n",
       "      <td>3.600794e+09</td>\n",
       "      <td>183302.501934</td>\n",
       "    </tr>\n",
       "    <tr>\n",
       "      <th>4</th>\n",
       "      <td>강동원</td>\n",
       "      <td>254722</td>\n",
       "      <td>1.210515e+11</td>\n",
       "      <td>475229.884851</td>\n",
       "    </tr>\n",
       "  </tbody>\n",
       "</table>\n",
       "</div>"
      ],
      "text/plain": [
       "         배우명    상영횟수           매출액     상영수 대비 매출액\n",
       "0   J.K. 시몬스  153812  5.133694e+10  333764.188672\n",
       "1    T.J. 밀러   82521  2.759562e+10  334407.225446\n",
       "2  가브리엘 베이트먼   34444  8.893060e+09  258188.943648\n",
       "3        강경탁   19644  3.600794e+09  183302.501934\n",
       "4        강동원  254722  1.210515e+11  475229.884851"
      ]
     },
     "execution_count": 94,
     "metadata": {
      "tags": []
     },
     "output_type": "execute_result"
    }
   ],
   "source": [
    "# 상영횟수 대비 매출액 컬럼 만들기\n",
    "\n",
    "sale_2016[\"상영수 대비 매출액\"] = sale_2016['매출액']/sale_2016['상영횟수']\n",
    "sale_2016.head()"
   ]
  },
  {
   "cell_type": "code",
   "execution_count": 0,
   "metadata": {
    "colab": {},
    "colab_type": "code",
    "id": "VGGPPb81B-cW",
    "outputId": "f035943a-4938-46cf-f869-40b7c1ebf6e3"
   },
   "outputs": [
    {
     "data": {
      "text/plain": [
       "(593, 4)"
      ]
     },
     "execution_count": 97,
     "metadata": {
      "tags": []
     },
     "output_type": "execute_result"
    }
   ],
   "source": [
    "sale_2016.shape"
   ]
  },
  {
   "cell_type": "code",
   "execution_count": 0,
   "metadata": {
    "colab": {},
    "colab_type": "code",
    "id": "pGJhlxirB-ca",
    "outputId": "37225239-c836-4cd6-fe62-16e53fb8fa48"
   },
   "outputs": [
    {
     "data": {
      "text/html": [
       "<div>\n",
       "<style scoped>\n",
       "    .dataframe tbody tr th:only-of-type {\n",
       "        vertical-align: middle;\n",
       "    }\n",
       "\n",
       "    .dataframe tbody tr th {\n",
       "        vertical-align: top;\n",
       "    }\n",
       "\n",
       "    .dataframe thead th {\n",
       "        text-align: right;\n",
       "    }\n",
       "</style>\n",
       "<table border=\"1\" class=\"dataframe\">\n",
       "  <thead>\n",
       "    <tr style=\"text-align: right;\">\n",
       "      <th></th>\n",
       "      <th>배우명</th>\n",
       "      <th>상영횟수</th>\n",
       "      <th>매출액</th>\n",
       "      <th>상영수 대비 매출액</th>\n",
       "    </tr>\n",
       "  </thead>\n",
       "  <tbody>\n",
       "    <tr>\n",
       "      <th>301</th>\n",
       "      <td>양정인</td>\n",
       "      <td>22769</td>\n",
       "      <td>2.440004e+09</td>\n",
       "      <td>107163.433308</td>\n",
       "    </tr>\n",
       "    <tr>\n",
       "      <th>32</th>\n",
       "      <td>김동영</td>\n",
       "      <td>22769</td>\n",
       "      <td>2.440004e+09</td>\n",
       "      <td>107163.433308</td>\n",
       "    </tr>\n",
       "    <tr>\n",
       "      <th>332</th>\n",
       "      <td>우지원</td>\n",
       "      <td>22769</td>\n",
       "      <td>2.440004e+09</td>\n",
       "      <td>107163.433308</td>\n",
       "    </tr>\n",
       "    <tr>\n",
       "      <th>340</th>\n",
       "      <td>유정래</td>\n",
       "      <td>22769</td>\n",
       "      <td>2.440004e+09</td>\n",
       "      <td>107163.433308</td>\n",
       "    </tr>\n",
       "    <tr>\n",
       "      <th>421</th>\n",
       "      <td>전미선</td>\n",
       "      <td>22769</td>\n",
       "      <td>2.440004e+09</td>\n",
       "      <td>107163.433308</td>\n",
       "    </tr>\n",
       "    <tr>\n",
       "      <th>410</th>\n",
       "      <td>장원식</td>\n",
       "      <td>22769</td>\n",
       "      <td>2.440004e+09</td>\n",
       "      <td>107163.433308</td>\n",
       "    </tr>\n",
       "    <tr>\n",
       "      <th>420</th>\n",
       "      <td>전노민</td>\n",
       "      <td>22769</td>\n",
       "      <td>2.440004e+09</td>\n",
       "      <td>107163.433308</td>\n",
       "    </tr>\n",
       "    <tr>\n",
       "      <th>580</th>\n",
       "      <td>한효주</td>\n",
       "      <td>32322</td>\n",
       "      <td>3.768201e+09</td>\n",
       "      <td>116583.155714</td>\n",
       "    </tr>\n",
       "    <tr>\n",
       "      <th>136</th>\n",
       "      <td>류혜영</td>\n",
       "      <td>32322</td>\n",
       "      <td>3.768201e+09</td>\n",
       "      <td>116583.155714</td>\n",
       "    </tr>\n",
       "    <tr>\n",
       "      <th>507</th>\n",
       "      <td>차지연</td>\n",
       "      <td>32322</td>\n",
       "      <td>3.768201e+09</td>\n",
       "      <td>116583.155714</td>\n",
       "    </tr>\n",
       "  </tbody>\n",
       "</table>\n",
       "</div>"
      ],
      "text/plain": [
       "     배우명   상영횟수           매출액     상영수 대비 매출액\n",
       "301  양정인  22769  2.440004e+09  107163.433308\n",
       "32   김동영  22769  2.440004e+09  107163.433308\n",
       "332  우지원  22769  2.440004e+09  107163.433308\n",
       "340  유정래  22769  2.440004e+09  107163.433308\n",
       "421  전미선  22769  2.440004e+09  107163.433308\n",
       "410  장원식  22769  2.440004e+09  107163.433308\n",
       "420  전노민  22769  2.440004e+09  107163.433308\n",
       "580  한효주  32322  3.768201e+09  116583.155714\n",
       "136  류혜영  32322  3.768201e+09  116583.155714\n",
       "507  차지연  32322  3.768201e+09  116583.155714"
      ]
     },
     "execution_count": 108,
     "metadata": {
      "tags": []
     },
     "output_type": "execute_result"
    }
   ],
   "source": [
    "sale_2016.sort_values(by='상영수 대비 매출액', ascending='False').head(10)\n",
    "\n",
    "# 영진위 데이터에 있는 배우리스트가 인지도 순이 아닌 경우도 있어보인다. (outlier 살피기)"
   ]
  },
  {
   "cell_type": "markdown",
   "metadata": {
    "colab_type": "text",
    "id": "uLem5R4uB-ch"
   },
   "source": [
    "## 영진위 데이터에 있는 배우리스트가 인지도 순이 아닌 경우가 많아보인다 \n",
    "    -> 결과 왜곡발생 심할것.\n",
    "    -> 네이버 영화 api 이용하여 배우 리스트만들고, merge하기"
   ]
  },
  {
   "cell_type": "code",
   "execution_count": 0,
   "metadata": {
    "colab": {},
    "colab_type": "code",
    "id": "ekovJOZyB-ch"
   },
   "outputs": [],
   "source": [
    "# 필요없음\n",
    "\n",
    "#count_2016 = movie_2016.groupby(movie_2016.배우명).count()\n",
    "#count_2016.head()"
   ]
  },
  {
   "cell_type": "code",
   "execution_count": 0,
   "metadata": {
    "colab": {},
    "colab_type": "code",
    "id": "58ZgNZXmB-cl"
   },
   "outputs": [],
   "source": [
    "#count_2016 = count_2016.drop([\"개봉일\",\"누적매출액\",\"매출액\"],1)\n",
    "#count_2016 = count_2016.rename(columns={'영화명':'작품갯수'})\n",
    "#count_2016.head()"
   ]
  },
  {
   "cell_type": "code",
   "execution_count": 0,
   "metadata": {
    "colab": {},
    "colab_type": "code",
    "id": "_gmfo9yAB-co"
   },
   "outputs": [],
   "source": [
    "#count_2016 = count_2016.reset_index()"
   ]
  },
  {
   "cell_type": "code",
   "execution_count": 0,
   "metadata": {
    "colab": {},
    "colab_type": "code",
    "id": "BUwoCyF_B-cq"
   },
   "outputs": [],
   "source": [
    "# mean_2016 = movie_2016.groupby(movie_2016.배우명).mean()\n",
    "# mean_2016.head()"
   ]
  },
  {
   "cell_type": "code",
   "execution_count": 0,
   "metadata": {
    "colab": {},
    "colab_type": "code",
    "id": "EpSBgE2NB-cs"
   },
   "outputs": [],
   "source": [
    "#mean_2016 = mean_2016.rename(columns={'누적매출액':'누적매출액평균','매출액':'매출액평균'})\n",
    "#mean_2016.head()"
   ]
  },
  {
   "cell_type": "code",
   "execution_count": 0,
   "metadata": {
    "colab": {},
    "colab_type": "code",
    "id": "fIno01PvB-cv"
   },
   "outputs": [],
   "source": [
    "#mean_2016 = mean_2016.reset_index()"
   ]
  },
  {
   "cell_type": "code",
   "execution_count": 0,
   "metadata": {
    "colab": {},
    "colab_type": "code",
    "id": "7NRfETJZB-cx"
   },
   "outputs": [],
   "source": [
    "# 이 세 dataframe을 merge 해 주세요..\n",
    "#merge1_test = pd.merge(count_2016,sale_2016, how='outer')\n",
    "#merge1_test.head()"
   ]
  },
  {
   "cell_type": "code",
   "execution_count": 0,
   "metadata": {
    "colab": {},
    "colab_type": "code",
    "id": "zm25wz2ZB-cy"
   },
   "outputs": [],
   "source": [
    "#merge2_test = pd.merge(merge1_test,mean_2016, how='outer')"
   ]
  },
  {
   "cell_type": "code",
   "execution_count": 0,
   "metadata": {
    "colab": {},
    "colab_type": "code",
    "id": "BpIBRwRfB-c0"
   },
   "outputs": [],
   "source": [
    "# 데이터 파악하기\n",
    "#merge2_test.sort_values(by=\"매출액평균\", ascending=False).head()\n",
    "\n",
    "# 평균으로 봤을때 데이터 결과가 무의미(왜곡발생)한 것으로 보임 => 작품갯수 or 매출액을 기준으로 변경"
   ]
  },
  {
   "cell_type": "code",
   "execution_count": 0,
   "metadata": {
    "colab": {},
    "colab_type": "code",
    "id": "D666GhSsB-c1"
   },
   "outputs": [],
   "source": [
    "#merge2_test = merge2_test.drop([\"누적매출액평균\", '매출액평균'], 1)\n",
    "\n",
    "# 1. 매출액 기준으로 정렬\n",
    "#merge2_test.sort_values(by=\"매출액\", ascending=False).head()"
   ]
  },
  {
   "cell_type": "code",
   "execution_count": 0,
   "metadata": {
    "colab": {},
    "colab_type": "code",
    "id": "SLpeq0XbB-c3"
   },
   "outputs": [],
   "source": [
    "# 2. 작품갯수로 정렬\n",
    "#merge2_test.sort_values(by=\"작품갯수\", ascending=False).head()"
   ]
  },
  {
   "cell_type": "code",
   "execution_count": 0,
   "metadata": {
    "colab": {},
    "colab_type": "code",
    "id": "ijCV8dr7B-c4"
   },
   "outputs": [],
   "source": [
    "#merge2_test.to_csv('actor16.csv', sep=\",\", encoding='utf8')"
   ]
  },
  {
   "cell_type": "code",
   "execution_count": 0,
   "metadata": {
    "colab": {},
    "colab_type": "code",
    "id": "KMrCpGLfB-c6"
   },
   "outputs": [],
   "source": []
  }
 ],
 "metadata": {
  "colab": {
   "name": "0505_정보영_배우전처리.ipynb",
   "provenance": [],
   "toc_visible": true,
   "version": "0.3.2"
  },
  "kernelspec": {
   "display_name": "Python 3",
   "language": "python",
   "name": "python3"
  },
  "language_info": {
   "codemirror_mode": {
    "name": "ipython",
    "version": 3
   },
   "file_extension": ".py",
   "mimetype": "text/x-python",
   "name": "python",
   "nbconvert_exporter": "python",
   "pygments_lexer": "ipython3",
   "version": "3.7.1"
  }
 },
 "nbformat": 4,
 "nbformat_minor": 1
}
